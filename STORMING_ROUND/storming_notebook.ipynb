{
  "cells": [
    {
      "cell_type": "markdown",
      "metadata": {
        "id": "nmakG7b78Dsl"
      },
      "source": [
        "# 1. Understand and Preprocess the Data"
      ]
    },
    {
      "cell_type": "markdown",
      "metadata": {
        "id": "5TeobBqH8Dsm"
      },
      "source": [
        "## 1.1. Load the Data"
      ]
    },
    {
      "cell_type": "code",
      "execution_count": 1,
      "metadata": {
        "colab": {
          "base_uri": "https://localhost:8080/"
        },
        "id": "3RTresA58Dsm",
        "outputId": "4c7de09a-8fb1-44b9-f820-45b05b9c46c9"
      },
      "outputs": [
        {
          "name": "stderr",
          "output_type": "stream",
          "text": [
            "C:\\Users\\usith\\AppData\\Local\\Temp\\ipykernel_40648\\2005052389.py:3: DtypeWarning: Columns (3,4,5) have mixed types. Specify dtype option on import or set low_memory=False.\n",
            "  train_df = pd.read_csv('train_kaggle.csv')\n"
          ]
        }
      ],
      "source": [
        "import pandas as pd\n",
        "\n",
        "train_df = pd.read_csv('train_kaggle.csv')\n",
        "test_df = pd.read_csv('test_kaggle.csv')"
      ]
    },
    {
      "cell_type": "markdown",
      "metadata": {
        "id": "oEEA36UF8Dsn"
      },
      "source": [
        "## 1.2. Explore the Data"
      ]
    },
    {
      "cell_type": "code",
      "execution_count": 2,
      "metadata": {
        "colab": {
          "base_uri": "https://localhost:8080/"
        },
        "id": "3gVKwLTJ8Dsn",
        "outputId": "4e4b8809-e460-478c-8f0b-059c646f956e"
      },
      "outputs": [
        {
          "name": "stdout",
          "output_type": "stream",
          "text": [
            "<class 'pandas.core.frame.DataFrame'>\n",
            "RangeIndex: 774155 entries, 0 to 774154\n",
            "Data columns (total 6 columns):\n",
            " #   Column            Non-Null Count   Dtype  \n",
            "---  ------            --------------   -----  \n",
            " 0   Customer_ID       774153 non-null  float64\n",
            " 1   outlet_city       774153 non-null  object \n",
            " 2   luxury_sales      774120 non-null  object \n",
            " 3   fresh_sales       774114 non-null  object \n",
            " 4   dry_sales         774125 non-null  object \n",
            " 5   cluster_catgeory  774154 non-null  object \n",
            "dtypes: float64(1), object(5)\n",
            "memory usage: 35.4+ MB\n",
            "None\n",
            "        Customer_ID\n",
            "count  7.741530e+05\n",
            "mean   1.038708e+07\n",
            "std    2.234795e+05\n",
            "min    1.000000e+07\n",
            "25%    1.019354e+07\n",
            "50%    1.038708e+07\n",
            "75%    1.058062e+07\n",
            "max    1.077415e+07\n",
            "   Customer_ID outlet_city luxury_sales fresh_sales dry_sales cluster_catgeory\n",
            "0   10493832.0    Kelaniya       1209.6       756.0    5292.0                4\n",
            "1   10178643.0    Moratuwa      1590.12     1060.08   6007.12                1\n",
            "2   10513916.0     Wattala      2288.88     1481.04   9155.52                4\n",
            "3   10334589.0     Wattala      2274.94     1739.66   9099.76                4\n",
            "4   10458365.0    Kelaniya      2345.49     2069.55   9243.99                4\n"
          ]
        }
      ],
      "source": [
        "print(train_df.info())\n",
        "print(train_df.describe())\n",
        "print(train_df.head())"
      ]
    },
    {
      "cell_type": "code",
      "execution_count": 3,
      "metadata": {
        "colab": {
          "base_uri": "https://localhost:8080/"
        },
        "id": "fdfwyKAdaU1P",
        "outputId": "2cf19523-302a-4b8e-951a-6085db784db5"
      },
      "outputs": [
        {
          "name": "stdout",
          "output_type": "stream",
          "text": [
            "<class 'pandas.core.frame.DataFrame'>\n",
            "RangeIndex: 40749 entries, 0 to 40748\n",
            "Data columns (total 5 columns):\n",
            " #   Column        Non-Null Count  Dtype \n",
            "---  ------        --------------  ----- \n",
            " 0   Customer_ID   40749 non-null  int64 \n",
            " 1   outlet_city   40749 non-null  object\n",
            " 2   luxury_sales  40749 non-null  object\n",
            " 3   fresh_sales   40749 non-null  object\n",
            " 4   dry_sales     40749 non-null  object\n",
            "dtypes: int64(1), object(4)\n",
            "memory usage: 1.6+ MB\n",
            "None\n"
          ]
        }
      ],
      "source": [
        "print(test_df.info())"
      ]
    },
    {
      "cell_type": "code",
      "execution_count": 4,
      "metadata": {
        "colab": {
          "base_uri": "https://localhost:8080/"
        },
        "id": "xV3CTLf28Dsn",
        "outputId": "af09a684-08d0-4bbc-ad6d-bf6cbd4073ed"
      },
      "outputs": [
        {
          "data": {
            "text/plain": [
              "Customer_ID          2\n",
              "outlet_city          2\n",
              "luxury_sales        35\n",
              "fresh_sales         41\n",
              "dry_sales           30\n",
              "cluster_catgeory     1\n",
              "dtype: int64"
            ]
          },
          "execution_count": 4,
          "metadata": {},
          "output_type": "execute_result"
        }
      ],
      "source": [
        "train_df.isnull().sum()"
      ]
    },
    {
      "cell_type": "code",
      "execution_count": 5,
      "metadata": {
        "colab": {
          "base_uri": "https://localhost:8080/"
        },
        "id": "xODIzDgY8Dso",
        "outputId": "28a7f116-9876-4998-f437-87e4f2904f3e"
      },
      "outputs": [
        {
          "name": "stdout",
          "output_type": "stream",
          "text": [
            "Data types of each column:\n",
            "Customer_ID         float64\n",
            "outlet_city          object\n",
            "luxury_sales         object\n",
            "fresh_sales          object\n",
            "dry_sales            object\n",
            "cluster_catgeory     object\n",
            "dtype: object\n"
          ]
        }
      ],
      "source": [
        "# Check the data types of each column\n",
        "column_data_types_train = train_df.dtypes\n",
        "\n",
        "# Display the data types\n",
        "print(\"Data types of each column:\")\n",
        "print(column_data_types_train)"
      ]
    },
    {
      "cell_type": "code",
      "execution_count": 6,
      "metadata": {
        "colab": {
          "base_uri": "https://localhost:8080/"
        },
        "id": "SqOxUAYp8Dso",
        "outputId": "2ad8bca4-682d-4717-e504-02c3c69b3bcf"
      },
      "outputs": [
        {
          "name": "stdout",
          "output_type": "stream",
          "text": [
            "        Customer_ID             outlet_city luxury_sales fresh_sales  \\\n",
            "4234     10101878.0  Dehiwala-Mount Lavinia          NaN     1686.36   \n",
            "4326     10531406.0                Kaduwela        925.8         NaN   \n",
            "4327     10311229.0                Panadura         2374         NaN   \n",
            "4333     10361798.0                   Kotte          NaN         NaN   \n",
            "4929     10414692.0                Kaduwela       1780.8         NaN   \n",
            "...             ...                     ...          ...         ...   \n",
            "754304   10006333.0              Batticaloa      3932.66         NaN   \n",
            "754306   10726566.0                  Jaffna      2728.95     2417.07   \n",
            "755630   10537627.0                 Gampaha          NaN     5371.37   \n",
            "765777   10499622.0              Katunayake      5315.57         NaN   \n",
            "774147   10493702.0              Katunayake      2624.65      2249.7   \n",
            "\n",
            "       dry_sales cluster_catgeory  \n",
            "4234     9556.04                4  \n",
            "4326      4011.8                4  \n",
            "4327      7715.5                4  \n",
            "4333     6589.44                4  \n",
            "4929         NaN                4  \n",
            "...          ...              ...  \n",
            "754304   4186.38                3  \n",
            "754306       NaN                3  \n",
            "755630   5717.91                3  \n",
            "765777   5829.98                3  \n",
            "774147       NaN                3  \n",
            "\n",
            "[94 rows x 6 columns]\n"
          ]
        }
      ],
      "source": [
        "# Select rows with any null values\n",
        "rows_with_null = train_df[train_df.isnull().any(axis=1)]\n",
        "\n",
        "# Display rows with null values\n",
        "print(rows_with_null)"
      ]
    },
    {
      "cell_type": "code",
      "execution_count": 7,
      "metadata": {
        "colab": {
          "base_uri": "https://localhost:8080/"
        },
        "id": "5a88yu2z8Dso",
        "outputId": "c071afc0-0de8-4241-ff37-d2dde6f5c382"
      },
      "outputs": [
        {
          "name": "stdout",
          "output_type": "stream",
          "text": [
            "        Customer_ID  outlet_city luxury_sales fresh_sales dry_sales  \\\n",
            "497678          NaN  Trincomalee       1682.2      2588.0    8411.0   \n",
            "497698          NaN       Jaffna       807.82     1118.52    4039.1   \n",
            "\n",
            "       cluster_catgeory  \n",
            "497678                1  \n",
            "497698                1  \n"
          ]
        }
      ],
      "source": [
        "# Select rows where Customer_ID column has null values\n",
        "rows_with_null_customer_id = train_df[train_df['Customer_ID'].isnull()]\n",
        "\n",
        "# Display rows with null values in the Customer_ID column\n",
        "print(rows_with_null_customer_id)"
      ]
    },
    {
      "cell_type": "code",
      "execution_count": 8,
      "metadata": {
        "colab": {
          "base_uri": "https://localhost:8080/"
        },
        "id": "Wz3ExXQD8Dso",
        "outputId": "10eeff3e-cabe-414e-a781-c6ffcefc5f17"
      },
      "outputs": [
        {
          "name": "stdout",
          "output_type": "stream",
          "text": [
            "        Customer_ID outlet_city luxury_sales fresh_sales dry_sales  \\\n",
            "497599   10387530.0         NaN      1309.36     1611.52   6848.96   \n",
            "497703   10107604.0         NaN       1576.5      1891.8    7041.7   \n",
            "\n",
            "       cluster_catgeory  \n",
            "497599                1  \n",
            "497703                1  \n"
          ]
        }
      ],
      "source": [
        "# Select rows where outlet_city column has null values\n",
        "rows_with_null_outlet_city = train_df[train_df['outlet_city'].isnull()]\n",
        "\n",
        "# Display rows with null values in the outlet_city column\n",
        "print(rows_with_null_outlet_city)"
      ]
    },
    {
      "cell_type": "code",
      "execution_count": 9,
      "metadata": {
        "colab": {
          "base_uri": "https://localhost:8080/"
        },
        "id": "U2vEqWAL8Dso",
        "outputId": "63c84ddd-02f9-4f31-d385-92e3341d5ba2"
      },
      "outputs": [
        {
          "name": "stdout",
          "output_type": "stream",
          "text": [
            "        Customer_ID outlet_city luxury_sales fresh_sales dry_sales  \\\n",
            "555560   10158111.0    Kalmunai      1730.52     2451.57   9662.07   \n",
            "\n",
            "       cluster_catgeory  \n",
            "555560              NaN  \n"
          ]
        }
      ],
      "source": [
        "# Select rows where cluster_catgeory column has null values\n",
        "rows_with_null_cluster_catgeory = train_df[train_df['cluster_catgeory'].isnull()]\n",
        "\n",
        "# Display rows with null values in the cluster_catgeory column\n",
        "print(rows_with_null_cluster_catgeory)"
      ]
    },
    {
      "cell_type": "code",
      "execution_count": 10,
      "metadata": {
        "colab": {
          "base_uri": "https://localhost:8080/"
        },
        "id": "fyNIFGIF8Dsp",
        "outputId": "5d14d7a3-fefd-4c6c-8fdc-713ba839d907"
      },
      "outputs": [
        {
          "name": "stdout",
          "output_type": "stream",
          "text": [
            "        Customer_ID  outlet_city luxury_sales fresh_sales dry_sales  \\\n",
            "497678          NaN  Trincomalee       1682.2      2588.0    8411.0   \n",
            "497698          NaN       Jaffna       807.82     1118.52    4039.1   \n",
            "\n",
            "       cluster_catgeory  \n",
            "497678                1  \n",
            "497698                1  \n"
          ]
        }
      ],
      "source": [
        "# Check for duplicates in Customer_ID column\n",
        "duplicates = train_df.duplicated(subset=['Customer_ID'], keep=False)\n",
        "\n",
        "# Select rows where duplicates exist in Customer_ID column\n",
        "duplicate_rows = train_df[duplicates]\n",
        "\n",
        "# Display rows with duplicate Customer_ID values\n",
        "print(duplicate_rows)"
      ]
    },
    {
      "cell_type": "code",
      "execution_count": 11,
      "metadata": {
        "colab": {
          "base_uri": "https://localhost:8080/"
        },
        "id": "v43At5ft8Dsp",
        "outputId": "269581d2-46ea-4d4d-c733-c07207f38e80"
      },
      "outputs": [
        {
          "name": "stdout",
          "output_type": "stream",
          "text": [
            "Max Customer_ID: 10774154.0\n",
            "Min Customer_ID: 10000000.0\n"
          ]
        }
      ],
      "source": [
        "# Find the maximum and minimum values of the Customer_ID column\n",
        "max_customer_id = train_df['Customer_ID'].max()\n",
        "min_customer_id = train_df['Customer_ID'].min()\n",
        "\n",
        "# Print the maximum and minimum values\n",
        "print(\"Max Customer_ID:\", max_customer_id)\n",
        "print(\"Min Customer_ID:\", min_customer_id)"
      ]
    },
    {
      "cell_type": "code",
      "execution_count": 12,
      "metadata": {
        "colab": {
          "base_uri": "https://localhost:8080/"
        },
        "id": "mnqZd9OO8Dsp",
        "outputId": "1ca060fc-9e04-46b3-ea56-2471402fab70"
      },
      "outputs": [
        {
          "name": "stdout",
          "output_type": "stream",
          "text": [
            "There are no common Customer_IDs between train and test DataFrames.\n"
          ]
        }
      ],
      "source": [
        "# Get unique Customer_ID values from train and test DataFrames\n",
        "train_customer_ids = set(train_df['Customer_ID'])\n",
        "test_customer_ids = set(test_df['Customer_ID'])\n",
        "\n",
        "# Find the intersection of unique Customer_ID values\n",
        "common_customer_ids = train_customer_ids.intersection(test_customer_ids)\n",
        "\n",
        "if common_customer_ids:\n",
        "    print(\"Common Customer_IDs between train and test DataFrames:\", common_customer_ids)\n",
        "else:\n",
        "    print(\"There are no common Customer_IDs between train and test DataFrames.\")"
      ]
    },
    {
      "cell_type": "code",
      "execution_count": 13,
      "metadata": {
        "colab": {
          "base_uri": "https://localhost:8080/"
        },
        "id": "V5t0LYm18Dsp",
        "outputId": "8386040b-27b3-4bee-9f9c-a5a60d187c31"
      },
      "outputs": [
        {
          "name": "stdout",
          "output_type": "stream",
          "text": [
            "Empty DataFrame\n",
            "Columns: [Customer_ID, outlet_city, luxury_sales, fresh_sales, dry_sales, cluster_catgeory]\n",
            "Index: []\n"
          ]
        }
      ],
      "source": [
        "# Specify columns to check\n",
        "columns_to_check = ['luxury_sales', 'fresh_sales', 'dry_sales']\n",
        "\n",
        "# Find rows where any of the specified columns have a value of 0\n",
        "rows_with_zero_values = train_df[(train_df[columns_to_check] == 0).any(axis=1)]\n",
        "\n",
        "# Display rows with 0 values in any of the specified columns\n",
        "print(rows_with_zero_values)"
      ]
    },
    {
      "cell_type": "code",
      "execution_count": 14,
      "metadata": {
        "colab": {
          "base_uri": "https://localhost:8080/"
        },
        "id": "syc48vZpeT8u",
        "outputId": "45c07ad3-9b27-42d5-da8b-6e2daefe03d2"
      },
      "outputs": [
        {
          "name": "stdout",
          "output_type": "stream",
          "text": [
            "Empty DataFrame\n",
            "Columns: []\n",
            "Index: []\n"
          ]
        }
      ],
      "source": [
        "# Specify columns to check\n",
        "columns_to_check = ['luxury_sales', 'fresh_sales', 'dry_sales']\n",
        "\n",
        "# Initialize an empty DataFrame to store rows with negative values\n",
        "rows_with_negative_values = pd.DataFrame()\n",
        "\n",
        "# Iterate over each column to check for negative values\n",
        "for column in columns_to_check:\n",
        "    for i, value in enumerate(train_df[column]):\n",
        "        try:\n",
        "            # Convert to float and check for negative values\n",
        "            if float(value) < 0:\n",
        "                rows_with_negative_values = rows_with_negative_values.append(train_df.iloc[i])\n",
        "        except ValueError:\n",
        "            # If ValueError occurs, it means the value is not numeric, so we pass\n",
        "            pass\n",
        "\n",
        "# Drop duplicates if the same row has multiple negative values in different columns\n",
        "rows_with_negative_values = rows_with_negative_values.drop_duplicates()\n",
        "\n",
        "# Display rows with negative values in any of the specified columns\n",
        "print(rows_with_negative_values)"
      ]
    },
    {
      "cell_type": "code",
      "execution_count": 15,
      "metadata": {
        "colab": {
          "base_uri": "https://localhost:8080/"
        },
        "id": "MJ4Tba5E8Dsp",
        "outputId": "53395440-7071-48df-9ef1-98c98ca3bd9c"
      },
      "outputs": [
        {
          "name": "stdout",
          "output_type": "stream",
          "text": [
            "Unique values in outlet_city column: ['Kelaniya' 'Moratuwa' 'Wattala' 'Homagama' 'Dehiwala-Mount Lavinia'\n",
            " 'Panadura' 'Kaduwela' 'Peliyagoda' 'Kotte' 'Nuwara Eliya' 'Batticaloa'\n",
            " 'Colombo' 'Jaffna' 'Gampaha' 'Kalmunai' 'Galle' 'Katunayake' 'Negombo'\n",
            " 'Trincomalee' 'Kandy' nan]\n",
            "Unique values in cluster_category column: ['4' '1' '99' '2' '5' '3' '6' '6\\\\' 4 2 1 95 3 98 5 6 nan 100.0 89.0]\n"
          ]
        }
      ],
      "source": [
        "# Unique values in outlet_city column\n",
        "unique_outlet_city_train = train_df['outlet_city'].unique()\n",
        "\n",
        "# Unique values in cluster_category column\n",
        "unique_cluster_category = train_df['cluster_catgeory'].unique()\n",
        "\n",
        "# Display unique values\n",
        "print(\"Unique values in outlet_city column:\", unique_outlet_city_train)\n",
        "print(\"Unique values in cluster_category column:\", unique_cluster_category)"
      ]
    },
    {
      "cell_type": "code",
      "execution_count": 16,
      "metadata": {
        "colab": {
          "base_uri": "https://localhost:8080/"
        },
        "id": "i5mk3HXV8Dsq",
        "outputId": "020d956a-c145-40fc-806b-83919d8e0919"
      },
      "outputs": [
        {
          "data": {
            "text/plain": [
              "Customer_ID     0\n",
              "outlet_city     0\n",
              "luxury_sales    0\n",
              "fresh_sales     0\n",
              "dry_sales       0\n",
              "dtype: int64"
            ]
          },
          "execution_count": 16,
          "metadata": {},
          "output_type": "execute_result"
        }
      ],
      "source": [
        "test_df.isnull().sum()"
      ]
    },
    {
      "cell_type": "code",
      "execution_count": 17,
      "metadata": {
        "colab": {
          "base_uri": "https://localhost:8080/"
        },
        "id": "8DTmtcsu8Dsq",
        "outputId": "afe9077a-dd46-4f70-d16d-ab5dbec8bfa6"
      },
      "outputs": [
        {
          "name": "stdout",
          "output_type": "stream",
          "text": [
            "Data types of each column:\n",
            "Customer_ID      int64\n",
            "outlet_city     object\n",
            "luxury_sales    object\n",
            "fresh_sales     object\n",
            "dry_sales       object\n",
            "dtype: object\n"
          ]
        }
      ],
      "source": [
        "# Check the data types of each column\n",
        "column_data_types_test = test_df.dtypes\n",
        "\n",
        "# Display the data types\n",
        "print(\"Data types of each column:\")\n",
        "print(column_data_types_test)"
      ]
    },
    {
      "cell_type": "code",
      "execution_count": 18,
      "metadata": {
        "colab": {
          "base_uri": "https://localhost:8080/"
        },
        "id": "osrLuABd8Dsq",
        "outputId": "86f4184b-d6ce-41f7-9d0a-154c8fa38358"
      },
      "outputs": [
        {
          "name": "stdout",
          "output_type": "stream",
          "text": [
            "Unique values in outlet_city column: ['batticaloa' 'Batticaloa' 'Colombo' 'Dehiwala-Mount Lavinia'\n",
            " 'Anuradhapura' 'Galle' 'Gampaha' 'Homagama' 'Jaffna' 'Kaduwela'\n",
            " 'Kalmunai' 'kalmunai' 'Kandy' 'Katunayake' 'Kelaniya' 'Madawachiya'\n",
            " 'Kotte' 'Moratuwa' 'MoraTuwa' 'Negombo' 'Nuwara Eliya' 'Panadura'\n",
            " 'Peliyagoda' 'PeliyagodA' 'Trincomale' 'Trincomalee' 'Wattala']\n"
          ]
        }
      ],
      "source": [
        "# Unique values in outlet_city column\n",
        "unique_outlet_city_test = test_df['outlet_city'].unique()\n",
        "\n",
        "# Display unique values\n",
        "print(\"Unique values in outlet_city column:\", unique_outlet_city_test)"
      ]
    },
    {
      "cell_type": "markdown",
      "metadata": {
        "id": "pHNiQ_ts8Dsq"
      },
      "source": [
        "## 1.3. Data Preprocessing"
      ]
    },
    {
      "cell_type": "markdown",
      "metadata": {
        "id": "US2kKO4J8Dsq"
      },
      "source": [
        "### 1.3.1. Data Cleaning"
      ]
    },
    {
      "cell_type": "markdown",
      "metadata": {
        "id": "6YzM_gOw8Dsq"
      },
      "source": [
        "#### 1.3.1.1. Sales Columns"
      ]
    },
    {
      "cell_type": "markdown",
      "metadata": {
        "id": "W35QAbAl8Dsq"
      },
      "source": [
        "##### Train Dataset"
      ]
    },
    {
      "cell_type": "code",
      "execution_count": 19,
      "metadata": {
        "colab": {
          "base_uri": "https://localhost:8080/"
        },
        "id": "HaJYp_qs8Dsq",
        "outputId": "f72968dc-1cab-413f-d8b1-64deb36ecb79"
      },
      "outputs": [
        {
          "name": "stdout",
          "output_type": "stream",
          "text": [
            "Unique data types in luxury_sales column: [<class 'str'> <class 'float'>]\n",
            "Unique data types in fresh_sales column: [<class 'float'> <class 'str'>]\n",
            "Unique data types in dry_sales column: [<class 'float'> <class 'str'>]\n"
          ]
        }
      ],
      "source": [
        "# Check unique data types in the luxury_sales column\n",
        "print(\"Unique data types in luxury_sales column:\", train_df['luxury_sales'].apply(type).unique())\n",
        "print(\"Unique data types in fresh_sales column:\", train_df['fresh_sales'].apply(type).unique())\n",
        "print(\"Unique data types in dry_sales column:\", train_df['dry_sales'].apply(type).unique())"
      ]
    },
    {
      "cell_type": "code",
      "execution_count": 20,
      "metadata": {
        "colab": {
          "base_uri": "https://localhost:8080/"
        },
        "id": "DRiquMqi8Dsq",
        "outputId": "7a1f9d4a-ed11-4430-ab9c-dcacc268b191"
      },
      "outputs": [
        {
          "name": "stdout",
          "output_type": "stream",
          "text": [
            "Unique string type values in luxury_sales column: ['1209.6' '1590.12' '2288.88' ... '2624.65' '5121.42' '5833.5']\n"
          ]
        }
      ],
      "source": [
        "# Filter the luxury_sales column for string type values\n",
        "str_values_luxury_sales_train = train_df['luxury_sales'][train_df['luxury_sales'].apply(lambda x: isinstance(x, str))]\n",
        "\n",
        "# Print unique string type values\n",
        "print(\"Unique string type values in luxury_sales column:\", str_values_luxury_sales_train.unique())"
      ]
    },
    {
      "cell_type": "code",
      "execution_count": 21,
      "metadata": {
        "colab": {
          "base_uri": "https://localhost:8080/"
        },
        "id": "a1ZSAVGR8Dsr",
        "outputId": "294dd340-e0aa-4f4f-99c2-4f0c6bff6c76"
      },
      "outputs": [
        {
          "name": "stdout",
          "output_type": "stream",
          "text": [
            "Unique string type values in frtesh_sales column: ['1462.92' '1200.48' '1431' ... '3723.52' '4740.83' '4820.16']\n"
          ]
        }
      ],
      "source": [
        "# Filter the fresh_sales column for string type values\n",
        "str_values_fresh_sales_train = train_df['fresh_sales'][train_df['fresh_sales'].apply(lambda x: isinstance(x, str))]\n",
        "\n",
        "# Print unique string type values\n",
        "print(\"Unique string type values in frtesh_sales column:\", str_values_fresh_sales_train.unique())"
      ]
    },
    {
      "cell_type": "code",
      "execution_count": 22,
      "metadata": {
        "colab": {
          "base_uri": "https://localhost:8080/"
        },
        "id": "GD6nMw3Z8Dsr",
        "outputId": "dc6a016d-6628-441f-c967-59e66c3c933b"
      },
      "outputs": [
        {
          "name": "stdout",
          "output_type": "stream",
          "text": [
            "Unique string type values in dry_sales column: ['8046.06' '6502.6' '9444.6' ... '3798.23' '10287.18' '11466.16']\n"
          ]
        }
      ],
      "source": [
        "# Filter the dry_sales column for string type values\n",
        "str_values_dry_sales_train = train_df['dry_sales'][train_df['dry_sales'].apply(lambda x: isinstance(x, str))]\n",
        "\n",
        "# Print unique string type values\n",
        "print(\"Unique string type values in dry_sales column:\", str_values_dry_sales_train.unique())"
      ]
    },
    {
      "cell_type": "code",
      "execution_count": 23,
      "metadata": {
        "colab": {
          "base_uri": "https://localhost:8080/"
        },
        "id": "IqDgr9dr8Dsr",
        "outputId": "754411c5-e619-4972-a3f7-e76294883c27"
      },
      "outputs": [
        {
          "name": "stdout",
          "output_type": "stream",
          "text": [
            "Unique string type values in luxury_sales column: ['One thousand four hundread ruppes' 'nul' 'Eight hundread ruppess'\n",
            " 'six hundread and hirty ' 'Thousand tow hundread '\n",
            " 'seven hundread and nine ruppees' 'Three thousand two hundread ruppess'\n",
            " 'Four thousand one hundread ruppess']\n"
          ]
        }
      ],
      "source": [
        "# Convert string values in the luxury_sales column to float\n",
        "for i, value in enumerate(train_df['luxury_sales']):\n",
        "    try:\n",
        "        train_df.at[i, 'luxury_sales'] = float(value)\n",
        "    except ValueError:\n",
        "        pass\n",
        "\n",
        "# Filter the luxury_sales column for string type values\n",
        "str_values_luxury_sales_train = train_df['luxury_sales'][train_df['luxury_sales'].apply(lambda x: isinstance(x, str))]\n",
        "\n",
        "# Print unique string type values\n",
        "print(\"Unique string type values in luxury_sales column:\", str_values_luxury_sales_train.unique())"
      ]
    },
    {
      "cell_type": "code",
      "execution_count": 24,
      "metadata": {
        "colab": {
          "base_uri": "https://localhost:8080/"
        },
        "id": "XwbFP5Sz8Dsr",
        "outputId": "f139c0e8-581c-4ef4-b7ea-bea424a8169e"
      },
      "outputs": [
        {
          "name": "stdout",
          "output_type": "stream",
          "text": [
            "Unique string type values in luxury_sales column: []\n"
          ]
        },
        {
          "name": "stderr",
          "output_type": "stream",
          "text": [
            "C:\\Users\\usith\\AppData\\Local\\Temp\\ipykernel_40648\\1162345262.py:14: FutureWarning: Downcasting behavior in `replace` is deprecated and will be removed in a future version. To retain the old behavior, explicitly call `result.infer_objects(copy=False)`. To opt-in to the future behavior, set `pd.set_option('future.no_silent_downcasting', True)`\n",
            "  train_df['luxury_sales'] = train_df['luxury_sales'].replace(text_to_numeric_luxury)\n"
          ]
        }
      ],
      "source": [
        "# Mapping dictionary for textual representations of numbers to their numeric equivalents\n",
        "text_to_numeric_luxury = {\n",
        "    'nul': 0,\n",
        "    'One thousand four hundread ruppes': 1400,\n",
        "    'Eight hundread ruppess': 800,\n",
        "    'six hundread and hirty ': 630,  # Assuming it's meant to be 'six hundred and thirty'\n",
        "    'Thousand tow hundread ': 1200,  # Assuming it's meant to be 'Thousand two hundred'\n",
        "    'seven hundread and nine ruppees': 709,\n",
        "    'Three thousand two hundread ruppess': 3200,\n",
        "    'Four thousand one hundread ruppess': 4100\n",
        "}\n",
        "\n",
        "# Convert textual representations of numbers into numeric values\n",
        "train_df['luxury_sales'] = train_df['luxury_sales'].replace(text_to_numeric_luxury)\n",
        "\n",
        "# Filter the luxury_sales column for string type values\n",
        "str_values_luxury_sales_train = train_df['luxury_sales'][train_df['luxury_sales'].apply(lambda x: isinstance(x, str))]\n",
        "\n",
        "# Print unique string type values\n",
        "print(\"Unique string type values in luxury_sales column:\", str_values_luxury_sales_train.unique())"
      ]
    },
    {
      "cell_type": "code",
      "execution_count": 25,
      "metadata": {
        "colab": {
          "base_uri": "https://localhost:8080/"
        },
        "id": "DhKaZTvr8Dsr",
        "outputId": "a2fb45dd-91b4-4709-8fda-06f2d66e096c"
      },
      "outputs": [
        {
          "name": "stdout",
          "output_type": "stream",
          "text": [
            "Unique string type values in fresh_sales column: ['Six hundread and five ruppes' 'nul' 'Three thousana and five hundread'\n",
            " 'thirteen thousand ruppes' 'Five thousand ruppes'\n",
            " 'Two thousand seven hundread ruppess']\n"
          ]
        }
      ],
      "source": [
        "# Convert string values in the fresh_sales column to float\n",
        "for i, value in enumerate(train_df['fresh_sales']):\n",
        "    try:\n",
        "        train_df.at[i, 'fresh_sales'] = float(value)\n",
        "    except ValueError:\n",
        "        pass\n",
        "\n",
        "# Filter the fresh_sales column for string type values\n",
        "str_values_fresh_sales_train = train_df['fresh_sales'][train_df['fresh_sales'].apply(lambda x: isinstance(x, str))]\n",
        "\n",
        "# Print unique string type values\n",
        "print(\"Unique string type values in fresh_sales column:\", str_values_fresh_sales_train.unique())"
      ]
    },
    {
      "cell_type": "code",
      "execution_count": 26,
      "metadata": {
        "colab": {
          "base_uri": "https://localhost:8080/"
        },
        "id": "DIDz0EIK8Dsr",
        "outputId": "8ce478d4-3312-4dcb-db01-4d9288c98277"
      },
      "outputs": [
        {
          "name": "stdout",
          "output_type": "stream",
          "text": [
            "Unique string type values in fresh_sales column: []\n"
          ]
        },
        {
          "name": "stderr",
          "output_type": "stream",
          "text": [
            "C:\\Users\\usith\\AppData\\Local\\Temp\\ipykernel_40648\\868089794.py:12: FutureWarning: Downcasting behavior in `replace` is deprecated and will be removed in a future version. To retain the old behavior, explicitly call `result.infer_objects(copy=False)`. To opt-in to the future behavior, set `pd.set_option('future.no_silent_downcasting', True)`\n",
            "  train_df['fresh_sales'] = train_df['fresh_sales'].replace(text_to_numeric_fresh)\n"
          ]
        }
      ],
      "source": [
        "# Mapping dictionary for textual representations of numbers to their numeric equivalents\n",
        "text_to_numeric_fresh = {\n",
        "    'nul': 0,\n",
        "    'Six hundread and five ruppes': 605,\n",
        "    'Three thousana and five hundread': 3500,\n",
        "    'thirteen thousand ruppes': 13000,\n",
        "    'Five thousand ruppes': 500,\n",
        "    'Two thousand seven hundread ruppess': 2700\n",
        "}\n",
        "\n",
        "# Convert textual representations of numbers into numeric values\n",
        "train_df['fresh_sales'] = train_df['fresh_sales'].replace(text_to_numeric_fresh)\n",
        "\n",
        "# Filter the fresh_sales column for string type values\n",
        "str_values_fresh_sales_train = train_df['fresh_sales'][train_df['fresh_sales'].apply(lambda x: isinstance(x, str))]\n",
        "\n",
        "# Print unique string type values\n",
        "print(\"Unique string type values in fresh_sales column:\", str_values_fresh_sales_train.unique())"
      ]
    },
    {
      "cell_type": "code",
      "execution_count": 27,
      "metadata": {
        "colab": {
          "base_uri": "https://localhost:8080/"
        },
        "id": "oo26y3hC8Dsr",
        "outputId": "54246382-ee0f-49ca-e9e0-da6cabaaf036"
      },
      "outputs": [
        {
          "name": "stdout",
          "output_type": "stream",
          "text": [
            "Unique string type values in dry_sales column: ['Four thousand and two hundread ruppes' 'nul']\n"
          ]
        }
      ],
      "source": [
        "# Convert string values in the dry_sales column to float\n",
        "for i, value in enumerate(train_df['dry_sales']):\n",
        "    try:\n",
        "        train_df.at[i, 'dry_sales'] = float(value)\n",
        "    except ValueError:\n",
        "        pass\n",
        "\n",
        "# Filter the dry_sales column for string type values\n",
        "str_values_dry_sales_train = train_df['dry_sales'][train_df['dry_sales'].apply(lambda x: isinstance(x, str))]\n",
        "\n",
        "# Print unique string type values\n",
        "print(\"Unique string type values in dry_sales column:\", str_values_dry_sales_train.unique())"
      ]
    },
    {
      "cell_type": "code",
      "execution_count": 28,
      "metadata": {
        "colab": {
          "base_uri": "https://localhost:8080/"
        },
        "id": "KbW7RRx58Dss",
        "outputId": "bdc29f6c-562c-46f3-88e2-9fb1d15f9f53"
      },
      "outputs": [
        {
          "name": "stdout",
          "output_type": "stream",
          "text": [
            "Unique string type values in dry_sales column: []\n"
          ]
        },
        {
          "name": "stderr",
          "output_type": "stream",
          "text": [
            "C:\\Users\\usith\\AppData\\Local\\Temp\\ipykernel_40648\\1180039227.py:8: FutureWarning: Downcasting behavior in `replace` is deprecated and will be removed in a future version. To retain the old behavior, explicitly call `result.infer_objects(copy=False)`. To opt-in to the future behavior, set `pd.set_option('future.no_silent_downcasting', True)`\n",
            "  train_df['dry_sales'] = train_df['dry_sales'].replace(text_to_numeric_dry)\n"
          ]
        }
      ],
      "source": [
        "# Mapping dictionary for textual representations of numbers to their numeric equivalents\n",
        "text_to_numeric_dry = {\n",
        "    'nul': 0,\n",
        "    'Four thousand and two hundread ruppes': 4200\n",
        "}\n",
        "\n",
        "# Convert textual representations of numbers into numeric values\n",
        "train_df['dry_sales'] = train_df['dry_sales'].replace(text_to_numeric_dry)\n",
        "\n",
        "# Filter the dry_sales column for string type values\n",
        "str_values_dry_sales_train = train_df['dry_sales'][train_df['dry_sales'].apply(lambda x: isinstance(x, str))]\n",
        "\n",
        "# Print unique string type values\n",
        "print(\"Unique string type values in dry_sales column:\", str_values_dry_sales_train.unique())"
      ]
    },
    {
      "cell_type": "code",
      "execution_count": 29,
      "metadata": {
        "colab": {
          "base_uri": "https://localhost:8080/"
        },
        "id": "mul6u7DN8Dss",
        "outputId": "0ab1cd6b-8954-4cdf-d916-03402953e84b"
      },
      "outputs": [
        {
          "name": "stdout",
          "output_type": "stream",
          "text": [
            "Unique data types in luxury_sales column: [<class 'float'>]\n",
            "Unique data types in fresh_sales column: [<class 'float'>]\n",
            "Unique data types in dry_sales column: [<class 'float'>]\n"
          ]
        }
      ],
      "source": [
        "# Check unique data types in the luxury_sales column\n",
        "print(\"Unique data types in luxury_sales column:\", train_df['luxury_sales'].apply(type).unique())\n",
        "print(\"Unique data types in fresh_sales column:\", train_df['fresh_sales'].apply(type).unique())\n",
        "print(\"Unique data types in dry_sales column:\", train_df['dry_sales'].apply(type).unique())"
      ]
    },
    {
      "cell_type": "markdown",
      "metadata": {
        "id": "vJS6CXu58Dss"
      },
      "source": [
        "##### Test Dataset"
      ]
    },
    {
      "cell_type": "code",
      "execution_count": 30,
      "metadata": {
        "colab": {
          "base_uri": "https://localhost:8080/"
        },
        "id": "QhPxvT-I8Dss",
        "outputId": "2dc8db0b-afaf-44e3-ae03-9189e3dda27c"
      },
      "outputs": [
        {
          "name": "stdout",
          "output_type": "stream",
          "text": [
            "Unique data types in luxury_sales column: [<class 'str'>]\n",
            "Unique data types in fresh_sales column: [<class 'str'>]\n",
            "Unique data types in dry_sales column: [<class 'str'>]\n"
          ]
        }
      ],
      "source": [
        "# Check unique data types in the luxury_sales column\n",
        "print(\"Unique data types in luxury_sales column:\", test_df['luxury_sales'].apply(type).unique())\n",
        "print(\"Unique data types in fresh_sales column:\", test_df['fresh_sales'].apply(type).unique())\n",
        "print(\"Unique data types in dry_sales column:\", test_df['dry_sales'].apply(type).unique())"
      ]
    },
    {
      "cell_type": "code",
      "execution_count": 31,
      "metadata": {
        "colab": {
          "base_uri": "https://localhost:8080/"
        },
        "id": "ge887K8y8Dss",
        "outputId": "ba48a364-7d39-4c0b-e501-4dc41df661e1"
      },
      "outputs": [
        {
          "name": "stdout",
          "output_type": "stream",
          "text": [
            "Unique string type values in luxury_sales column: ['Seven Hundread and sixty Ruppees' 'Eight Hundread and fifteen ruppes']\n"
          ]
        }
      ],
      "source": [
        "# Convert string values in the luxury_sales column to float\n",
        "for i, value in enumerate(test_df['luxury_sales']):\n",
        "    try:\n",
        "        test_df.at[i, 'luxury_sales'] = float(value)\n",
        "    except ValueError:\n",
        "        pass\n",
        "\n",
        "# Filter the luxury_sales column for string type values\n",
        "str_values_luxury_sales_test = test_df['luxury_sales'][test_df['luxury_sales'].apply(lambda x: isinstance(x, str))]\n",
        "\n",
        "# Print unique string type values\n",
        "print(\"Unique string type values in luxury_sales column:\", str_values_luxury_sales_test.unique())"
      ]
    },
    {
      "cell_type": "code",
      "execution_count": 32,
      "metadata": {
        "colab": {
          "base_uri": "https://localhost:8080/"
        },
        "id": "UP36jknY8Dss",
        "outputId": "b01add0e-a853-4422-c1c7-f83b1f3264c5"
      },
      "outputs": [
        {
          "name": "stdout",
          "output_type": "stream",
          "text": [
            "Unique string type values in luxury_sales column: []\n"
          ]
        },
        {
          "name": "stderr",
          "output_type": "stream",
          "text": [
            "C:\\Users\\usith\\AppData\\Local\\Temp\\ipykernel_40648\\1621107590.py:8: FutureWarning: Downcasting behavior in `replace` is deprecated and will be removed in a future version. To retain the old behavior, explicitly call `result.infer_objects(copy=False)`. To opt-in to the future behavior, set `pd.set_option('future.no_silent_downcasting', True)`\n",
            "  test_df['luxury_sales'] = test_df['luxury_sales'].replace(text_to_numeric_luxury)\n"
          ]
        }
      ],
      "source": [
        "# Mapping dictionary for textual representations of numbers to their numeric equivalents\n",
        "text_to_numeric_luxury = {\n",
        "    'Seven Hundread and sixty Ruppees': 760,\n",
        "    'Eight Hundread and fifteen ruppes': 815\n",
        "}\n",
        "\n",
        "# Convert textual representations of numbers into numeric values\n",
        "test_df['luxury_sales'] = test_df['luxury_sales'].replace(text_to_numeric_luxury)\n",
        "\n",
        "# Filter the luxury_sales column for string type values\n",
        "str_values_luxury_sales_test = test_df['luxury_sales'][test_df['luxury_sales'].apply(lambda x: isinstance(x, str))]\n",
        "\n",
        "# Print unique string type values\n",
        "print(\"Unique string type values in luxury_sales column:\", str_values_luxury_sales_test.unique())"
      ]
    },
    {
      "cell_type": "code",
      "execution_count": 33,
      "metadata": {
        "colab": {
          "base_uri": "https://localhost:8080/"
        },
        "id": "wkFG199M8Dss",
        "outputId": "0b73ad5b-f9c1-4953-8e51-281bff9dda7d"
      },
      "outputs": [
        {
          "name": "stdout",
          "output_type": "stream",
          "text": [
            "Unique string type values in fresh_sales column: ['Nine thousand ruppess']\n"
          ]
        }
      ],
      "source": [
        "# Convert string values in the fresh_sales column to float\n",
        "for i, value in enumerate(test_df['fresh_sales']):\n",
        "    try:\n",
        "        test_df.at[i, 'fresh_sales'] = float(value)\n",
        "    except ValueError:\n",
        "        pass\n",
        "\n",
        "# Filter the fresh_sales column for string type values\n",
        "str_values_fresh_sales_test = test_df['fresh_sales'][test_df['fresh_sales'].apply(lambda x: isinstance(x, str))]\n",
        "\n",
        "# Print unique string type values\n",
        "print(\"Unique string type values in fresh_sales column:\", str_values_fresh_sales_test.unique())"
      ]
    },
    {
      "cell_type": "code",
      "execution_count": 34,
      "metadata": {
        "colab": {
          "base_uri": "https://localhost:8080/"
        },
        "id": "XrVfaVwA8Ds0",
        "outputId": "4088b7c3-bb01-4823-c7f5-2c74f8187699"
      },
      "outputs": [
        {
          "name": "stdout",
          "output_type": "stream",
          "text": [
            "Unique string type values in fresh_sales column: []\n"
          ]
        },
        {
          "name": "stderr",
          "output_type": "stream",
          "text": [
            "C:\\Users\\usith\\AppData\\Local\\Temp\\ipykernel_40648\\228459350.py:7: FutureWarning: Downcasting behavior in `replace` is deprecated and will be removed in a future version. To retain the old behavior, explicitly call `result.infer_objects(copy=False)`. To opt-in to the future behavior, set `pd.set_option('future.no_silent_downcasting', True)`\n",
            "  test_df['fresh_sales'] = test_df['fresh_sales'].replace(text_to_numeric_fresh)\n"
          ]
        }
      ],
      "source": [
        "# Mapping dictionary for textual representations of numbers to their numeric equivalents\n",
        "text_to_numeric_fresh = {\n",
        "    'Nine thousand ruppess': 9000\n",
        "}\n",
        "\n",
        "# Convert textual representations of numbers into numeric values\n",
        "test_df['fresh_sales'] = test_df['fresh_sales'].replace(text_to_numeric_fresh)\n",
        "\n",
        "# Filter the fresh_sales column for string type values\n",
        "str_values_fresh_sales_test = test_df['fresh_sales'][test_df['fresh_sales'].apply(lambda x: isinstance(x, str))]\n",
        "\n",
        "# Print unique string type values\n",
        "print(\"Unique string type values in fresh_sales column:\", str_values_luxury_sales_test.unique())"
      ]
    },
    {
      "cell_type": "code",
      "execution_count": 35,
      "metadata": {
        "colab": {
          "base_uri": "https://localhost:8080/"
        },
        "id": "PJ7vasjg8Ds0",
        "outputId": "aed6c2a3-3675-4b58-df68-cad78e0f5933"
      },
      "outputs": [
        {
          "name": "stdout",
          "output_type": "stream",
          "text": [
            "Unique string type values in dry_sales column: ['Three Thousand seven hundread ruppees']\n"
          ]
        }
      ],
      "source": [
        "# Convert string values in the dry_sales column to float\n",
        "for i, value in enumerate(test_df['dry_sales']):\n",
        "    try:\n",
        "        test_df.at[i, 'dry_sales'] = float(value)\n",
        "    except ValueError:\n",
        "        pass\n",
        "\n",
        "# Filter the dry_sales column for string type values\n",
        "str_values_dry_sales_test = test_df['dry_sales'][test_df['dry_sales'].apply(lambda x: isinstance(x, str))]\n",
        "\n",
        "# Print unique string type values\n",
        "print(\"Unique string type values in dry_sales column:\", str_values_dry_sales_test.unique())"
      ]
    },
    {
      "cell_type": "code",
      "execution_count": 36,
      "metadata": {
        "colab": {
          "base_uri": "https://localhost:8080/"
        },
        "id": "Gc77ie6I8Ds0",
        "outputId": "c78cb98d-f2d1-4d97-fc54-2a1823d5cda7"
      },
      "outputs": [
        {
          "name": "stdout",
          "output_type": "stream",
          "text": [
            "Unique string type values in dry_sales column: []\n"
          ]
        },
        {
          "name": "stderr",
          "output_type": "stream",
          "text": [
            "C:\\Users\\usith\\AppData\\Local\\Temp\\ipykernel_40648\\1183317408.py:7: FutureWarning: Downcasting behavior in `replace` is deprecated and will be removed in a future version. To retain the old behavior, explicitly call `result.infer_objects(copy=False)`. To opt-in to the future behavior, set `pd.set_option('future.no_silent_downcasting', True)`\n",
            "  test_df['dry_sales'] = test_df['dry_sales'].replace(text_to_numeric_dry)\n"
          ]
        }
      ],
      "source": [
        "# Mapping dictionary for textual representations of numbers to their numeric equivalents\n",
        "text_to_numeric_dry = {\n",
        "    'Three Thousand seven hundread ruppees': 3700\n",
        "}\n",
        "\n",
        "# Convert textual representations of numbers into numeric values\n",
        "test_df['dry_sales'] = test_df['dry_sales'].replace(text_to_numeric_dry)\n",
        "\n",
        "# Filter the dry_sales column for string type values\n",
        "str_values_dry_sales_test = test_df['dry_sales'][test_df['dry_sales'].apply(lambda x: isinstance(x, str))]\n",
        "\n",
        "# Print unique string type values\n",
        "print(\"Unique string type values in dry_sales column:\", str_values_dry_sales_test.unique())"
      ]
    },
    {
      "cell_type": "code",
      "execution_count": 37,
      "metadata": {
        "colab": {
          "base_uri": "https://localhost:8080/"
        },
        "id": "p7QGKlSp8Ds1",
        "outputId": "d050b1d5-f6fd-47f9-ef81-3fdad138178f"
      },
      "outputs": [
        {
          "name": "stdout",
          "output_type": "stream",
          "text": [
            "Unique data types in luxury_sales column: [<class 'float'>]\n",
            "Unique data types in fresh_sales column: [<class 'float'>]\n",
            "Unique data types in dry_sales column: [<class 'float'>]\n"
          ]
        }
      ],
      "source": [
        "# Check unique data types in the luxury_sales column\n",
        "print(\"Unique data types in luxury_sales column:\", test_df['luxury_sales'].apply(type).unique())\n",
        "print(\"Unique data types in fresh_sales column:\", test_df['fresh_sales'].apply(type).unique())\n",
        "print(\"Unique data types in dry_sales column:\", test_df['dry_sales'].apply(type).unique())"
      ]
    },
    {
      "cell_type": "markdown",
      "metadata": {
        "id": "gPJyhaWg8Ds1"
      },
      "source": [
        "#### 1.3.1.2. Outlet City Column"
      ]
    },
    {
      "cell_type": "code",
      "execution_count": 38,
      "metadata": {
        "colab": {
          "base_uri": "https://localhost:8080/"
        },
        "id": "f9qJuMJ38Ds1",
        "outputId": "3f9d26f8-d5f8-4a5b-bdf9-14ed06886101"
      },
      "outputs": [
        {
          "name": "stdout",
          "output_type": "stream",
          "text": [
            "Unique values in outlet_city column in Train Dataset: ['Kelaniya' 'Moratuwa' 'Wattala' 'Homagama' 'Dehiwala-Mount Lavinia'\n",
            " 'Panadura' 'Kaduwela' 'Peliyagoda' 'Kotte' 'Nuwara Eliya' 'Batticaloa'\n",
            " 'Colombo' 'Jaffna' 'Gampaha' 'Kalmunai' 'Galle' 'Katunayake' 'Negombo'\n",
            " 'Trincomalee' 'Kandy' nan]\n",
            "Unique values in outlet_city column in Test Dataset: ['batticaloa' 'Batticaloa' 'Colombo' 'Dehiwala-Mount Lavinia'\n",
            " 'Anuradhapura' 'Galle' 'Gampaha' 'Homagama' 'Jaffna' 'Kaduwela'\n",
            " 'Kalmunai' 'kalmunai' 'Kandy' 'Katunayake' 'Kelaniya' 'Madawachiya'\n",
            " 'Kotte' 'Moratuwa' 'MoraTuwa' 'Negombo' 'Nuwara Eliya' 'Panadura'\n",
            " 'Peliyagoda' 'PeliyagodA' 'Trincomale' 'Trincomalee' 'Wattala']\n"
          ]
        }
      ],
      "source": [
        "# Unique values in outlet_city column\n",
        "print(\"Unique values in outlet_city column in Train Dataset:\", train_df['outlet_city'].unique())\n",
        "print(\"Unique values in outlet_city column in Test Dataset:\", test_df['outlet_city'].unique())"
      ]
    },
    {
      "cell_type": "code",
      "execution_count": 39,
      "metadata": {
        "colab": {
          "base_uri": "https://localhost:8080/"
        },
        "id": "4LkT_hvV8Ds1",
        "outputId": "c29482a8-96b5-4ac3-c15e-3d6d65064f50"
      },
      "outputs": [
        {
          "name": "stdout",
          "output_type": "stream",
          "text": [
            "Different outlet_citys between train and test DataFrames: {'Trincomale', nan, 'batticaloa', 'Madawachiya', 'Anuradhapura', 'kalmunai', 'PeliyagodA', 'MoraTuwa'}\n"
          ]
        }
      ],
      "source": [
        "# Get unique outlet_city values from train and test DataFrames\n",
        "train_outlet_citys = set(train_df['outlet_city'])\n",
        "test_outlet_citys = set(test_df['outlet_city'])\n",
        "\n",
        "# Find the difference of unique outlet_city values\n",
        "different_outlet_citys = (train_outlet_citys.union(test_outlet_citys)).difference(train_outlet_citys.intersection(test_outlet_citys))\n",
        "\n",
        "if different_outlet_citys:\n",
        "    print(\"Different outlet_citys between train and test DataFrames:\", different_outlet_citys)\n",
        "else:\n",
        "    print(\"There are no different outlet_citys between train and test DataFrames.\")"
      ]
    },
    {
      "cell_type": "code",
      "execution_count": 40,
      "metadata": {
        "colab": {
          "base_uri": "https://localhost:8080/"
        },
        "id": "jTPzrhVA8Ds1",
        "outputId": "3c0de447-2a5f-4f47-b671-28739abc1e74"
      },
      "outputs": [
        {
          "name": "stdout",
          "output_type": "stream",
          "text": [
            "Different outlet_citys between train and test DataFrames: {'Madawachchiya', nan, 'Anuradhapura'}\n"
          ]
        }
      ],
      "source": [
        "# Mapping dictionary for fixing typos in the outlet_city column\n",
        "typo_fix_dict_train = {\n",
        "    'Colomb': 'Colombo'\n",
        "}\n",
        "\n",
        "# Convert typos in the outlet_city column\n",
        "train_df['outlet_city'] = train_df['outlet_city'].replace(typo_fix_dict_train)\n",
        "\n",
        "# Mapping dictionary for fixing typos in the outlet_city column\n",
        "typo_fix_dict = {\n",
        "    'Trincomale': 'Trincomalee',\n",
        "    'MoraTuwa': 'Moratuwa',\n",
        "    'PeliyagodA': 'Peliyagoda',\n",
        "    'batticaloa': 'Batticaloa',\n",
        "    'kalmunai': 'Kalmunai',\n",
        "    'Madawachiya': 'Madawachchiya'\n",
        "}\n",
        "\n",
        "# Convert typos in the outlet_city column\n",
        "test_df['outlet_city'] = test_df['outlet_city'].replace(typo_fix_dict)\n",
        "\n",
        "# Get unique outlet_city values from train and test DataFrames\n",
        "train_outlet_citys = set(train_df['outlet_city'])\n",
        "test_outlet_citys = set(test_df['outlet_city'])\n",
        "\n",
        "# Find the difference of unique outlet_city values\n",
        "different_outlet_citys = (train_outlet_citys.union(test_outlet_citys)).difference(train_outlet_citys.intersection(test_outlet_citys))\n",
        "\n",
        "if different_outlet_citys:\n",
        "    print(\"Different outlet_citys between train and test DataFrames:\", different_outlet_citys)\n",
        "else:\n",
        "    print(\"There are no different outlet_citys between train and test DataFrames.\")"
      ]
    },
    {
      "cell_type": "code",
      "execution_count": 41,
      "metadata": {
        "colab": {
          "base_uri": "https://localhost:8080/"
        },
        "id": "JMipFX8A8Ds1",
        "outputId": "1a58cbf6-bfc9-4825-c3cc-d6f2fadad118"
      },
      "outputs": [
        {
          "name": "stdout",
          "output_type": "stream",
          "text": [
            "Unique values in outlet_city column in Train Dataset: ['Kelaniya' 'Moratuwa' 'Wattala' 'Homagama' 'Dehiwala-Mount Lavinia'\n",
            " 'Panadura' 'Kaduwela' 'Peliyagoda' 'Kotte' 'Nuwara Eliya' 'Batticaloa'\n",
            " 'Colombo' 'Jaffna' 'Gampaha' 'Kalmunai' 'Galle' 'Katunayake' 'Negombo'\n",
            " 'Trincomalee' 'Kandy' nan]\n",
            "Unique values in outlet_city column in Test Dataset: ['Batticaloa' 'Colombo' 'Dehiwala-Mount Lavinia' 'Anuradhapura' 'Galle'\n",
            " 'Gampaha' 'Homagama' 'Jaffna' 'Kaduwela' 'Kalmunai' 'Kandy' 'Katunayake'\n",
            " 'Kelaniya' 'Madawachchiya' 'Kotte' 'Moratuwa' 'Negombo' 'Nuwara Eliya'\n",
            " 'Panadura' 'Peliyagoda' 'Trincomalee' 'Wattala']\n"
          ]
        }
      ],
      "source": [
        "# Unique values in outlet_city column\n",
        "print(\"Unique values in outlet_city column in Train Dataset:\", train_df['outlet_city'].unique())\n",
        "print(\"Unique values in outlet_city column in Test Dataset:\", test_df['outlet_city'].unique())"
      ]
    },
    {
      "cell_type": "markdown",
      "metadata": {
        "id": "ha_OidML8Ds1"
      },
      "source": [
        "#### 1.3.1.3 Cluster Category Column"
      ]
    },
    {
      "cell_type": "code",
      "execution_count": 42,
      "metadata": {
        "colab": {
          "base_uri": "https://localhost:8080/"
        },
        "id": "vhv4NoTg8Ds2",
        "outputId": "33c8036d-d946-4085-c048-8d3e4008c5c4"
      },
      "outputs": [
        {
          "name": "stdout",
          "output_type": "stream",
          "text": [
            "   Customer_ID outlet_city  luxury_sales  fresh_sales  dry_sales  \\\n",
            "0   10493832.0    Kelaniya       1209.60       756.00    5292.00   \n",
            "1   10178643.0    Moratuwa       1590.12      1060.08    6007.12   \n",
            "2   10513916.0     Wattala       2288.88      1481.04    9155.52   \n",
            "3   10334589.0     Wattala       2274.94      1739.66    9099.76   \n",
            "4   10458365.0    Kelaniya       2345.49      2069.55    9243.99   \n",
            "\n",
            "  cluster_category  \n",
            "0                4  \n",
            "1                1  \n",
            "2                4  \n",
            "3                4  \n",
            "4                4  \n"
          ]
        }
      ],
      "source": [
        "# Rename the column from \"cluster_catgeory\" to \"cluster_category\"\n",
        "train_df.rename(columns={'cluster_catgeory': 'cluster_category'}, inplace=True)\n",
        "\n",
        "# Display the DataFrame to verify the change\n",
        "print(train_df.head())"
      ]
    },
    {
      "cell_type": "code",
      "execution_count": 43,
      "metadata": {
        "colab": {
          "base_uri": "https://localhost:8080/"
        },
        "id": "o2SET3AX8Ds2",
        "outputId": "e241bf6f-fed1-448d-abac-49dfe0300344"
      },
      "outputs": [
        {
          "name": "stdout",
          "output_type": "stream",
          "text": [
            "Unique values in cluster_category column: ['4' '1' '99' '2' '5' '3' '6' '6\\\\' 4 2 1 95 3 98 5 6 nan 100.0 89.0]\n"
          ]
        }
      ],
      "source": [
        "# Unique values in cluster_category column\n",
        "print(\"Unique values in cluster_category column:\", train_df['cluster_category'].unique())"
      ]
    },
    {
      "cell_type": "code",
      "execution_count": 44,
      "metadata": {
        "colab": {
          "base_uri": "https://localhost:8080/"
        },
        "id": "LIN_Aqsr8Ds2",
        "outputId": "01eecd82-e083-4f7b-da16-cadc19bf86b2"
      },
      "outputs": [
        {
          "name": "stdout",
          "output_type": "stream",
          "text": [
            "Unique string type values in cluster_category column: ['6\\\\']\n"
          ]
        }
      ],
      "source": [
        "# Convert string values in the cluster_category column to float\n",
        "for i, value in enumerate(train_df['cluster_category']):\n",
        "    try:\n",
        "        train_df.at[i, 'cluster_category'] = int(value)\n",
        "    except ValueError:\n",
        "        pass\n",
        "\n",
        "# Filter the cluster_category column for string type values\n",
        "str_values_cluster_category = train_df['cluster_category'][train_df['cluster_category'].apply(lambda x: isinstance(x, str))]\n",
        "\n",
        "# Print unique string type values\n",
        "print(\"Unique string type values in cluster_category column:\", str_values_cluster_category.unique())"
      ]
    },
    {
      "cell_type": "code",
      "execution_count": 45,
      "metadata": {
        "id": "yD0vG1Aw8Ds2"
      },
      "outputs": [
        {
          "name": "stderr",
          "output_type": "stream",
          "text": [
            "C:\\Users\\usith\\AppData\\Local\\Temp\\ipykernel_40648\\3783375596.py:2: FutureWarning: Downcasting behavior in `replace` is deprecated and will be removed in a future version. To retain the old behavior, explicitly call `result.infer_objects(copy=False)`. To opt-in to the future behavior, set `pd.set_option('future.no_silent_downcasting', True)`\n",
            "  train_df['cluster_category'] = train_df['cluster_category'].replace({\"6\\\\\": 6})\n"
          ]
        }
      ],
      "source": [
        "# Fix typo in the cluster_category column\n",
        "train_df['cluster_category'] = train_df['cluster_category'].replace({\"6\\\\\": 6})"
      ]
    },
    {
      "cell_type": "code",
      "execution_count": 46,
      "metadata": {
        "colab": {
          "base_uri": "https://localhost:8080/"
        },
        "id": "CtPZMc8O8Ds2",
        "outputId": "864a2c3b-46e3-4a29-9a9d-2d421edb5f78"
      },
      "outputs": [
        {
          "name": "stdout",
          "output_type": "stream",
          "text": [
            "Unique values in cluster_category column: [  4.   1.  99.   2.   5.   3.   6.  95.  98.  nan 100.  89.]\n"
          ]
        }
      ],
      "source": [
        "# Unique values in cluster_category column\n",
        "print(\"Unique values in cluster_category column:\", train_df['cluster_category'].unique())"
      ]
    },
    {
      "cell_type": "code",
      "execution_count": 47,
      "metadata": {
        "colab": {
          "base_uri": "https://localhost:8080/"
        },
        "id": "gfdn7pjJ8Ds2",
        "outputId": "aa2a8543-b606-4ae5-ae46-aa2a6ff2b484"
      },
      "outputs": [
        {
          "name": "stdout",
          "output_type": "stream",
          "text": [
            "Unique values in cluster_category column: [ 4.  1. nan  2.  5.  3.  6.]\n"
          ]
        }
      ],
      "source": [
        "# Set values greater than 6 in the cluster_category column to null\n",
        "train_df.loc[train_df['cluster_category'].astype(float) > 6, 'cluster_category'] = None\n",
        "\n",
        "# Unique values in cluster_category column\n",
        "print(\"Unique values in cluster_category column:\", train_df['cluster_category'].unique())"
      ]
    },
    {
      "cell_type": "code",
      "execution_count": 48,
      "metadata": {
        "colab": {
          "base_uri": "https://localhost:8080/"
        },
        "id": "GNMyb_K28Ds3",
        "outputId": "d6beb65b-e579-4ac2-f6b1-2f9d8a4f5e30"
      },
      "outputs": [
        {
          "data": {
            "text/plain": [
              "Customer_ID          2\n",
              "outlet_city          2\n",
              "luxury_sales        35\n",
              "fresh_sales         41\n",
              "dry_sales           30\n",
              "cluster_category     6\n",
              "dtype: int64"
            ]
          },
          "execution_count": 48,
          "metadata": {},
          "output_type": "execute_result"
        }
      ],
      "source": [
        "train_df.isnull().sum()"
      ]
    },
    {
      "cell_type": "markdown",
      "metadata": {
        "id": "QOJI6ZbU8Ds3"
      },
      "source": [
        "### 1.3.2. Handle Missing Values"
      ]
    },
    {
      "cell_type": "code",
      "execution_count": 49,
      "metadata": {
        "id": "rJxkGQBY8Ds3"
      },
      "outputs": [],
      "source": [
        "# Fill null values with 0 in specific columns\n",
        "columns_to_fill = ['luxury_sales', 'fresh_sales', 'dry_sales']\n",
        "train_df[columns_to_fill] = train_df[columns_to_fill].fillna(0)"
      ]
    },
    {
      "cell_type": "code",
      "execution_count": 50,
      "metadata": {
        "id": "YfucTd8e8Ds3"
      },
      "outputs": [],
      "source": [
        "# Find rows with missing Customer_ID\n",
        "missing_customer_id = train_df['Customer_ID'].isnull()\n",
        "\n",
        "# Generate unique IDs for missing values\n",
        "new_ids = range(10774155, 10774155 + missing_customer_id.sum())\n",
        "\n",
        "# Assign new IDs to missing values\n",
        "train_df.loc[missing_customer_id, 'Customer_ID'] = new_ids"
      ]
    },
    {
      "cell_type": "code",
      "execution_count": 51,
      "metadata": {
        "colab": {
          "base_uri": "https://localhost:8080/"
        },
        "id": "D_ohPu-H8Ds3",
        "outputId": "4895a82b-35f8-4bad-baf6-3d8a6617a7e1"
      },
      "outputs": [
        {
          "data": {
            "text/plain": [
              "Customer_ID         0\n",
              "outlet_city         2\n",
              "luxury_sales        0\n",
              "fresh_sales         0\n",
              "dry_sales           0\n",
              "cluster_category    6\n",
              "dtype: int64"
            ]
          },
          "execution_count": 51,
          "metadata": {},
          "output_type": "execute_result"
        }
      ],
      "source": [
        "train_df.isnull().sum()"
      ]
    },
    {
      "cell_type": "code",
      "execution_count": 52,
      "metadata": {
        "id": "3lK42JQK8Ds3"
      },
      "outputs": [],
      "source": [
        "# Drop values with missing data\n",
        "train_df = train_df.dropna()"
      ]
    },
    {
      "cell_type": "code",
      "execution_count": 53,
      "metadata": {
        "colab": {
          "base_uri": "https://localhost:8080/"
        },
        "id": "z22vgXNb8Ds3",
        "outputId": "09a72374-62e9-4ef8-d73f-67572c9ae987"
      },
      "outputs": [
        {
          "data": {
            "text/plain": [
              "Customer_ID         0\n",
              "outlet_city         0\n",
              "luxury_sales        0\n",
              "fresh_sales         0\n",
              "dry_sales           0\n",
              "cluster_category    0\n",
              "dtype: int64"
            ]
          },
          "execution_count": 53,
          "metadata": {},
          "output_type": "execute_result"
        }
      ],
      "source": [
        "train_df.isnull().sum()"
      ]
    },
    {
      "cell_type": "code",
      "execution_count": 54,
      "metadata": {
        "colab": {
          "base_uri": "https://localhost:8080/"
        },
        "id": "Y0i2NoRV8Ds3",
        "outputId": "75af213c-5734-4366-eb9d-8c8ce8b033f5"
      },
      "outputs": [
        {
          "data": {
            "text/plain": [
              "Customer_ID         float64\n",
              "outlet_city          object\n",
              "luxury_sales        float64\n",
              "fresh_sales         float64\n",
              "dry_sales           float64\n",
              "cluster_category    float64\n",
              "dtype: object"
            ]
          },
          "execution_count": 54,
          "metadata": {},
          "output_type": "execute_result"
        }
      ],
      "source": [
        "train_df.dtypes"
      ]
    },
    {
      "cell_type": "markdown",
      "metadata": {
        "id": "kucO6FdQ8Ds4"
      },
      "source": [
        "### 1.3.3. Outlier Handling"
      ]
    },
    {
      "cell_type": "code",
      "execution_count": 55,
      "metadata": {
        "colab": {
          "base_uri": "https://localhost:8080/"
        },
        "id": "_um52b_q8Ds4",
        "outputId": "da66755a-a636-42bc-bbc8-e6ad68cc4842"
      },
      "outputs": [
        {
          "name": "stdout",
          "output_type": "stream",
          "text": [
            "Outliers:\n",
            "luxury_sales    35052\n",
            "fresh_sales         0\n",
            "dry_sales           0\n",
            "dtype: int64\n"
          ]
        }
      ],
      "source": [
        "# Calculate the IQR for each column\n",
        "Q1 = train_df[['luxury_sales', 'fresh_sales', 'dry_sales']].quantile(0.25)\n",
        "Q3 = train_df[['luxury_sales', 'fresh_sales', 'dry_sales']].quantile(0.75)\n",
        "IQR = Q3 - Q1\n",
        "\n",
        "# Identify outliers\n",
        "outliers = ((train_df[['luxury_sales', 'fresh_sales', 'dry_sales']] < (Q1 - 1.5 * IQR)) |\n",
        "            (train_df[['luxury_sales', 'fresh_sales', 'dry_sales']] > (Q3 + 1.5 * IQR)))\n",
        "\n",
        "# Display the outliers\n",
        "print(\"Outliers:\")\n",
        "print(outliers.sum())"
      ]
    },
    {
      "cell_type": "code",
      "execution_count": 56,
      "metadata": {
        "colab": {
          "base_uri": "https://localhost:8080/",
          "height": 0
        },
        "id": "JEBWpnYt8Ds4",
        "outputId": "41ad0c57-810a-443e-dbdc-ac22c8f0294c"
      },
      "outputs": [
        {
          "data": {
            "image/png": "[encoded data removed]",
            "text/plain": [
              "<Figure size 1200x400 with 3 Axes>"
            ]
          },
          "metadata": {},
          "output_type": "display_data"
        },
        {
          "name": "stderr",
          "output_type": "stream",
          "text": [
            "c:\\Users\\usith\\anaconda3\\Lib\\site-packages\\seaborn\\_oldcore.py:1119: FutureWarning: use_inf_as_na option is deprecated and will be removed in a future version. Convert inf values to NaN before operating instead.\n",
            "  with pd.option_context('mode.use_inf_as_na', True):\n",
            "c:\\Users\\usith\\anaconda3\\Lib\\site-packages\\seaborn\\_oldcore.py:1119: FutureWarning: use_inf_as_na option is deprecated and will be removed in a future version. Convert inf values to NaN before operating instead.\n",
            "  with pd.option_context('mode.use_inf_as_na', True):\n",
            "c:\\Users\\usith\\anaconda3\\Lib\\site-packages\\seaborn\\_oldcore.py:1119: FutureWarning: use_inf_as_na option is deprecated and will be removed in a future version. Convert inf values to NaN before operating instead.\n",
            "  with pd.option_context('mode.use_inf_as_na', True):\n"
          ]
        },
        {
          "data": {
            "image/png": "[encoded data removed]",
            "text/plain": [
              "<Figure size 1200x400 with 3 Axes>"
            ]
          },
          "metadata": {},
          "output_type": "display_data"
        }
      ],
      "source": [
        "import matplotlib.pyplot as plt\n",
        "import seaborn as sns\n",
        "\n",
        "# Create subplots for box plots\n",
        "plt.figure(figsize=(12, 4))\n",
        "plt.subplot(1, 3, 1)\n",
        "sns.boxplot(data=train_df['luxury_sales'])\n",
        "plt.title('Luxury Sales')\n",
        "\n",
        "plt.subplot(1, 3, 2)\n",
        "sns.boxplot(data=train_df['fresh_sales'])\n",
        "plt.title('Fresh Sales')\n",
        "\n",
        "plt.subplot(1, 3, 3)\n",
        "sns.boxplot(data=train_df['dry_sales'])\n",
        "plt.title('Dry Sales')\n",
        "\n",
        "plt.tight_layout()\n",
        "plt.show()\n",
        "\n",
        "# Create subplots for histograms\n",
        "plt.figure(figsize=(12, 4))\n",
        "plt.subplot(1, 3, 1)\n",
        "sns.histplot(train_df['luxury_sales'], bins=20, kde=True)\n",
        "plt.title('Luxury Sales')\n",
        "\n",
        "plt.subplot(1, 3, 2)\n",
        "sns.histplot(train_df['fresh_sales'], bins=20, kde=True)\n",
        "plt.title('Fresh Sales')\n",
        "\n",
        "plt.subplot(1, 3, 3)\n",
        "sns.histplot(train_df['dry_sales'], bins=20, kde=True)\n",
        "plt.title('Dry Sales')\n",
        "\n",
        "plt.tight_layout()\n",
        "plt.show()"
      ]
    },
    {
      "cell_type": "markdown",
      "metadata": {
        "id": "dJE6ZOMQ8Ds4"
      },
      "source": [
        "### 1.3.4. Feature Engineering"
      ]
    },
    {
      "cell_type": "markdown",
      "metadata": {
        "id": "HzA8hAe18Ds4"
      },
      "source": [
        "#### Adding a city_cluster column to be fit with Anuradhapura and Madawachchiya"
      ]
    },
    {
      "cell_type": "code",
      "execution_count": 57,
      "metadata": {
        "colab": {
          "base_uri": "https://localhost:8080/"
        },
        "id": "snI2DROc8Ds4",
        "outputId": "83bc3855-6c36-47a1-b9c9-acec4f058243"
      },
      "outputs": [
        {
          "name": "stdout",
          "output_type": "stream",
          "text": [
            "Count of rows where outlet city is 'Madawachchiya': 1499\n",
            "Count of rows where outlet city is 'Anuradhapura': 1645\n"
          ]
        }
      ],
      "source": [
        "# Count rows where outlet_city values are 'Madawachchiya' or 'Anuradhapura'\n",
        "count_madawachchiya = (test_df['outlet_city'] == 'Madawachchiya').sum()\n",
        "count_anuradhapura = (test_df['outlet_city'] == 'Anuradhapura').sum()\n",
        "\n",
        "# Display the counts\n",
        "print(\"Count of rows where outlet city is 'Madawachchiya':\", count_madawachchiya)\n",
        "print(\"Count of rows where outlet city is 'Anuradhapura':\", count_anuradhapura)"
      ]
    },
    {
      "cell_type": "code",
      "execution_count": 58,
      "metadata": {
        "colab": {
          "base_uri": "https://localhost:8080/",
          "height": 677
        },
        "id": "cYL9Su5t8Ds4",
        "outputId": "a8681a68-5800-4a64-bb9e-fae42961972e"
      },
      "outputs": [
        {
          "data": {
            "text/html": [
              "<div>\n",
              "<style scoped>\n",
              "    .dataframe tbody tr th:only-of-type {\n",
              "        vertical-align: middle;\n",
              "    }\n",
              "\n",
              "    .dataframe tbody tr th {\n",
              "        vertical-align: top;\n",
              "    }\n",
              "\n",
              "    .dataframe thead th {\n",
              "        text-align: right;\n",
              "    }\n",
              "</style>\n",
              "<table border=\"1\" class=\"dataframe\">\n",
              "  <thead>\n",
              "    <tr style=\"text-align: right;\">\n",
              "      <th></th>\n",
              "      <th>outlet_city</th>\n",
              "      <th>luxury_sales</th>\n",
              "      <th>fresh_sales</th>\n",
              "      <th>dry_sales</th>\n",
              "    </tr>\n",
              "  </thead>\n",
              "  <tbody>\n",
              "    <tr>\n",
              "      <th>0</th>\n",
              "      <td>Batticaloa</td>\n",
              "      <td>2127.841328</td>\n",
              "      <td>5025.935543</td>\n",
              "      <td>5053.892738</td>\n",
              "    </tr>\n",
              "    <tr>\n",
              "      <th>1</th>\n",
              "      <td>Colombo</td>\n",
              "      <td>2124.722036</td>\n",
              "      <td>5016.848258</td>\n",
              "      <td>5040.733917</td>\n",
              "    </tr>\n",
              "    <tr>\n",
              "      <th>2</th>\n",
              "      <td>Dehiwala-Mount Lavinia</td>\n",
              "      <td>1692.615799</td>\n",
              "      <td>3791.402798</td>\n",
              "      <td>4245.409108</td>\n",
              "    </tr>\n",
              "    <tr>\n",
              "      <th>3</th>\n",
              "      <td>Galle</td>\n",
              "      <td>2126.907706</td>\n",
              "      <td>5011.892306</td>\n",
              "      <td>5067.996582</td>\n",
              "    </tr>\n",
              "    <tr>\n",
              "      <th>4</th>\n",
              "      <td>Gampaha</td>\n",
              "      <td>2115.833253</td>\n",
              "      <td>4983.363756</td>\n",
              "      <td>5062.142283</td>\n",
              "    </tr>\n",
              "    <tr>\n",
              "      <th>5</th>\n",
              "      <td>Homagama</td>\n",
              "      <td>1698.791444</td>\n",
              "      <td>3783.255898</td>\n",
              "      <td>4257.035330</td>\n",
              "    </tr>\n",
              "    <tr>\n",
              "      <th>6</th>\n",
              "      <td>Jaffna</td>\n",
              "      <td>2124.764573</td>\n",
              "      <td>5019.505535</td>\n",
              "      <td>5043.694600</td>\n",
              "    </tr>\n",
              "    <tr>\n",
              "      <th>7</th>\n",
              "      <td>Kaduwela</td>\n",
              "      <td>1698.207052</td>\n",
              "      <td>3784.738570</td>\n",
              "      <td>4279.350221</td>\n",
              "    </tr>\n",
              "    <tr>\n",
              "      <th>8</th>\n",
              "      <td>Kalmunai</td>\n",
              "      <td>2114.864944</td>\n",
              "      <td>5009.285972</td>\n",
              "      <td>5039.080322</td>\n",
              "    </tr>\n",
              "    <tr>\n",
              "      <th>9</th>\n",
              "      <td>Kandy</td>\n",
              "      <td>2123.396792</td>\n",
              "      <td>5012.833610</td>\n",
              "      <td>5064.110827</td>\n",
              "    </tr>\n",
              "    <tr>\n",
              "      <th>10</th>\n",
              "      <td>Katunayake</td>\n",
              "      <td>2114.170300</td>\n",
              "      <td>4968.413155</td>\n",
              "      <td>5077.539475</td>\n",
              "    </tr>\n",
              "    <tr>\n",
              "      <th>11</th>\n",
              "      <td>Kelaniya</td>\n",
              "      <td>1691.621224</td>\n",
              "      <td>3801.356413</td>\n",
              "      <td>4237.727815</td>\n",
              "    </tr>\n",
              "    <tr>\n",
              "      <th>12</th>\n",
              "      <td>Kotte</td>\n",
              "      <td>1698.170754</td>\n",
              "      <td>3771.776914</td>\n",
              "      <td>4248.320912</td>\n",
              "    </tr>\n",
              "    <tr>\n",
              "      <th>13</th>\n",
              "      <td>Moratuwa</td>\n",
              "      <td>1698.800960</td>\n",
              "      <td>3791.173606</td>\n",
              "      <td>4262.110975</td>\n",
              "    </tr>\n",
              "    <tr>\n",
              "      <th>14</th>\n",
              "      <td>Negombo</td>\n",
              "      <td>2128.674081</td>\n",
              "      <td>5010.392099</td>\n",
              "      <td>5056.571607</td>\n",
              "    </tr>\n",
              "    <tr>\n",
              "      <th>15</th>\n",
              "      <td>Nuwara Eliya</td>\n",
              "      <td>1709.261144</td>\n",
              "      <td>3771.566000</td>\n",
              "      <td>4287.212599</td>\n",
              "    </tr>\n",
              "    <tr>\n",
              "      <th>16</th>\n",
              "      <td>Panadura</td>\n",
              "      <td>1698.534146</td>\n",
              "      <td>3799.455851</td>\n",
              "      <td>4256.289267</td>\n",
              "    </tr>\n",
              "    <tr>\n",
              "      <th>17</th>\n",
              "      <td>Peliyagoda</td>\n",
              "      <td>1703.257489</td>\n",
              "      <td>3798.748413</td>\n",
              "      <td>4241.612130</td>\n",
              "    </tr>\n",
              "    <tr>\n",
              "      <th>18</th>\n",
              "      <td>Trincomalee</td>\n",
              "      <td>2126.839613</td>\n",
              "      <td>5012.175839</td>\n",
              "      <td>5037.804113</td>\n",
              "    </tr>\n",
              "    <tr>\n",
              "      <th>19</th>\n",
              "      <td>Wattala</td>\n",
              "      <td>1700.494442</td>\n",
              "      <td>3772.825720</td>\n",
              "      <td>4249.276900</td>\n",
              "    </tr>\n",
              "  </tbody>\n",
              "</table>\n",
              "</div>"
            ],
            "text/plain": [
              "               outlet_city  luxury_sales  fresh_sales    dry_sales\n",
              "0               Batticaloa   2127.841328  5025.935543  5053.892738\n",
              "1                  Colombo   2124.722036  5016.848258  5040.733917\n",
              "2   Dehiwala-Mount Lavinia   1692.615799  3791.402798  4245.409108\n",
              "3                    Galle   2126.907706  5011.892306  5067.996582\n",
              "4                  Gampaha   2115.833253  4983.363756  5062.142283\n",
              "5                 Homagama   1698.791444  3783.255898  4257.035330\n",
              "6                   Jaffna   2124.764573  5019.505535  5043.694600\n",
              "7                 Kaduwela   1698.207052  3784.738570  4279.350221\n",
              "8                 Kalmunai   2114.864944  5009.285972  5039.080322\n",
              "9                    Kandy   2123.396792  5012.833610  5064.110827\n",
              "10              Katunayake   2114.170300  4968.413155  5077.539475\n",
              "11                Kelaniya   1691.621224  3801.356413  4237.727815\n",
              "12                   Kotte   1698.170754  3771.776914  4248.320912\n",
              "13                Moratuwa   1698.800960  3791.173606  4262.110975\n",
              "14                 Negombo   2128.674081  5010.392099  5056.571607\n",
              "15            Nuwara Eliya   1709.261144  3771.566000  4287.212599\n",
              "16                Panadura   1698.534146  3799.455851  4256.289267\n",
              "17              Peliyagoda   1703.257489  3798.748413  4241.612130\n",
              "18             Trincomalee   2126.839613  5012.175839  5037.804113\n",
              "19                 Wattala   1700.494442  3772.825720  4249.276900"
            ]
          },
          "execution_count": 58,
          "metadata": {},
          "output_type": "execute_result"
        }
      ],
      "source": [
        "# Group train_df by outlet_city and calculate the average of luxury_sales, fresh_sales, and dry_sales\n",
        "city_cluster_df_train = train_df.groupby('outlet_city')[['luxury_sales', 'fresh_sales', 'dry_sales']].mean().reset_index()\n",
        "\n",
        "# Display the new DataFrame\n",
        "city_cluster_df_train"
      ]
    },
    {
      "cell_type": "code",
      "execution_count": 59,
      "metadata": {
        "colab": {
          "base_uri": "https://localhost:8080/",
          "height": 804
        },
        "id": "5W17NDTM8Ds5",
        "outputId": "eb98d4a2-53ec-4a77-989f-1b1962e8b924"
      },
      "outputs": [
        {
          "name": "stderr",
          "output_type": "stream",
          "text": [
            "c:\\Users\\usith\\anaconda3\\Lib\\site-packages\\sklearn\\cluster\\_kmeans.py:1446: UserWarning: KMeans is known to have a memory leak on Windows with MKL, when there are less chunks than available threads. You can avoid it by setting the environment variable OMP_NUM_THREADS=1.\n",
            "  warnings.warn(\n",
            "c:\\Users\\usith\\anaconda3\\Lib\\site-packages\\sklearn\\cluster\\_kmeans.py:1446: UserWarning: KMeans is known to have a memory leak on Windows with MKL, when there are less chunks than available threads. You can avoid it by setting the environment variable OMP_NUM_THREADS=1.\n",
            "  warnings.warn(\n",
            "c:\\Users\\usith\\anaconda3\\Lib\\site-packages\\sklearn\\cluster\\_kmeans.py:1446: UserWarning: KMeans is known to have a memory leak on Windows with MKL, when there are less chunks than available threads. You can avoid it by setting the environment variable OMP_NUM_THREADS=1.\n",
            "  warnings.warn(\n",
            "c:\\Users\\usith\\anaconda3\\Lib\\site-packages\\sklearn\\cluster\\_kmeans.py:1446: UserWarning: KMeans is known to have a memory leak on Windows with MKL, when there are less chunks than available threads. You can avoid it by setting the environment variable OMP_NUM_THREADS=1.\n",
            "  warnings.warn(\n",
            "c:\\Users\\usith\\anaconda3\\Lib\\site-packages\\sklearn\\cluster\\_kmeans.py:1446: UserWarning: KMeans is known to have a memory leak on Windows with MKL, when there are less chunks than available threads. You can avoid it by setting the environment variable OMP_NUM_THREADS=1.\n",
            "  warnings.warn(\n",
            "c:\\Users\\usith\\anaconda3\\Lib\\site-packages\\sklearn\\cluster\\_kmeans.py:1446: UserWarning: KMeans is known to have a memory leak on Windows with MKL, when there are less chunks than available threads. You can avoid it by setting the environment variable OMP_NUM_THREADS=1.\n",
            "  warnings.warn(\n",
            "c:\\Users\\usith\\anaconda3\\Lib\\site-packages\\sklearn\\cluster\\_kmeans.py:1446: UserWarning: KMeans is known to have a memory leak on Windows with MKL, when there are less chunks than available threads. You can avoid it by setting the environment variable OMP_NUM_THREADS=1.\n",
            "  warnings.warn(\n",
            "c:\\Users\\usith\\anaconda3\\Lib\\site-packages\\sklearn\\cluster\\_kmeans.py:1446: UserWarning: KMeans is known to have a memory leak on Windows with MKL, when there are less chunks than available threads. You can avoid it by setting the environment variable OMP_NUM_THREADS=1.\n",
            "  warnings.warn(\n",
            "c:\\Users\\usith\\anaconda3\\Lib\\site-packages\\sklearn\\cluster\\_kmeans.py:1446: UserWarning: KMeans is known to have a memory leak on Windows with MKL, when there are less chunks than available threads. You can avoid it by setting the environment variable OMP_NUM_THREADS=1.\n",
            "  warnings.warn(\n"
          ]
        },
        {
          "data": {
            "image/png": "[encoded data removed]",
            "text/plain": [
              "<Figure size 640x480 with 1 Axes>"
            ]
          },
          "metadata": {},
          "output_type": "display_data"
        }
      ],
      "source": [
        "from sklearn.cluster import KMeans\n",
        "from sklearn.metrics import silhouette_score\n",
        "import matplotlib.pyplot as plt\n",
        "\n",
        "# Select features for clustering\n",
        "features = city_cluster_df_train[['luxury_sales', 'fresh_sales', 'dry_sales']]\n",
        "\n",
        "# Scale features if necessary (optional but can improve clustering performance)\n",
        "from sklearn.preprocessing import StandardScaler\n",
        "scaler = StandardScaler()\n",
        "scaled_features = scaler.fit_transform(features)\n",
        "\n",
        "# assuming 'data' is our multidimensional data\n",
        "scores = []\n",
        "for k in range(2, 11):\n",
        "    kmeans = KMeans(n_clusters=k).fit(scaled_features)\n",
        "    score = silhouette_score(scaled_features, kmeans.labels_)\n",
        "    scores.append(score)\n",
        "\n",
        "plt.plot(range(2, 11), scores)\n",
        "plt.title('Silhouette Score Method')\n",
        "plt.xlabel('Number of clusters')\n",
        "plt.ylabel('Silhouette Score')\n",
        "plt.show()"
      ]
    },
    {
      "cell_type": "code",
      "execution_count": 60,
      "metadata": {
        "colab": {
          "base_uri": "https://localhost:8080/"
        },
        "id": "oNKvPXZ_8Ds5",
        "outputId": "fc760d12-6179-4954-d1b8-0fc771b1e938"
      },
      "outputs": [
        {
          "name": "stdout",
          "output_type": "stream",
          "text": [
            "Unique cities under Cluster 0: ['Dehiwala-Mount Lavinia' 'Homagama' 'Kaduwela' 'Kelaniya' 'Kotte'\n",
            " 'Moratuwa' 'Nuwara Eliya' 'Panadura' 'Peliyagoda' 'Wattala']\n",
            "Unique cities under Cluster 1: ['Batticaloa' 'Colombo' 'Galle' 'Gampaha' 'Jaffna' 'Kalmunai' 'Kandy'\n",
            " 'Katunayake' 'Negombo' 'Trincomalee']\n"
          ]
        },
        {
          "name": "stderr",
          "output_type": "stream",
          "text": [
            "c:\\Users\\usith\\anaconda3\\Lib\\site-packages\\sklearn\\cluster\\_kmeans.py:1446: UserWarning: KMeans is known to have a memory leak on Windows with MKL, when there are less chunks than available threads. You can avoid it by setting the environment variable OMP_NUM_THREADS=1.\n",
            "  warnings.warn(\n"
          ]
        }
      ],
      "source": [
        "from sklearn.cluster import KMeans\n",
        "\n",
        "# Select features for clustering\n",
        "features = city_cluster_df_train[['luxury_sales', 'fresh_sales', 'dry_sales']]\n",
        "\n",
        "# Scale features if necessary (optional but can improve clustering performance)\n",
        "from sklearn.preprocessing import StandardScaler\n",
        "scaler = StandardScaler()\n",
        "scaled_features = scaler.fit_transform(features)\n",
        "\n",
        "# Define the number of clusters\n",
        "num_clusters = 2\n",
        "\n",
        "# Apply K-means clustering\n",
        "kmeans = KMeans(n_clusters=num_clusters, random_state=42)\n",
        "cluster_labels = kmeans.fit_predict(scaled_features)\n",
        "\n",
        "# Assign cluster labels to outlet cities\n",
        "city_cluster_df_train['cluster_label'] = cluster_labels\n",
        "\n",
        "# Iterate over each cluster label\n",
        "for label in range(num_clusters):\n",
        "    # Filter DataFrame for each cluster label\n",
        "    cluster_df = city_cluster_df_train[city_cluster_df_train['cluster_label'] == label]\n",
        "    # Extract unique cities under the current cluster label\n",
        "    unique_cities = cluster_df['outlet_city'].unique()\n",
        "    # Print the unique cities for the current cluster label\n",
        "    print(f\"Unique cities under Cluster {label}: {unique_cities}\")\n"
      ]
    },
    {
      "cell_type": "code",
      "execution_count": 61,
      "metadata": {
        "colab": {
          "base_uri": "https://localhost:8080/"
        },
        "id": "9rHAM1gf8Ds5",
        "outputId": "9523c95f-bd69-4d54-afd8-1d3aa05081a8"
      },
      "outputs": [
        {
          "name": "stdout",
          "output_type": "stream",
          "text": [
            "               outlet_city  luxury_sales  fresh_sales    dry_sales\n",
            "0             Anuradhapura   1789.050723  4568.640948  5741.289295\n",
            "1               Batticaloa   2168.390335  5218.438764  5012.771520\n",
            "2                  Colombo   2108.621133  5000.204828  5024.919575\n",
            "3   Dehiwala-Mount Lavinia   1712.505835  3786.805411  4298.519435\n",
            "4                    Galle   3147.413443  5888.338794  2883.869408\n",
            "5                  Gampaha   2091.913785  5077.812953  4842.546679\n",
            "6                 Homagama   1691.019959  3894.984321  4161.546565\n",
            "7                   Jaffna   2120.717511  5043.754650  5107.224668\n",
            "8                 Kaduwela   1704.729022  3700.554931  4331.454601\n",
            "9                 Kalmunai   2157.405034  4943.223144  5375.372342\n",
            "10                   Kandy   2189.333417  5124.111656  4978.234274\n",
            "11              Katunayake   2131.675220  4915.102248  5056.932091\n",
            "12                Kelaniya   1708.546934  3816.103475  4298.377771\n",
            "13                   Kotte   2374.282032  4693.787916  2585.679974\n",
            "14           Madawachchiya   1547.535110  3539.413736  4700.230120\n",
            "15                Moratuwa   1706.746968  3887.199338  4262.165544\n",
            "16                 Negombo   2099.521071  4951.429962  5105.101249\n",
            "17            Nuwara Eliya   1736.769791  3839.854982  4349.211844\n",
            "18                Panadura   1695.882735  3746.048398  4266.791508\n",
            "19              Peliyagoda   1705.977021  3939.280416  4221.776614\n",
            "20             Trincomalee   2104.712418  5082.826733  4978.108470\n",
            "21                 Wattala   1690.355991  3627.895986  4347.040526\n"
          ]
        }
      ],
      "source": [
        "# Group train_df by outlet_city and calculate the average of luxury_sales, fresh_sales, and dry_sales\n",
        "city_cluster_df_test = test_df.groupby('outlet_city')[['luxury_sales', 'fresh_sales', 'dry_sales']].mean().reset_index()\n",
        "\n",
        "# Display the new DataFrame\n",
        "print(city_cluster_df_test)"
      ]
    },
    {
      "cell_type": "code",
      "execution_count": 62,
      "metadata": {
        "colab": {
          "base_uri": "https://localhost:8080/"
        },
        "id": "vjecOENY8Ds5",
        "outputId": "99edc589-3a0d-4930-f4fe-31ab813f3d5b"
      },
      "outputs": [
        {
          "name": "stdout",
          "output_type": "stream",
          "text": [
            "Unique cities under Cluster 0: ['Dehiwala-Mount Lavinia' 'Homagama' 'Kaduwela' 'Kelaniya' 'Kotte'\n",
            " 'Madawachchiya' 'Moratuwa' 'Nuwara Eliya' 'Panadura' 'Peliyagoda'\n",
            " 'Wattala']\n",
            "Unique cities under Cluster 1: ['Anuradhapura' 'Batticaloa' 'Colombo' 'Galle' 'Gampaha' 'Jaffna'\n",
            " 'Kalmunai' 'Kandy' 'Katunayake' 'Negombo' 'Trincomalee']\n"
          ]
        },
        {
          "name": "stderr",
          "output_type": "stream",
          "text": [
            "c:\\Users\\usith\\anaconda3\\Lib\\site-packages\\sklearn\\cluster\\_kmeans.py:1446: UserWarning: KMeans is known to have a memory leak on Windows with MKL, when there are less chunks than available threads. You can avoid it by setting the environment variable OMP_NUM_THREADS=1.\n",
            "  warnings.warn(\n"
          ]
        }
      ],
      "source": [
        "from sklearn.cluster import KMeans\n",
        "\n",
        "# Select features for clustering\n",
        "features = city_cluster_df_test[['luxury_sales', 'fresh_sales', 'dry_sales']]\n",
        "\n",
        "# Scale features if necessary (optional but can improve clustering performance)\n",
        "from sklearn.preprocessing import StandardScaler\n",
        "scaler = StandardScaler()\n",
        "scaled_features = scaler.fit_transform(features)\n",
        "\n",
        "# Define the number of clusters\n",
        "num_clusters = 2\n",
        "\n",
        "# Apply K-means clustering\n",
        "kmeans = KMeans(n_clusters=num_clusters, random_state=42)\n",
        "cluster_labels = kmeans.fit_predict(scaled_features)\n",
        "\n",
        "# Assign cluster labels to outlet cities\n",
        "city_cluster_df_test['cluster_label'] = cluster_labels\n",
        "\n",
        "# Iterate over each cluster label\n",
        "for label in range(num_clusters):\n",
        "    # Filter DataFrame for each cluster label\n",
        "    cluster_df = city_cluster_df_test[city_cluster_df_test['cluster_label'] == label]\n",
        "    # Extract unique cities under the current cluster label\n",
        "    unique_cities = cluster_df['outlet_city'].unique()\n",
        "    # Print the unique cities for the current cluster label\n",
        "    print(f\"Unique cities under Cluster {label}: {unique_cities}\")"
      ]
    },
    {
      "cell_type": "code",
      "execution_count": 63,
      "metadata": {
        "id": "Pd4-sBPA8Ds5"
      },
      "outputs": [],
      "source": [
        "# Define a function to map outlet_city values to cluster values\n",
        "def map_city_to_cluster(city):\n",
        "    if city in ['Dehiwala-Mount Lavinia', 'Homagama', 'Kaduwela', 'Kelaniya', 'Madawachchiya',\n",
        "                'Moratuwa', 'Nuwara Eliya', 'Panadura', 'Peliyagoda', 'Wattala', 'Kotte']:\n",
        "        return 0\n",
        "    elif city in ['Anuradhapura', 'Batticaloa', 'Colombo', 'Gampaha', 'Jaffna', 'Kalmunai',\n",
        "                  'Kandy', 'Katunayake', 'Negombo', 'Trincomalee', 'Galle']:\n",
        "        return 1\n",
        "    else:\n",
        "        return None  # or any other default value for other cities"
      ]
    },
    {
      "cell_type": "code",
      "execution_count": 64,
      "metadata": {
        "id": "TpsZNvkL8Ds6"
      },
      "outputs": [],
      "source": [
        "# Apply the function to create the city_cluster column\n",
        "train_df['city_cluster'] = train_df['outlet_city'].apply(map_city_to_cluster)"
      ]
    },
    {
      "cell_type": "code",
      "execution_count": 65,
      "metadata": {
        "colab": {
          "base_uri": "https://localhost:8080/"
        },
        "id": "PL8TEV3d8Ds6",
        "outputId": "62d160e6-9da3-47d6-e781-5f411f8d1de1"
      },
      "outputs": [
        {
          "data": {
            "text/plain": [
              "Customer_ID         0\n",
              "outlet_city         0\n",
              "luxury_sales        0\n",
              "fresh_sales         0\n",
              "dry_sales           0\n",
              "cluster_category    0\n",
              "city_cluster        0\n",
              "dtype: int64"
            ]
          },
          "execution_count": 65,
          "metadata": {},
          "output_type": "execute_result"
        }
      ],
      "source": [
        "train_df.isnull().sum()"
      ]
    },
    {
      "cell_type": "code",
      "execution_count": 66,
      "metadata": {
        "id": "NA-LWCae8Ds6"
      },
      "outputs": [],
      "source": [
        "# Apply the function to create the city_cluster column\n",
        "test_df['city_cluster'] = test_df['outlet_city'].apply(map_city_to_cluster)"
      ]
    },
    {
      "cell_type": "code",
      "execution_count": 67,
      "metadata": {
        "colab": {
          "base_uri": "https://localhost:8080/"
        },
        "id": "RE482OUg8Ds6",
        "outputId": "3486c741-a747-4bee-c139-2617d884cdca"
      },
      "outputs": [
        {
          "data": {
            "text/plain": [
              "Customer_ID     0\n",
              "outlet_city     0\n",
              "luxury_sales    0\n",
              "fresh_sales     0\n",
              "dry_sales       0\n",
              "city_cluster    0\n",
              "dtype: int64"
            ]
          },
          "execution_count": 67,
          "metadata": {},
          "output_type": "execute_result"
        }
      ],
      "source": [
        "test_df.isnull().sum()"
      ]
    },
    {
      "cell_type": "code",
      "execution_count": 68,
      "metadata": {
        "colab": {
          "base_uri": "https://localhost:8080/"
        },
        "id": "zXOWCmjN8Ds6",
        "outputId": "54ad86eb-853b-4b32-f5d0-722f3fb089d1"
      },
      "outputs": [
        {
          "data": {
            "text/plain": [
              "Customer_ID         float64\n",
              "outlet_city          object\n",
              "luxury_sales        float64\n",
              "fresh_sales         float64\n",
              "dry_sales           float64\n",
              "cluster_category    float64\n",
              "city_cluster          int64\n",
              "dtype: object"
            ]
          },
          "execution_count": 68,
          "metadata": {},
          "output_type": "execute_result"
        }
      ],
      "source": [
        "train_df.dtypes"
      ]
    },
    {
      "cell_type": "code",
      "execution_count": 69,
      "metadata": {
        "colab": {
          "base_uri": "https://localhost:8080/"
        },
        "id": "1EuM3OBt8Ds6",
        "outputId": "695388cf-6a4b-41e7-da2e-bcbafcef7ff0"
      },
      "outputs": [
        {
          "data": {
            "text/plain": [
              "Customer_ID       int64\n",
              "outlet_city      object\n",
              "luxury_sales    float64\n",
              "fresh_sales     float64\n",
              "dry_sales       float64\n",
              "city_cluster      int64\n",
              "dtype: object"
            ]
          },
          "execution_count": 69,
          "metadata": {},
          "output_type": "execute_result"
        }
      ],
      "source": [
        "test_df.dtypes"
      ]
    },
    {
      "cell_type": "markdown",
      "metadata": {
        "id": "ukVx-uxi8Ds6"
      },
      "source": [
        "#### Fixing Data types of the columns"
      ]
    },
    {
      "cell_type": "code",
      "execution_count": 70,
      "metadata": {
        "colab": {
          "base_uri": "https://localhost:8080/"
        },
        "id": "aXdXtrKt8Ds7",
        "outputId": "3e492b50-5d10-4964-f042-a6b97afa20d4"
      },
      "outputs": [
        {
          "name": "stdout",
          "output_type": "stream",
          "text": [
            "Customer_ID           int64\n",
            "outlet_city          object\n",
            "luxury_sales        float64\n",
            "fresh_sales         float64\n",
            "dry_sales           float64\n",
            "cluster_category      int64\n",
            "city_cluster          int64\n",
            "dtype: object\n"
          ]
        }
      ],
      "source": [
        "# Convert Customer_ID and cluster_category data types from float64 to int64\n",
        "train_df['Customer_ID'] = train_df['Customer_ID'].astype('int64')\n",
        "train_df['cluster_category'] = train_df['cluster_category'].astype('int64')\n",
        "\n",
        "# Display the updated data types\n",
        "print(train_df.dtypes)"
      ]
    },
    {
      "cell_type": "code",
      "execution_count": 71,
      "metadata": {
        "colab": {
          "base_uri": "https://localhost:8080/"
        },
        "id": "BfSMd34J8Ds7",
        "outputId": "f77bc78c-4ee4-4307-9475-48fdc0b36a28"
      },
      "outputs": [
        {
          "data": {
            "text/plain": [
              "array([4, 1, 2, 5, 3, 6], dtype=int64)"
            ]
          },
          "execution_count": 71,
          "metadata": {},
          "output_type": "execute_result"
        }
      ],
      "source": [
        "train_df['cluster_category'].unique()"
      ]
    },
    {
      "cell_type": "markdown",
      "metadata": {},
      "source": [
        "#### Making copies before Encoding"
      ]
    },
    {
      "cell_type": "code",
      "execution_count": 72,
      "metadata": {},
      "outputs": [],
      "source": [
        "train_df_copy = train_df.copy()\n",
        "test_df_copy = test_df.copy()"
      ]
    },
    {
      "cell_type": "markdown",
      "metadata": {
        "id": "pZztds5S8Ds7"
      },
      "source": [
        "#### One-Hot Encoding - outlet_city"
      ]
    },
    {
      "cell_type": "code",
      "execution_count": 73,
      "metadata": {
        "colab": {
          "base_uri": "https://localhost:8080/",
          "height": 273
        },
        "id": "JfityyIv8Ds7",
        "outputId": "4be6cc80-064a-4d9a-ef2a-ba017e475cc8"
      },
      "outputs": [
        {
          "data": {
            "text/html": [
              "<div>\n",
              "<style scoped>\n",
              "    .dataframe tbody tr th:only-of-type {\n",
              "        vertical-align: middle;\n",
              "    }\n",
              "\n",
              "    .dataframe tbody tr th {\n",
              "        vertical-align: top;\n",
              "    }\n",
              "\n",
              "    .dataframe thead th {\n",
              "        text-align: right;\n",
              "    }\n",
              "</style>\n",
              "<table border=\"1\" class=\"dataframe\">\n",
              "  <thead>\n",
              "    <tr style=\"text-align: right;\">\n",
              "      <th></th>\n",
              "      <th>Customer_ID</th>\n",
              "      <th>outlet_city</th>\n",
              "      <th>luxury_sales</th>\n",
              "      <th>fresh_sales</th>\n",
              "      <th>dry_sales</th>\n",
              "      <th>cluster_category</th>\n",
              "      <th>city_cluster</th>\n",
              "      <th>outlet_city_Batticaloa</th>\n",
              "      <th>outlet_city_Colombo</th>\n",
              "      <th>outlet_city_Dehiwala-Mount Lavinia</th>\n",
              "      <th>...</th>\n",
              "      <th>outlet_city_Katunayake</th>\n",
              "      <th>outlet_city_Kelaniya</th>\n",
              "      <th>outlet_city_Kotte</th>\n",
              "      <th>outlet_city_Moratuwa</th>\n",
              "      <th>outlet_city_Negombo</th>\n",
              "      <th>outlet_city_Nuwara Eliya</th>\n",
              "      <th>outlet_city_Panadura</th>\n",
              "      <th>outlet_city_Peliyagoda</th>\n",
              "      <th>outlet_city_Trincomalee</th>\n",
              "      <th>outlet_city_Wattala</th>\n",
              "    </tr>\n",
              "  </thead>\n",
              "  <tbody>\n",
              "    <tr>\n",
              "      <th>0</th>\n",
              "      <td>10493832</td>\n",
              "      <td>Kelaniya</td>\n",
              "      <td>1209.60</td>\n",
              "      <td>756.00</td>\n",
              "      <td>5292.00</td>\n",
              "      <td>4</td>\n",
              "      <td>0</td>\n",
              "      <td>False</td>\n",
              "      <td>False</td>\n",
              "      <td>False</td>\n",
              "      <td>...</td>\n",
              "      <td>False</td>\n",
              "      <td>True</td>\n",
              "      <td>False</td>\n",
              "      <td>False</td>\n",
              "      <td>False</td>\n",
              "      <td>False</td>\n",
              "      <td>False</td>\n",
              "      <td>False</td>\n",
              "      <td>False</td>\n",
              "      <td>False</td>\n",
              "    </tr>\n",
              "    <tr>\n",
              "      <th>1</th>\n",
              "      <td>10178643</td>\n",
              "      <td>Moratuwa</td>\n",
              "      <td>1590.12</td>\n",
              "      <td>1060.08</td>\n",
              "      <td>6007.12</td>\n",
              "      <td>1</td>\n",
              "      <td>0</td>\n",
              "      <td>False</td>\n",
              "      <td>False</td>\n",
              "      <td>False</td>\n",
              "      <td>...</td>\n",
              "      <td>False</td>\n",
              "      <td>False</td>\n",
              "      <td>False</td>\n",
              "      <td>True</td>\n",
              "      <td>False</td>\n",
              "      <td>False</td>\n",
              "      <td>False</td>\n",
              "      <td>False</td>\n",
              "      <td>False</td>\n",
              "      <td>False</td>\n",
              "    </tr>\n",
              "    <tr>\n",
              "      <th>2</th>\n",
              "      <td>10513916</td>\n",
              "      <td>Wattala</td>\n",
              "      <td>2288.88</td>\n",
              "      <td>1481.04</td>\n",
              "      <td>9155.52</td>\n",
              "      <td>4</td>\n",
              "      <td>0</td>\n",
              "      <td>False</td>\n",
              "      <td>False</td>\n",
              "      <td>False</td>\n",
              "      <td>...</td>\n",
              "      <td>False</td>\n",
              "      <td>False</td>\n",
              "      <td>False</td>\n",
              "      <td>False</td>\n",
              "      <td>False</td>\n",
              "      <td>False</td>\n",
              "      <td>False</td>\n",
              "      <td>False</td>\n",
              "      <td>False</td>\n",
              "      <td>True</td>\n",
              "    </tr>\n",
              "    <tr>\n",
              "      <th>3</th>\n",
              "      <td>10334589</td>\n",
              "      <td>Wattala</td>\n",
              "      <td>2274.94</td>\n",
              "      <td>1739.66</td>\n",
              "      <td>9099.76</td>\n",
              "      <td>4</td>\n",
              "      <td>0</td>\n",
              "      <td>False</td>\n",
              "      <td>False</td>\n",
              "      <td>False</td>\n",
              "      <td>...</td>\n",
              "      <td>False</td>\n",
              "      <td>False</td>\n",
              "      <td>False</td>\n",
              "      <td>False</td>\n",
              "      <td>False</td>\n",
              "      <td>False</td>\n",
              "      <td>False</td>\n",
              "      <td>False</td>\n",
              "      <td>False</td>\n",
              "      <td>True</td>\n",
              "    </tr>\n",
              "    <tr>\n",
              "      <th>4</th>\n",
              "      <td>10458365</td>\n",
              "      <td>Kelaniya</td>\n",
              "      <td>2345.49</td>\n",
              "      <td>2069.55</td>\n",
              "      <td>9243.99</td>\n",
              "      <td>4</td>\n",
              "      <td>0</td>\n",
              "      <td>False</td>\n",
              "      <td>False</td>\n",
              "      <td>False</td>\n",
              "      <td>...</td>\n",
              "      <td>False</td>\n",
              "      <td>True</td>\n",
              "      <td>False</td>\n",
              "      <td>False</td>\n",
              "      <td>False</td>\n",
              "      <td>False</td>\n",
              "      <td>False</td>\n",
              "      <td>False</td>\n",
              "      <td>False</td>\n",
              "      <td>False</td>\n",
              "    </tr>\n",
              "  </tbody>\n",
              "</table>\n",
              "<p>5 rows × 27 columns</p>\n",
              "</div>"
            ],
            "text/plain": [
              "   Customer_ID outlet_city  luxury_sales  fresh_sales  dry_sales  \\\n",
              "0     10493832    Kelaniya       1209.60       756.00    5292.00   \n",
              "1     10178643    Moratuwa       1590.12      1060.08    6007.12   \n",
              "2     10513916     Wattala       2288.88      1481.04    9155.52   \n",
              "3     10334589     Wattala       2274.94      1739.66    9099.76   \n",
              "4     10458365    Kelaniya       2345.49      2069.55    9243.99   \n",
              "\n",
              "   cluster_category  city_cluster  outlet_city_Batticaloa  \\\n",
              "0                 4             0                   False   \n",
              "1                 1             0                   False   \n",
              "2                 4             0                   False   \n",
              "3                 4             0                   False   \n",
              "4                 4             0                   False   \n",
              "\n",
              "   outlet_city_Colombo  outlet_city_Dehiwala-Mount Lavinia  ...  \\\n",
              "0                False                               False  ...   \n",
              "1                False                               False  ...   \n",
              "2                False                               False  ...   \n",
              "3                False                               False  ...   \n",
              "4                False                               False  ...   \n",
              "\n",
              "   outlet_city_Katunayake  outlet_city_Kelaniya  outlet_city_Kotte  \\\n",
              "0                   False                  True              False   \n",
              "1                   False                 False              False   \n",
              "2                   False                 False              False   \n",
              "3                   False                 False              False   \n",
              "4                   False                  True              False   \n",
              "\n",
              "   outlet_city_Moratuwa  outlet_city_Negombo  outlet_city_Nuwara Eliya  \\\n",
              "0                 False                False                     False   \n",
              "1                  True                False                     False   \n",
              "2                 False                False                     False   \n",
              "3                 False                False                     False   \n",
              "4                 False                False                     False   \n",
              "\n",
              "   outlet_city_Panadura  outlet_city_Peliyagoda  outlet_city_Trincomalee  \\\n",
              "0                 False                   False                    False   \n",
              "1                 False                   False                    False   \n",
              "2                 False                   False                    False   \n",
              "3                 False                   False                    False   \n",
              "4                 False                   False                    False   \n",
              "\n",
              "   outlet_city_Wattala  \n",
              "0                False  \n",
              "1                False  \n",
              "2                 True  \n",
              "3                 True  \n",
              "4                False  \n",
              "\n",
              "[5 rows x 27 columns]"
            ]
          },
          "execution_count": 73,
          "metadata": {},
          "output_type": "execute_result"
        }
      ],
      "source": [
        "# Use pandas get_dummies function\n",
        "encoded_outlet_city = pd.get_dummies(train_df['outlet_city'], prefix='outlet_city')\n",
        "\n",
        "# Concatenate the encoded columns with the original DataFrame\n",
        "train_df = pd.concat([train_df, encoded_outlet_city], axis=1)\n",
        "\n",
        "# Display the encoded DataFrame\n",
        "train_df.head()"
      ]
    },
    {
      "cell_type": "code",
      "execution_count": 74,
      "metadata": {
        "colab": {
          "base_uri": "https://localhost:8080/",
          "height": 273
        },
        "id": "Hl0hKSaW8Ds7",
        "outputId": "f748a82c-d2e1-4c13-88dd-3c7cec7766ff"
      },
      "outputs": [
        {
          "data": {
            "text/html": [
              "<div>\n",
              "<style scoped>\n",
              "    .dataframe tbody tr th:only-of-type {\n",
              "        vertical-align: middle;\n",
              "    }\n",
              "\n",
              "    .dataframe tbody tr th {\n",
              "        vertical-align: top;\n",
              "    }\n",
              "\n",
              "    .dataframe thead th {\n",
              "        text-align: right;\n",
              "    }\n",
              "</style>\n",
              "<table border=\"1\" class=\"dataframe\">\n",
              "  <thead>\n",
              "    <tr style=\"text-align: right;\">\n",
              "      <th></th>\n",
              "      <th>Customer_ID</th>\n",
              "      <th>outlet_city</th>\n",
              "      <th>luxury_sales</th>\n",
              "      <th>fresh_sales</th>\n",
              "      <th>dry_sales</th>\n",
              "      <th>cluster_category</th>\n",
              "      <th>city_cluster</th>\n",
              "      <th>outlet_city_Batticaloa</th>\n",
              "      <th>outlet_city_Colombo</th>\n",
              "      <th>outlet_city_Dehiwala-Mount Lavinia</th>\n",
              "      <th>...</th>\n",
              "      <th>outlet_city_Kotte</th>\n",
              "      <th>outlet_city_Moratuwa</th>\n",
              "      <th>outlet_city_Negombo</th>\n",
              "      <th>outlet_city_Nuwara Eliya</th>\n",
              "      <th>outlet_city_Panadura</th>\n",
              "      <th>outlet_city_Peliyagoda</th>\n",
              "      <th>outlet_city_Trincomalee</th>\n",
              "      <th>outlet_city_Wattala</th>\n",
              "      <th>outlet_city_Anuradhapura</th>\n",
              "      <th>outlet_city_Madawachchiya</th>\n",
              "    </tr>\n",
              "  </thead>\n",
              "  <tbody>\n",
              "    <tr>\n",
              "      <th>0</th>\n",
              "      <td>10493832</td>\n",
              "      <td>Kelaniya</td>\n",
              "      <td>1209.60</td>\n",
              "      <td>756.00</td>\n",
              "      <td>5292.00</td>\n",
              "      <td>4</td>\n",
              "      <td>0</td>\n",
              "      <td>False</td>\n",
              "      <td>False</td>\n",
              "      <td>False</td>\n",
              "      <td>...</td>\n",
              "      <td>False</td>\n",
              "      <td>False</td>\n",
              "      <td>False</td>\n",
              "      <td>False</td>\n",
              "      <td>False</td>\n",
              "      <td>False</td>\n",
              "      <td>False</td>\n",
              "      <td>False</td>\n",
              "      <td>False</td>\n",
              "      <td>False</td>\n",
              "    </tr>\n",
              "    <tr>\n",
              "      <th>1</th>\n",
              "      <td>10178643</td>\n",
              "      <td>Moratuwa</td>\n",
              "      <td>1590.12</td>\n",
              "      <td>1060.08</td>\n",
              "      <td>6007.12</td>\n",
              "      <td>1</td>\n",
              "      <td>0</td>\n",
              "      <td>False</td>\n",
              "      <td>False</td>\n",
              "      <td>False</td>\n",
              "      <td>...</td>\n",
              "      <td>False</td>\n",
              "      <td>True</td>\n",
              "      <td>False</td>\n",
              "      <td>False</td>\n",
              "      <td>False</td>\n",
              "      <td>False</td>\n",
              "      <td>False</td>\n",
              "      <td>False</td>\n",
              "      <td>False</td>\n",
              "      <td>False</td>\n",
              "    </tr>\n",
              "    <tr>\n",
              "      <th>2</th>\n",
              "      <td>10513916</td>\n",
              "      <td>Wattala</td>\n",
              "      <td>2288.88</td>\n",
              "      <td>1481.04</td>\n",
              "      <td>9155.52</td>\n",
              "      <td>4</td>\n",
              "      <td>0</td>\n",
              "      <td>False</td>\n",
              "      <td>False</td>\n",
              "      <td>False</td>\n",
              "      <td>...</td>\n",
              "      <td>False</td>\n",
              "      <td>False</td>\n",
              "      <td>False</td>\n",
              "      <td>False</td>\n",
              "      <td>False</td>\n",
              "      <td>False</td>\n",
              "      <td>False</td>\n",
              "      <td>True</td>\n",
              "      <td>False</td>\n",
              "      <td>False</td>\n",
              "    </tr>\n",
              "    <tr>\n",
              "      <th>3</th>\n",
              "      <td>10334589</td>\n",
              "      <td>Wattala</td>\n",
              "      <td>2274.94</td>\n",
              "      <td>1739.66</td>\n",
              "      <td>9099.76</td>\n",
              "      <td>4</td>\n",
              "      <td>0</td>\n",
              "      <td>False</td>\n",
              "      <td>False</td>\n",
              "      <td>False</td>\n",
              "      <td>...</td>\n",
              "      <td>False</td>\n",
              "      <td>False</td>\n",
              "      <td>False</td>\n",
              "      <td>False</td>\n",
              "      <td>False</td>\n",
              "      <td>False</td>\n",
              "      <td>False</td>\n",
              "      <td>True</td>\n",
              "      <td>False</td>\n",
              "      <td>False</td>\n",
              "    </tr>\n",
              "    <tr>\n",
              "      <th>4</th>\n",
              "      <td>10458365</td>\n",
              "      <td>Kelaniya</td>\n",
              "      <td>2345.49</td>\n",
              "      <td>2069.55</td>\n",
              "      <td>9243.99</td>\n",
              "      <td>4</td>\n",
              "      <td>0</td>\n",
              "      <td>False</td>\n",
              "      <td>False</td>\n",
              "      <td>False</td>\n",
              "      <td>...</td>\n",
              "      <td>False</td>\n",
              "      <td>False</td>\n",
              "      <td>False</td>\n",
              "      <td>False</td>\n",
              "      <td>False</td>\n",
              "      <td>False</td>\n",
              "      <td>False</td>\n",
              "      <td>False</td>\n",
              "      <td>False</td>\n",
              "      <td>False</td>\n",
              "    </tr>\n",
              "  </tbody>\n",
              "</table>\n",
              "<p>5 rows × 29 columns</p>\n",
              "</div>"
            ],
            "text/plain": [
              "   Customer_ID outlet_city  luxury_sales  fresh_sales  dry_sales  \\\n",
              "0     10493832    Kelaniya       1209.60       756.00    5292.00   \n",
              "1     10178643    Moratuwa       1590.12      1060.08    6007.12   \n",
              "2     10513916     Wattala       2288.88      1481.04    9155.52   \n",
              "3     10334589     Wattala       2274.94      1739.66    9099.76   \n",
              "4     10458365    Kelaniya       2345.49      2069.55    9243.99   \n",
              "\n",
              "   cluster_category  city_cluster  outlet_city_Batticaloa  \\\n",
              "0                 4             0                   False   \n",
              "1                 1             0                   False   \n",
              "2                 4             0                   False   \n",
              "3                 4             0                   False   \n",
              "4                 4             0                   False   \n",
              "\n",
              "   outlet_city_Colombo  outlet_city_Dehiwala-Mount Lavinia  ...  \\\n",
              "0                False                               False  ...   \n",
              "1                False                               False  ...   \n",
              "2                False                               False  ...   \n",
              "3                False                               False  ...   \n",
              "4                False                               False  ...   \n",
              "\n",
              "   outlet_city_Kotte  outlet_city_Moratuwa  outlet_city_Negombo  \\\n",
              "0              False                 False                False   \n",
              "1              False                  True                False   \n",
              "2              False                 False                False   \n",
              "3              False                 False                False   \n",
              "4              False                 False                False   \n",
              "\n",
              "   outlet_city_Nuwara Eliya  outlet_city_Panadura  outlet_city_Peliyagoda  \\\n",
              "0                     False                 False                   False   \n",
              "1                     False                 False                   False   \n",
              "2                     False                 False                   False   \n",
              "3                     False                 False                   False   \n",
              "4                     False                 False                   False   \n",
              "\n",
              "   outlet_city_Trincomalee  outlet_city_Wattala  outlet_city_Anuradhapura  \\\n",
              "0                    False                False                     False   \n",
              "1                    False                False                     False   \n",
              "2                    False                 True                     False   \n",
              "3                    False                 True                     False   \n",
              "4                    False                False                     False   \n",
              "\n",
              "   outlet_city_Madawachchiya  \n",
              "0                      False  \n",
              "1                      False  \n",
              "2                      False  \n",
              "3                      False  \n",
              "4                      False  \n",
              "\n",
              "[5 rows x 29 columns]"
            ]
          },
          "execution_count": 74,
          "metadata": {},
          "output_type": "execute_result"
        }
      ],
      "source": [
        "# Add additional columns for 'Anuradhapura' and 'Madawachchiya' with all rows set to False\n",
        "train_df['outlet_city_Anuradhapura'] = False\n",
        "train_df['outlet_city_Madawachchiya'] = False\n",
        "\n",
        "# Display the DataFrame with additional columns\n",
        "train_df.head()"
      ]
    },
    {
      "cell_type": "code",
      "execution_count": 75,
      "metadata": {
        "id": "8duXAbJH8Ds7"
      },
      "outputs": [],
      "source": [
        "# Drop the outlet_city column\n",
        "train_df = train_df.drop(columns=['outlet_city'])"
      ]
    },
    {
      "cell_type": "code",
      "execution_count": 76,
      "metadata": {
        "colab": {
          "base_uri": "https://localhost:8080/",
          "height": 273
        },
        "id": "uDN2maSM8Ds7",
        "outputId": "5c310842-95ce-4ef6-b983-e4320e69c59f"
      },
      "outputs": [
        {
          "data": {
            "text/html": [
              "<div>\n",
              "<style scoped>\n",
              "    .dataframe tbody tr th:only-of-type {\n",
              "        vertical-align: middle;\n",
              "    }\n",
              "\n",
              "    .dataframe tbody tr th {\n",
              "        vertical-align: top;\n",
              "    }\n",
              "\n",
              "    .dataframe thead th {\n",
              "        text-align: right;\n",
              "    }\n",
              "</style>\n",
              "<table border=\"1\" class=\"dataframe\">\n",
              "  <thead>\n",
              "    <tr style=\"text-align: right;\">\n",
              "      <th></th>\n",
              "      <th>Customer_ID</th>\n",
              "      <th>luxury_sales</th>\n",
              "      <th>fresh_sales</th>\n",
              "      <th>dry_sales</th>\n",
              "      <th>cluster_category</th>\n",
              "      <th>city_cluster</th>\n",
              "      <th>outlet_city_Batticaloa</th>\n",
              "      <th>outlet_city_Colombo</th>\n",
              "      <th>outlet_city_Dehiwala-Mount Lavinia</th>\n",
              "      <th>outlet_city_Galle</th>\n",
              "      <th>...</th>\n",
              "      <th>outlet_city_Kotte</th>\n",
              "      <th>outlet_city_Moratuwa</th>\n",
              "      <th>outlet_city_Negombo</th>\n",
              "      <th>outlet_city_Nuwara Eliya</th>\n",
              "      <th>outlet_city_Panadura</th>\n",
              "      <th>outlet_city_Peliyagoda</th>\n",
              "      <th>outlet_city_Trincomalee</th>\n",
              "      <th>outlet_city_Wattala</th>\n",
              "      <th>outlet_city_Anuradhapura</th>\n",
              "      <th>outlet_city_Madawachchiya</th>\n",
              "    </tr>\n",
              "  </thead>\n",
              "  <tbody>\n",
              "    <tr>\n",
              "      <th>0</th>\n",
              "      <td>10493832</td>\n",
              "      <td>1209.60</td>\n",
              "      <td>756.00</td>\n",
              "      <td>5292.00</td>\n",
              "      <td>4</td>\n",
              "      <td>0</td>\n",
              "      <td>False</td>\n",
              "      <td>False</td>\n",
              "      <td>False</td>\n",
              "      <td>False</td>\n",
              "      <td>...</td>\n",
              "      <td>False</td>\n",
              "      <td>False</td>\n",
              "      <td>False</td>\n",
              "      <td>False</td>\n",
              "      <td>False</td>\n",
              "      <td>False</td>\n",
              "      <td>False</td>\n",
              "      <td>False</td>\n",
              "      <td>False</td>\n",
              "      <td>False</td>\n",
              "    </tr>\n",
              "    <tr>\n",
              "      <th>1</th>\n",
              "      <td>10178643</td>\n",
              "      <td>1590.12</td>\n",
              "      <td>1060.08</td>\n",
              "      <td>6007.12</td>\n",
              "      <td>1</td>\n",
              "      <td>0</td>\n",
              "      <td>False</td>\n",
              "      <td>False</td>\n",
              "      <td>False</td>\n",
              "      <td>False</td>\n",
              "      <td>...</td>\n",
              "      <td>False</td>\n",
              "      <td>True</td>\n",
              "      <td>False</td>\n",
              "      <td>False</td>\n",
              "      <td>False</td>\n",
              "      <td>False</td>\n",
              "      <td>False</td>\n",
              "      <td>False</td>\n",
              "      <td>False</td>\n",
              "      <td>False</td>\n",
              "    </tr>\n",
              "    <tr>\n",
              "      <th>2</th>\n",
              "      <td>10513916</td>\n",
              "      <td>2288.88</td>\n",
              "      <td>1481.04</td>\n",
              "      <td>9155.52</td>\n",
              "      <td>4</td>\n",
              "      <td>0</td>\n",
              "      <td>False</td>\n",
              "      <td>False</td>\n",
              "      <td>False</td>\n",
              "      <td>False</td>\n",
              "      <td>...</td>\n",
              "      <td>False</td>\n",
              "      <td>False</td>\n",
              "      <td>False</td>\n",
              "      <td>False</td>\n",
              "      <td>False</td>\n",
              "      <td>False</td>\n",
              "      <td>False</td>\n",
              "      <td>True</td>\n",
              "      <td>False</td>\n",
              "      <td>False</td>\n",
              "    </tr>\n",
              "    <tr>\n",
              "      <th>3</th>\n",
              "      <td>10334589</td>\n",
              "      <td>2274.94</td>\n",
              "      <td>1739.66</td>\n",
              "      <td>9099.76</td>\n",
              "      <td>4</td>\n",
              "      <td>0</td>\n",
              "      <td>False</td>\n",
              "      <td>False</td>\n",
              "      <td>False</td>\n",
              "      <td>False</td>\n",
              "      <td>...</td>\n",
              "      <td>False</td>\n",
              "      <td>False</td>\n",
              "      <td>False</td>\n",
              "      <td>False</td>\n",
              "      <td>False</td>\n",
              "      <td>False</td>\n",
              "      <td>False</td>\n",
              "      <td>True</td>\n",
              "      <td>False</td>\n",
              "      <td>False</td>\n",
              "    </tr>\n",
              "    <tr>\n",
              "      <th>4</th>\n",
              "      <td>10458365</td>\n",
              "      <td>2345.49</td>\n",
              "      <td>2069.55</td>\n",
              "      <td>9243.99</td>\n",
              "      <td>4</td>\n",
              "      <td>0</td>\n",
              "      <td>False</td>\n",
              "      <td>False</td>\n",
              "      <td>False</td>\n",
              "      <td>False</td>\n",
              "      <td>...</td>\n",
              "      <td>False</td>\n",
              "      <td>False</td>\n",
              "      <td>False</td>\n",
              "      <td>False</td>\n",
              "      <td>False</td>\n",
              "      <td>False</td>\n",
              "      <td>False</td>\n",
              "      <td>False</td>\n",
              "      <td>False</td>\n",
              "      <td>False</td>\n",
              "    </tr>\n",
              "  </tbody>\n",
              "</table>\n",
              "<p>5 rows × 28 columns</p>\n",
              "</div>"
            ],
            "text/plain": [
              "   Customer_ID  luxury_sales  fresh_sales  dry_sales  cluster_category  \\\n",
              "0     10493832       1209.60       756.00    5292.00                 4   \n",
              "1     10178643       1590.12      1060.08    6007.12                 1   \n",
              "2     10513916       2288.88      1481.04    9155.52                 4   \n",
              "3     10334589       2274.94      1739.66    9099.76                 4   \n",
              "4     10458365       2345.49      2069.55    9243.99                 4   \n",
              "\n",
              "   city_cluster  outlet_city_Batticaloa  outlet_city_Colombo  \\\n",
              "0             0                   False                False   \n",
              "1             0                   False                False   \n",
              "2             0                   False                False   \n",
              "3             0                   False                False   \n",
              "4             0                   False                False   \n",
              "\n",
              "   outlet_city_Dehiwala-Mount Lavinia  outlet_city_Galle  ...  \\\n",
              "0                               False              False  ...   \n",
              "1                               False              False  ...   \n",
              "2                               False              False  ...   \n",
              "3                               False              False  ...   \n",
              "4                               False              False  ...   \n",
              "\n",
              "   outlet_city_Kotte  outlet_city_Moratuwa  outlet_city_Negombo  \\\n",
              "0              False                 False                False   \n",
              "1              False                  True                False   \n",
              "2              False                 False                False   \n",
              "3              False                 False                False   \n",
              "4              False                 False                False   \n",
              "\n",
              "   outlet_city_Nuwara Eliya  outlet_city_Panadura  outlet_city_Peliyagoda  \\\n",
              "0                     False                 False                   False   \n",
              "1                     False                 False                   False   \n",
              "2                     False                 False                   False   \n",
              "3                     False                 False                   False   \n",
              "4                     False                 False                   False   \n",
              "\n",
              "   outlet_city_Trincomalee  outlet_city_Wattala  outlet_city_Anuradhapura  \\\n",
              "0                    False                False                     False   \n",
              "1                    False                False                     False   \n",
              "2                    False                 True                     False   \n",
              "3                    False                 True                     False   \n",
              "4                    False                False                     False   \n",
              "\n",
              "   outlet_city_Madawachchiya  \n",
              "0                      False  \n",
              "1                      False  \n",
              "2                      False  \n",
              "3                      False  \n",
              "4                      False  \n",
              "\n",
              "[5 rows x 28 columns]"
            ]
          },
          "execution_count": 76,
          "metadata": {},
          "output_type": "execute_result"
        }
      ],
      "source": [
        "train_df.head()"
      ]
    },
    {
      "cell_type": "code",
      "execution_count": 77,
      "metadata": {
        "colab": {
          "base_uri": "https://localhost:8080/",
          "height": 461
        },
        "id": "9gZad29f8Ds7",
        "outputId": "9d609ab5-cfe0-4fce-8ae8-c89f436119ab"
      },
      "outputs": [
        {
          "data": {
            "text/html": [
              "<div>\n",
              "<style scoped>\n",
              "    .dataframe tbody tr th:only-of-type {\n",
              "        vertical-align: middle;\n",
              "    }\n",
              "\n",
              "    .dataframe tbody tr th {\n",
              "        vertical-align: top;\n",
              "    }\n",
              "\n",
              "    .dataframe thead th {\n",
              "        text-align: right;\n",
              "    }\n",
              "</style>\n",
              "<table border=\"1\" class=\"dataframe\">\n",
              "  <thead>\n",
              "    <tr style=\"text-align: right;\">\n",
              "      <th></th>\n",
              "      <th>Customer_ID</th>\n",
              "      <th>outlet_city</th>\n",
              "      <th>luxury_sales</th>\n",
              "      <th>fresh_sales</th>\n",
              "      <th>dry_sales</th>\n",
              "      <th>city_cluster</th>\n",
              "      <th>outlet_city_Anuradhapura</th>\n",
              "      <th>outlet_city_Batticaloa</th>\n",
              "      <th>outlet_city_Colombo</th>\n",
              "      <th>outlet_city_Dehiwala-Mount Lavinia</th>\n",
              "      <th>...</th>\n",
              "      <th>outlet_city_Kelaniya</th>\n",
              "      <th>outlet_city_Kotte</th>\n",
              "      <th>outlet_city_Madawachchiya</th>\n",
              "      <th>outlet_city_Moratuwa</th>\n",
              "      <th>outlet_city_Negombo</th>\n",
              "      <th>outlet_city_Nuwara Eliya</th>\n",
              "      <th>outlet_city_Panadura</th>\n",
              "      <th>outlet_city_Peliyagoda</th>\n",
              "      <th>outlet_city_Trincomalee</th>\n",
              "      <th>outlet_city_Wattala</th>\n",
              "    </tr>\n",
              "  </thead>\n",
              "  <tbody>\n",
              "    <tr>\n",
              "      <th>0</th>\n",
              "      <td>33574</td>\n",
              "      <td>Batticaloa</td>\n",
              "      <td>2686.50</td>\n",
              "      <td>3582.00</td>\n",
              "      <td>12537.00</td>\n",
              "      <td>1</td>\n",
              "      <td>False</td>\n",
              "      <td>True</td>\n",
              "      <td>False</td>\n",
              "      <td>False</td>\n",
              "      <td>...</td>\n",
              "      <td>False</td>\n",
              "      <td>False</td>\n",
              "      <td>False</td>\n",
              "      <td>False</td>\n",
              "      <td>False</td>\n",
              "      <td>False</td>\n",
              "      <td>False</td>\n",
              "      <td>False</td>\n",
              "      <td>False</td>\n",
              "      <td>False</td>\n",
              "    </tr>\n",
              "    <tr>\n",
              "      <th>1</th>\n",
              "      <td>10089</td>\n",
              "      <td>Batticaloa</td>\n",
              "      <td>1717.56</td>\n",
              "      <td>2576.34</td>\n",
              "      <td>9446.58</td>\n",
              "      <td>1</td>\n",
              "      <td>False</td>\n",
              "      <td>True</td>\n",
              "      <td>False</td>\n",
              "      <td>False</td>\n",
              "      <td>...</td>\n",
              "      <td>False</td>\n",
              "      <td>False</td>\n",
              "      <td>False</td>\n",
              "      <td>False</td>\n",
              "      <td>False</td>\n",
              "      <td>False</td>\n",
              "      <td>False</td>\n",
              "      <td>False</td>\n",
              "      <td>False</td>\n",
              "      <td>False</td>\n",
              "    </tr>\n",
              "    <tr>\n",
              "      <th>2</th>\n",
              "      <td>38329</td>\n",
              "      <td>Batticaloa</td>\n",
              "      <td>854.04</td>\n",
              "      <td>1242.24</td>\n",
              "      <td>5201.88</td>\n",
              "      <td>1</td>\n",
              "      <td>False</td>\n",
              "      <td>True</td>\n",
              "      <td>False</td>\n",
              "      <td>False</td>\n",
              "      <td>...</td>\n",
              "      <td>False</td>\n",
              "      <td>False</td>\n",
              "      <td>False</td>\n",
              "      <td>False</td>\n",
              "      <td>False</td>\n",
              "      <td>False</td>\n",
              "      <td>False</td>\n",
              "      <td>False</td>\n",
              "      <td>False</td>\n",
              "      <td>False</td>\n",
              "    </tr>\n",
              "    <tr>\n",
              "      <th>3</th>\n",
              "      <td>11376</td>\n",
              "      <td>Batticaloa</td>\n",
              "      <td>1638.12</td>\n",
              "      <td>2320.67</td>\n",
              "      <td>9282.68</td>\n",
              "      <td>1</td>\n",
              "      <td>False</td>\n",
              "      <td>True</td>\n",
              "      <td>False</td>\n",
              "      <td>False</td>\n",
              "      <td>...</td>\n",
              "      <td>False</td>\n",
              "      <td>False</td>\n",
              "      <td>False</td>\n",
              "      <td>False</td>\n",
              "      <td>False</td>\n",
              "      <td>False</td>\n",
              "      <td>False</td>\n",
              "      <td>False</td>\n",
              "      <td>False</td>\n",
              "      <td>False</td>\n",
              "    </tr>\n",
              "    <tr>\n",
              "      <th>4</th>\n",
              "      <td>12410</td>\n",
              "      <td>Batticaloa</td>\n",
              "      <td>1039.09</td>\n",
              "      <td>1518.67</td>\n",
              "      <td>5435.24</td>\n",
              "      <td>1</td>\n",
              "      <td>False</td>\n",
              "      <td>True</td>\n",
              "      <td>False</td>\n",
              "      <td>False</td>\n",
              "      <td>...</td>\n",
              "      <td>False</td>\n",
              "      <td>False</td>\n",
              "      <td>False</td>\n",
              "      <td>False</td>\n",
              "      <td>False</td>\n",
              "      <td>False</td>\n",
              "      <td>False</td>\n",
              "      <td>False</td>\n",
              "      <td>False</td>\n",
              "      <td>False</td>\n",
              "    </tr>\n",
              "    <tr>\n",
              "      <th>...</th>\n",
              "      <td>...</td>\n",
              "      <td>...</td>\n",
              "      <td>...</td>\n",
              "      <td>...</td>\n",
              "      <td>...</td>\n",
              "      <td>...</td>\n",
              "      <td>...</td>\n",
              "      <td>...</td>\n",
              "      <td>...</td>\n",
              "      <td>...</td>\n",
              "      <td>...</td>\n",
              "      <td>...</td>\n",
              "      <td>...</td>\n",
              "      <td>...</td>\n",
              "      <td>...</td>\n",
              "      <td>...</td>\n",
              "      <td>...</td>\n",
              "      <td>...</td>\n",
              "      <td>...</td>\n",
              "      <td>...</td>\n",
              "      <td>...</td>\n",
              "    </tr>\n",
              "    <tr>\n",
              "      <th>40744</th>\n",
              "      <td>33698</td>\n",
              "      <td>Wattala</td>\n",
              "      <td>3916.48</td>\n",
              "      <td>4161.26</td>\n",
              "      <td>3916.48</td>\n",
              "      <td>0</td>\n",
              "      <td>False</td>\n",
              "      <td>False</td>\n",
              "      <td>False</td>\n",
              "      <td>False</td>\n",
              "      <td>...</td>\n",
              "      <td>False</td>\n",
              "      <td>False</td>\n",
              "      <td>False</td>\n",
              "      <td>False</td>\n",
              "      <td>False</td>\n",
              "      <td>False</td>\n",
              "      <td>False</td>\n",
              "      <td>False</td>\n",
              "      <td>False</td>\n",
              "      <td>True</td>\n",
              "    </tr>\n",
              "    <tr>\n",
              "      <th>40745</th>\n",
              "      <td>4185</td>\n",
              "      <td>Wattala</td>\n",
              "      <td>3191.92</td>\n",
              "      <td>3004.16</td>\n",
              "      <td>3098.04</td>\n",
              "      <td>0</td>\n",
              "      <td>False</td>\n",
              "      <td>False</td>\n",
              "      <td>False</td>\n",
              "      <td>False</td>\n",
              "      <td>...</td>\n",
              "      <td>False</td>\n",
              "      <td>False</td>\n",
              "      <td>False</td>\n",
              "      <td>False</td>\n",
              "      <td>False</td>\n",
              "      <td>False</td>\n",
              "      <td>False</td>\n",
              "      <td>False</td>\n",
              "      <td>False</td>\n",
              "      <td>True</td>\n",
              "    </tr>\n",
              "    <tr>\n",
              "      <th>40746</th>\n",
              "      <td>28664</td>\n",
              "      <td>Wattala</td>\n",
              "      <td>3838.60</td>\n",
              "      <td>3951.50</td>\n",
              "      <td>3700.00</td>\n",
              "      <td>0</td>\n",
              "      <td>False</td>\n",
              "      <td>False</td>\n",
              "      <td>False</td>\n",
              "      <td>False</td>\n",
              "      <td>...</td>\n",
              "      <td>False</td>\n",
              "      <td>False</td>\n",
              "      <td>False</td>\n",
              "      <td>False</td>\n",
              "      <td>False</td>\n",
              "      <td>False</td>\n",
              "      <td>False</td>\n",
              "      <td>False</td>\n",
              "      <td>False</td>\n",
              "      <td>True</td>\n",
              "    </tr>\n",
              "    <tr>\n",
              "      <th>40747</th>\n",
              "      <td>11874</td>\n",
              "      <td>Wattala</td>\n",
              "      <td>4313.76</td>\n",
              "      <td>4183.04</td>\n",
              "      <td>4313.76</td>\n",
              "      <td>0</td>\n",
              "      <td>False</td>\n",
              "      <td>False</td>\n",
              "      <td>False</td>\n",
              "      <td>False</td>\n",
              "      <td>...</td>\n",
              "      <td>False</td>\n",
              "      <td>False</td>\n",
              "      <td>False</td>\n",
              "      <td>False</td>\n",
              "      <td>False</td>\n",
              "      <td>False</td>\n",
              "      <td>False</td>\n",
              "      <td>False</td>\n",
              "      <td>False</td>\n",
              "      <td>True</td>\n",
              "    </tr>\n",
              "    <tr>\n",
              "      <th>40748</th>\n",
              "      <td>11431</td>\n",
              "      <td>Wattala</td>\n",
              "      <td>4212.16</td>\n",
              "      <td>4212.16</td>\n",
              "      <td>4212.16</td>\n",
              "      <td>0</td>\n",
              "      <td>False</td>\n",
              "      <td>False</td>\n",
              "      <td>False</td>\n",
              "      <td>False</td>\n",
              "      <td>...</td>\n",
              "      <td>False</td>\n",
              "      <td>False</td>\n",
              "      <td>False</td>\n",
              "      <td>False</td>\n",
              "      <td>False</td>\n",
              "      <td>False</td>\n",
              "      <td>False</td>\n",
              "      <td>False</td>\n",
              "      <td>False</td>\n",
              "      <td>True</td>\n",
              "    </tr>\n",
              "  </tbody>\n",
              "</table>\n",
              "<p>40749 rows × 28 columns</p>\n",
              "</div>"
            ],
            "text/plain": [
              "       Customer_ID outlet_city  luxury_sales  fresh_sales  dry_sales  \\\n",
              "0            33574  Batticaloa       2686.50      3582.00   12537.00   \n",
              "1            10089  Batticaloa       1717.56      2576.34    9446.58   \n",
              "2            38329  Batticaloa        854.04      1242.24    5201.88   \n",
              "3            11376  Batticaloa       1638.12      2320.67    9282.68   \n",
              "4            12410  Batticaloa       1039.09      1518.67    5435.24   \n",
              "...            ...         ...           ...          ...        ...   \n",
              "40744        33698     Wattala       3916.48      4161.26    3916.48   \n",
              "40745         4185     Wattala       3191.92      3004.16    3098.04   \n",
              "40746        28664     Wattala       3838.60      3951.50    3700.00   \n",
              "40747        11874     Wattala       4313.76      4183.04    4313.76   \n",
              "40748        11431     Wattala       4212.16      4212.16    4212.16   \n",
              "\n",
              "       city_cluster  outlet_city_Anuradhapura  outlet_city_Batticaloa  \\\n",
              "0                 1                     False                    True   \n",
              "1                 1                     False                    True   \n",
              "2                 1                     False                    True   \n",
              "3                 1                     False                    True   \n",
              "4                 1                     False                    True   \n",
              "...             ...                       ...                     ...   \n",
              "40744             0                     False                   False   \n",
              "40745             0                     False                   False   \n",
              "40746             0                     False                   False   \n",
              "40747             0                     False                   False   \n",
              "40748             0                     False                   False   \n",
              "\n",
              "       outlet_city_Colombo  outlet_city_Dehiwala-Mount Lavinia  ...  \\\n",
              "0                    False                               False  ...   \n",
              "1                    False                               False  ...   \n",
              "2                    False                               False  ...   \n",
              "3                    False                               False  ...   \n",
              "4                    False                               False  ...   \n",
              "...                    ...                                 ...  ...   \n",
              "40744                False                               False  ...   \n",
              "40745                False                               False  ...   \n",
              "40746                False                               False  ...   \n",
              "40747                False                               False  ...   \n",
              "40748                False                               False  ...   \n",
              "\n",
              "       outlet_city_Kelaniya  outlet_city_Kotte  outlet_city_Madawachchiya  \\\n",
              "0                     False              False                      False   \n",
              "1                     False              False                      False   \n",
              "2                     False              False                      False   \n",
              "3                     False              False                      False   \n",
              "4                     False              False                      False   \n",
              "...                     ...                ...                        ...   \n",
              "40744                 False              False                      False   \n",
              "40745                 False              False                      False   \n",
              "40746                 False              False                      False   \n",
              "40747                 False              False                      False   \n",
              "40748                 False              False                      False   \n",
              "\n",
              "       outlet_city_Moratuwa  outlet_city_Negombo  outlet_city_Nuwara Eliya  \\\n",
              "0                     False                False                     False   \n",
              "1                     False                False                     False   \n",
              "2                     False                False                     False   \n",
              "3                     False                False                     False   \n",
              "4                     False                False                     False   \n",
              "...                     ...                  ...                       ...   \n",
              "40744                 False                False                     False   \n",
              "40745                 False                False                     False   \n",
              "40746                 False                False                     False   \n",
              "40747                 False                False                     False   \n",
              "40748                 False                False                     False   \n",
              "\n",
              "       outlet_city_Panadura  outlet_city_Peliyagoda  outlet_city_Trincomalee  \\\n",
              "0                     False                   False                    False   \n",
              "1                     False                   False                    False   \n",
              "2                     False                   False                    False   \n",
              "3                     False                   False                    False   \n",
              "4                     False                   False                    False   \n",
              "...                     ...                     ...                      ...   \n",
              "40744                 False                   False                    False   \n",
              "40745                 False                   False                    False   \n",
              "40746                 False                   False                    False   \n",
              "40747                 False                   False                    False   \n",
              "40748                 False                   False                    False   \n",
              "\n",
              "       outlet_city_Wattala  \n",
              "0                    False  \n",
              "1                    False  \n",
              "2                    False  \n",
              "3                    False  \n",
              "4                    False  \n",
              "...                    ...  \n",
              "40744                 True  \n",
              "40745                 True  \n",
              "40746                 True  \n",
              "40747                 True  \n",
              "40748                 True  \n",
              "\n",
              "[40749 rows x 28 columns]"
            ]
          },
          "execution_count": 77,
          "metadata": {},
          "output_type": "execute_result"
        }
      ],
      "source": [
        "# Use pandas get_dummies function\n",
        "encoded_outlet_city = pd.get_dummies(test_df['outlet_city'], prefix='outlet_city')\n",
        "\n",
        "# Concatenate the encoded columns with the original DataFrame\n",
        "test_df = pd.concat([test_df, encoded_outlet_city], axis=1)\n",
        "\n",
        "# Display the encoded DataFrame\n",
        "test_df"
      ]
    },
    {
      "cell_type": "code",
      "execution_count": 78,
      "metadata": {
        "colab": {
          "base_uri": "https://localhost:8080/",
          "height": 461
        },
        "id": "nHNJ2Fs38Ds8",
        "outputId": "4b92f96e-1ec2-4717-9b9d-9101f72e485e"
      },
      "outputs": [
        {
          "data": {
            "text/html": [
              "<div>\n",
              "<style scoped>\n",
              "    .dataframe tbody tr th:only-of-type {\n",
              "        vertical-align: middle;\n",
              "    }\n",
              "\n",
              "    .dataframe tbody tr th {\n",
              "        vertical-align: top;\n",
              "    }\n",
              "\n",
              "    .dataframe thead th {\n",
              "        text-align: right;\n",
              "    }\n",
              "</style>\n",
              "<table border=\"1\" class=\"dataframe\">\n",
              "  <thead>\n",
              "    <tr style=\"text-align: right;\">\n",
              "      <th></th>\n",
              "      <th>Customer_ID</th>\n",
              "      <th>luxury_sales</th>\n",
              "      <th>fresh_sales</th>\n",
              "      <th>dry_sales</th>\n",
              "      <th>city_cluster</th>\n",
              "      <th>outlet_city_Anuradhapura</th>\n",
              "      <th>outlet_city_Batticaloa</th>\n",
              "      <th>outlet_city_Colombo</th>\n",
              "      <th>outlet_city_Dehiwala-Mount Lavinia</th>\n",
              "      <th>outlet_city_Galle</th>\n",
              "      <th>...</th>\n",
              "      <th>outlet_city_Kelaniya</th>\n",
              "      <th>outlet_city_Kotte</th>\n",
              "      <th>outlet_city_Madawachchiya</th>\n",
              "      <th>outlet_city_Moratuwa</th>\n",
              "      <th>outlet_city_Negombo</th>\n",
              "      <th>outlet_city_Nuwara Eliya</th>\n",
              "      <th>outlet_city_Panadura</th>\n",
              "      <th>outlet_city_Peliyagoda</th>\n",
              "      <th>outlet_city_Trincomalee</th>\n",
              "      <th>outlet_city_Wattala</th>\n",
              "    </tr>\n",
              "  </thead>\n",
              "  <tbody>\n",
              "    <tr>\n",
              "      <th>0</th>\n",
              "      <td>33574</td>\n",
              "      <td>2686.50</td>\n",
              "      <td>3582.00</td>\n",
              "      <td>12537.00</td>\n",
              "      <td>1</td>\n",
              "      <td>False</td>\n",
              "      <td>True</td>\n",
              "      <td>False</td>\n",
              "      <td>False</td>\n",
              "      <td>False</td>\n",
              "      <td>...</td>\n",
              "      <td>False</td>\n",
              "      <td>False</td>\n",
              "      <td>False</td>\n",
              "      <td>False</td>\n",
              "      <td>False</td>\n",
              "      <td>False</td>\n",
              "      <td>False</td>\n",
              "      <td>False</td>\n",
              "      <td>False</td>\n",
              "      <td>False</td>\n",
              "    </tr>\n",
              "    <tr>\n",
              "      <th>1</th>\n",
              "      <td>10089</td>\n",
              "      <td>1717.56</td>\n",
              "      <td>2576.34</td>\n",
              "      <td>9446.58</td>\n",
              "      <td>1</td>\n",
              "      <td>False</td>\n",
              "      <td>True</td>\n",
              "      <td>False</td>\n",
              "      <td>False</td>\n",
              "      <td>False</td>\n",
              "      <td>...</td>\n",
              "      <td>False</td>\n",
              "      <td>False</td>\n",
              "      <td>False</td>\n",
              "      <td>False</td>\n",
              "      <td>False</td>\n",
              "      <td>False</td>\n",
              "      <td>False</td>\n",
              "      <td>False</td>\n",
              "      <td>False</td>\n",
              "      <td>False</td>\n",
              "    </tr>\n",
              "    <tr>\n",
              "      <th>2</th>\n",
              "      <td>38329</td>\n",
              "      <td>854.04</td>\n",
              "      <td>1242.24</td>\n",
              "      <td>5201.88</td>\n",
              "      <td>1</td>\n",
              "      <td>False</td>\n",
              "      <td>True</td>\n",
              "      <td>False</td>\n",
              "      <td>False</td>\n",
              "      <td>False</td>\n",
              "      <td>...</td>\n",
              "      <td>False</td>\n",
              "      <td>False</td>\n",
              "      <td>False</td>\n",
              "      <td>False</td>\n",
              "      <td>False</td>\n",
              "      <td>False</td>\n",
              "      <td>False</td>\n",
              "      <td>False</td>\n",
              "      <td>False</td>\n",
              "      <td>False</td>\n",
              "    </tr>\n",
              "    <tr>\n",
              "      <th>3</th>\n",
              "      <td>11376</td>\n",
              "      <td>1638.12</td>\n",
              "      <td>2320.67</td>\n",
              "      <td>9282.68</td>\n",
              "      <td>1</td>\n",
              "      <td>False</td>\n",
              "      <td>True</td>\n",
              "      <td>False</td>\n",
              "      <td>False</td>\n",
              "      <td>False</td>\n",
              "      <td>...</td>\n",
              "      <td>False</td>\n",
              "      <td>False</td>\n",
              "      <td>False</td>\n",
              "      <td>False</td>\n",
              "      <td>False</td>\n",
              "      <td>False</td>\n",
              "      <td>False</td>\n",
              "      <td>False</td>\n",
              "      <td>False</td>\n",
              "      <td>False</td>\n",
              "    </tr>\n",
              "    <tr>\n",
              "      <th>4</th>\n",
              "      <td>12410</td>\n",
              "      <td>1039.09</td>\n",
              "      <td>1518.67</td>\n",
              "      <td>5435.24</td>\n",
              "      <td>1</td>\n",
              "      <td>False</td>\n",
              "      <td>True</td>\n",
              "      <td>False</td>\n",
              "      <td>False</td>\n",
              "      <td>False</td>\n",
              "      <td>...</td>\n",
              "      <td>False</td>\n",
              "      <td>False</td>\n",
              "      <td>False</td>\n",
              "      <td>False</td>\n",
              "      <td>False</td>\n",
              "      <td>False</td>\n",
              "      <td>False</td>\n",
              "      <td>False</td>\n",
              "      <td>False</td>\n",
              "      <td>False</td>\n",
              "    </tr>\n",
              "    <tr>\n",
              "      <th>...</th>\n",
              "      <td>...</td>\n",
              "      <td>...</td>\n",
              "      <td>...</td>\n",
              "      <td>...</td>\n",
              "      <td>...</td>\n",
              "      <td>...</td>\n",
              "      <td>...</td>\n",
              "      <td>...</td>\n",
              "      <td>...</td>\n",
              "      <td>...</td>\n",
              "      <td>...</td>\n",
              "      <td>...</td>\n",
              "      <td>...</td>\n",
              "      <td>...</td>\n",
              "      <td>...</td>\n",
              "      <td>...</td>\n",
              "      <td>...</td>\n",
              "      <td>...</td>\n",
              "      <td>...</td>\n",
              "      <td>...</td>\n",
              "      <td>...</td>\n",
              "    </tr>\n",
              "    <tr>\n",
              "      <th>40744</th>\n",
              "      <td>33698</td>\n",
              "      <td>3916.48</td>\n",
              "      <td>4161.26</td>\n",
              "      <td>3916.48</td>\n",
              "      <td>0</td>\n",
              "      <td>False</td>\n",
              "      <td>False</td>\n",
              "      <td>False</td>\n",
              "      <td>False</td>\n",
              "      <td>False</td>\n",
              "      <td>...</td>\n",
              "      <td>False</td>\n",
              "      <td>False</td>\n",
              "      <td>False</td>\n",
              "      <td>False</td>\n",
              "      <td>False</td>\n",
              "      <td>False</td>\n",
              "      <td>False</td>\n",
              "      <td>False</td>\n",
              "      <td>False</td>\n",
              "      <td>True</td>\n",
              "    </tr>\n",
              "    <tr>\n",
              "      <th>40745</th>\n",
              "      <td>4185</td>\n",
              "      <td>3191.92</td>\n",
              "      <td>3004.16</td>\n",
              "      <td>3098.04</td>\n",
              "      <td>0</td>\n",
              "      <td>False</td>\n",
              "      <td>False</td>\n",
              "      <td>False</td>\n",
              "      <td>False</td>\n",
              "      <td>False</td>\n",
              "      <td>...</td>\n",
              "      <td>False</td>\n",
              "      <td>False</td>\n",
              "      <td>False</td>\n",
              "      <td>False</td>\n",
              "      <td>False</td>\n",
              "      <td>False</td>\n",
              "      <td>False</td>\n",
              "      <td>False</td>\n",
              "      <td>False</td>\n",
              "      <td>True</td>\n",
              "    </tr>\n",
              "    <tr>\n",
              "      <th>40746</th>\n",
              "      <td>28664</td>\n",
              "      <td>3838.60</td>\n",
              "      <td>3951.50</td>\n",
              "      <td>3700.00</td>\n",
              "      <td>0</td>\n",
              "      <td>False</td>\n",
              "      <td>False</td>\n",
              "      <td>False</td>\n",
              "      <td>False</td>\n",
              "      <td>False</td>\n",
              "      <td>...</td>\n",
              "      <td>False</td>\n",
              "      <td>False</td>\n",
              "      <td>False</td>\n",
              "      <td>False</td>\n",
              "      <td>False</td>\n",
              "      <td>False</td>\n",
              "      <td>False</td>\n",
              "      <td>False</td>\n",
              "      <td>False</td>\n",
              "      <td>True</td>\n",
              "    </tr>\n",
              "    <tr>\n",
              "      <th>40747</th>\n",
              "      <td>11874</td>\n",
              "      <td>4313.76</td>\n",
              "      <td>4183.04</td>\n",
              "      <td>4313.76</td>\n",
              "      <td>0</td>\n",
              "      <td>False</td>\n",
              "      <td>False</td>\n",
              "      <td>False</td>\n",
              "      <td>False</td>\n",
              "      <td>False</td>\n",
              "      <td>...</td>\n",
              "      <td>False</td>\n",
              "      <td>False</td>\n",
              "      <td>False</td>\n",
              "      <td>False</td>\n",
              "      <td>False</td>\n",
              "      <td>False</td>\n",
              "      <td>False</td>\n",
              "      <td>False</td>\n",
              "      <td>False</td>\n",
              "      <td>True</td>\n",
              "    </tr>\n",
              "    <tr>\n",
              "      <th>40748</th>\n",
              "      <td>11431</td>\n",
              "      <td>4212.16</td>\n",
              "      <td>4212.16</td>\n",
              "      <td>4212.16</td>\n",
              "      <td>0</td>\n",
              "      <td>False</td>\n",
              "      <td>False</td>\n",
              "      <td>False</td>\n",
              "      <td>False</td>\n",
              "      <td>False</td>\n",
              "      <td>...</td>\n",
              "      <td>False</td>\n",
              "      <td>False</td>\n",
              "      <td>False</td>\n",
              "      <td>False</td>\n",
              "      <td>False</td>\n",
              "      <td>False</td>\n",
              "      <td>False</td>\n",
              "      <td>False</td>\n",
              "      <td>False</td>\n",
              "      <td>True</td>\n",
              "    </tr>\n",
              "  </tbody>\n",
              "</table>\n",
              "<p>40749 rows × 27 columns</p>\n",
              "</div>"
            ],
            "text/plain": [
              "       Customer_ID  luxury_sales  fresh_sales  dry_sales  city_cluster  \\\n",
              "0            33574       2686.50      3582.00   12537.00             1   \n",
              "1            10089       1717.56      2576.34    9446.58             1   \n",
              "2            38329        854.04      1242.24    5201.88             1   \n",
              "3            11376       1638.12      2320.67    9282.68             1   \n",
              "4            12410       1039.09      1518.67    5435.24             1   \n",
              "...            ...           ...          ...        ...           ...   \n",
              "40744        33698       3916.48      4161.26    3916.48             0   \n",
              "40745         4185       3191.92      3004.16    3098.04             0   \n",
              "40746        28664       3838.60      3951.50    3700.00             0   \n",
              "40747        11874       4313.76      4183.04    4313.76             0   \n",
              "40748        11431       4212.16      4212.16    4212.16             0   \n",
              "\n",
              "       outlet_city_Anuradhapura  outlet_city_Batticaloa  outlet_city_Colombo  \\\n",
              "0                         False                    True                False   \n",
              "1                         False                    True                False   \n",
              "2                         False                    True                False   \n",
              "3                         False                    True                False   \n",
              "4                         False                    True                False   \n",
              "...                         ...                     ...                  ...   \n",
              "40744                     False                   False                False   \n",
              "40745                     False                   False                False   \n",
              "40746                     False                   False                False   \n",
              "40747                     False                   False                False   \n",
              "40748                     False                   False                False   \n",
              "\n",
              "       outlet_city_Dehiwala-Mount Lavinia  outlet_city_Galle  ...  \\\n",
              "0                                   False              False  ...   \n",
              "1                                   False              False  ...   \n",
              "2                                   False              False  ...   \n",
              "3                                   False              False  ...   \n",
              "4                                   False              False  ...   \n",
              "...                                   ...                ...  ...   \n",
              "40744                               False              False  ...   \n",
              "40745                               False              False  ...   \n",
              "40746                               False              False  ...   \n",
              "40747                               False              False  ...   \n",
              "40748                               False              False  ...   \n",
              "\n",
              "       outlet_city_Kelaniya  outlet_city_Kotte  outlet_city_Madawachchiya  \\\n",
              "0                     False              False                      False   \n",
              "1                     False              False                      False   \n",
              "2                     False              False                      False   \n",
              "3                     False              False                      False   \n",
              "4                     False              False                      False   \n",
              "...                     ...                ...                        ...   \n",
              "40744                 False              False                      False   \n",
              "40745                 False              False                      False   \n",
              "40746                 False              False                      False   \n",
              "40747                 False              False                      False   \n",
              "40748                 False              False                      False   \n",
              "\n",
              "       outlet_city_Moratuwa  outlet_city_Negombo  outlet_city_Nuwara Eliya  \\\n",
              "0                     False                False                     False   \n",
              "1                     False                False                     False   \n",
              "2                     False                False                     False   \n",
              "3                     False                False                     False   \n",
              "4                     False                False                     False   \n",
              "...                     ...                  ...                       ...   \n",
              "40744                 False                False                     False   \n",
              "40745                 False                False                     False   \n",
              "40746                 False                False                     False   \n",
              "40747                 False                False                     False   \n",
              "40748                 False                False                     False   \n",
              "\n",
              "       outlet_city_Panadura  outlet_city_Peliyagoda  outlet_city_Trincomalee  \\\n",
              "0                     False                   False                    False   \n",
              "1                     False                   False                    False   \n",
              "2                     False                   False                    False   \n",
              "3                     False                   False                    False   \n",
              "4                     False                   False                    False   \n",
              "...                     ...                     ...                      ...   \n",
              "40744                 False                   False                    False   \n",
              "40745                 False                   False                    False   \n",
              "40746                 False                   False                    False   \n",
              "40747                 False                   False                    False   \n",
              "40748                 False                   False                    False   \n",
              "\n",
              "       outlet_city_Wattala  \n",
              "0                    False  \n",
              "1                    False  \n",
              "2                    False  \n",
              "3                    False  \n",
              "4                    False  \n",
              "...                    ...  \n",
              "40744                 True  \n",
              "40745                 True  \n",
              "40746                 True  \n",
              "40747                 True  \n",
              "40748                 True  \n",
              "\n",
              "[40749 rows x 27 columns]"
            ]
          },
          "execution_count": 78,
          "metadata": {},
          "output_type": "execute_result"
        }
      ],
      "source": [
        "# Drop the outlet_city column\n",
        "test_df = test_df.drop(columns=['outlet_city'])\n",
        "\n",
        "test_df"
      ]
    },
    {
      "cell_type": "markdown",
      "metadata": {
        "id": "1go8bs_s8Ds8"
      },
      "source": [
        "#### One-Hot Encoding - city_cluster"
      ]
    },
    {
      "cell_type": "code",
      "execution_count": 79,
      "metadata": {
        "colab": {
          "base_uri": "https://localhost:8080/",
          "height": 273
        },
        "id": "7f0_94J68Ds8",
        "outputId": "1c4b9758-dc7b-457d-9bd8-18ebf4914f1f"
      },
      "outputs": [
        {
          "data": {
            "text/html": [
              "<div>\n",
              "<style scoped>\n",
              "    .dataframe tbody tr th:only-of-type {\n",
              "        vertical-align: middle;\n",
              "    }\n",
              "\n",
              "    .dataframe tbody tr th {\n",
              "        vertical-align: top;\n",
              "    }\n",
              "\n",
              "    .dataframe thead th {\n",
              "        text-align: right;\n",
              "    }\n",
              "</style>\n",
              "<table border=\"1\" class=\"dataframe\">\n",
              "  <thead>\n",
              "    <tr style=\"text-align: right;\">\n",
              "      <th></th>\n",
              "      <th>Customer_ID</th>\n",
              "      <th>luxury_sales</th>\n",
              "      <th>fresh_sales</th>\n",
              "      <th>dry_sales</th>\n",
              "      <th>cluster_category</th>\n",
              "      <th>city_cluster</th>\n",
              "      <th>outlet_city_Batticaloa</th>\n",
              "      <th>outlet_city_Colombo</th>\n",
              "      <th>outlet_city_Dehiwala-Mount Lavinia</th>\n",
              "      <th>outlet_city_Galle</th>\n",
              "      <th>...</th>\n",
              "      <th>outlet_city_Negombo</th>\n",
              "      <th>outlet_city_Nuwara Eliya</th>\n",
              "      <th>outlet_city_Panadura</th>\n",
              "      <th>outlet_city_Peliyagoda</th>\n",
              "      <th>outlet_city_Trincomalee</th>\n",
              "      <th>outlet_city_Wattala</th>\n",
              "      <th>outlet_city_Anuradhapura</th>\n",
              "      <th>outlet_city_Madawachchiya</th>\n",
              "      <th>city_cluster_0</th>\n",
              "      <th>city_cluster_1</th>\n",
              "    </tr>\n",
              "  </thead>\n",
              "  <tbody>\n",
              "    <tr>\n",
              "      <th>0</th>\n",
              "      <td>10493832</td>\n",
              "      <td>1209.60</td>\n",
              "      <td>756.00</td>\n",
              "      <td>5292.00</td>\n",
              "      <td>4</td>\n",
              "      <td>0</td>\n",
              "      <td>False</td>\n",
              "      <td>False</td>\n",
              "      <td>False</td>\n",
              "      <td>False</td>\n",
              "      <td>...</td>\n",
              "      <td>False</td>\n",
              "      <td>False</td>\n",
              "      <td>False</td>\n",
              "      <td>False</td>\n",
              "      <td>False</td>\n",
              "      <td>False</td>\n",
              "      <td>False</td>\n",
              "      <td>False</td>\n",
              "      <td>True</td>\n",
              "      <td>False</td>\n",
              "    </tr>\n",
              "    <tr>\n",
              "      <th>1</th>\n",
              "      <td>10178643</td>\n",
              "      <td>1590.12</td>\n",
              "      <td>1060.08</td>\n",
              "      <td>6007.12</td>\n",
              "      <td>1</td>\n",
              "      <td>0</td>\n",
              "      <td>False</td>\n",
              "      <td>False</td>\n",
              "      <td>False</td>\n",
              "      <td>False</td>\n",
              "      <td>...</td>\n",
              "      <td>False</td>\n",
              "      <td>False</td>\n",
              "      <td>False</td>\n",
              "      <td>False</td>\n",
              "      <td>False</td>\n",
              "      <td>False</td>\n",
              "      <td>False</td>\n",
              "      <td>False</td>\n",
              "      <td>True</td>\n",
              "      <td>False</td>\n",
              "    </tr>\n",
              "    <tr>\n",
              "      <th>2</th>\n",
              "      <td>10513916</td>\n",
              "      <td>2288.88</td>\n",
              "      <td>1481.04</td>\n",
              "      <td>9155.52</td>\n",
              "      <td>4</td>\n",
              "      <td>0</td>\n",
              "      <td>False</td>\n",
              "      <td>False</td>\n",
              "      <td>False</td>\n",
              "      <td>False</td>\n",
              "      <td>...</td>\n",
              "      <td>False</td>\n",
              "      <td>False</td>\n",
              "      <td>False</td>\n",
              "      <td>False</td>\n",
              "      <td>False</td>\n",
              "      <td>True</td>\n",
              "      <td>False</td>\n",
              "      <td>False</td>\n",
              "      <td>True</td>\n",
              "      <td>False</td>\n",
              "    </tr>\n",
              "    <tr>\n",
              "      <th>3</th>\n",
              "      <td>10334589</td>\n",
              "      <td>2274.94</td>\n",
              "      <td>1739.66</td>\n",
              "      <td>9099.76</td>\n",
              "      <td>4</td>\n",
              "      <td>0</td>\n",
              "      <td>False</td>\n",
              "      <td>False</td>\n",
              "      <td>False</td>\n",
              "      <td>False</td>\n",
              "      <td>...</td>\n",
              "      <td>False</td>\n",
              "      <td>False</td>\n",
              "      <td>False</td>\n",
              "      <td>False</td>\n",
              "      <td>False</td>\n",
              "      <td>True</td>\n",
              "      <td>False</td>\n",
              "      <td>False</td>\n",
              "      <td>True</td>\n",
              "      <td>False</td>\n",
              "    </tr>\n",
              "    <tr>\n",
              "      <th>4</th>\n",
              "      <td>10458365</td>\n",
              "      <td>2345.49</td>\n",
              "      <td>2069.55</td>\n",
              "      <td>9243.99</td>\n",
              "      <td>4</td>\n",
              "      <td>0</td>\n",
              "      <td>False</td>\n",
              "      <td>False</td>\n",
              "      <td>False</td>\n",
              "      <td>False</td>\n",
              "      <td>...</td>\n",
              "      <td>False</td>\n",
              "      <td>False</td>\n",
              "      <td>False</td>\n",
              "      <td>False</td>\n",
              "      <td>False</td>\n",
              "      <td>False</td>\n",
              "      <td>False</td>\n",
              "      <td>False</td>\n",
              "      <td>True</td>\n",
              "      <td>False</td>\n",
              "    </tr>\n",
              "  </tbody>\n",
              "</table>\n",
              "<p>5 rows × 30 columns</p>\n",
              "</div>"
            ],
            "text/plain": [
              "   Customer_ID  luxury_sales  fresh_sales  dry_sales  cluster_category  \\\n",
              "0     10493832       1209.60       756.00    5292.00                 4   \n",
              "1     10178643       1590.12      1060.08    6007.12                 1   \n",
              "2     10513916       2288.88      1481.04    9155.52                 4   \n",
              "3     10334589       2274.94      1739.66    9099.76                 4   \n",
              "4     10458365       2345.49      2069.55    9243.99                 4   \n",
              "\n",
              "   city_cluster  outlet_city_Batticaloa  outlet_city_Colombo  \\\n",
              "0             0                   False                False   \n",
              "1             0                   False                False   \n",
              "2             0                   False                False   \n",
              "3             0                   False                False   \n",
              "4             0                   False                False   \n",
              "\n",
              "   outlet_city_Dehiwala-Mount Lavinia  outlet_city_Galle  ...  \\\n",
              "0                               False              False  ...   \n",
              "1                               False              False  ...   \n",
              "2                               False              False  ...   \n",
              "3                               False              False  ...   \n",
              "4                               False              False  ...   \n",
              "\n",
              "   outlet_city_Negombo  outlet_city_Nuwara Eliya  outlet_city_Panadura  \\\n",
              "0                False                     False                 False   \n",
              "1                False                     False                 False   \n",
              "2                False                     False                 False   \n",
              "3                False                     False                 False   \n",
              "4                False                     False                 False   \n",
              "\n",
              "   outlet_city_Peliyagoda  outlet_city_Trincomalee  outlet_city_Wattala  \\\n",
              "0                   False                    False                False   \n",
              "1                   False                    False                False   \n",
              "2                   False                    False                 True   \n",
              "3                   False                    False                 True   \n",
              "4                   False                    False                False   \n",
              "\n",
              "   outlet_city_Anuradhapura  outlet_city_Madawachchiya  city_cluster_0  \\\n",
              "0                     False                      False            True   \n",
              "1                     False                      False            True   \n",
              "2                     False                      False            True   \n",
              "3                     False                      False            True   \n",
              "4                     False                      False            True   \n",
              "\n",
              "   city_cluster_1  \n",
              "0           False  \n",
              "1           False  \n",
              "2           False  \n",
              "3           False  \n",
              "4           False  \n",
              "\n",
              "[5 rows x 30 columns]"
            ]
          },
          "execution_count": 79,
          "metadata": {},
          "output_type": "execute_result"
        }
      ],
      "source": [
        "encoded_city_cluster = pd.get_dummies(train_df['city_cluster'], prefix='city_cluster')\n",
        "\n",
        "# Concatenate the encoded columns with the original DataFrame\n",
        "train_df = pd.concat([train_df, encoded_city_cluster], axis=1)\n",
        "\n",
        "# Display the encoded DataFrame\n",
        "train_df.head()"
      ]
    },
    {
      "cell_type": "code",
      "execution_count": 80,
      "metadata": {
        "colab": {
          "base_uri": "https://localhost:8080/",
          "height": 461
        },
        "id": "8aa1i_Mu8Ds8",
        "outputId": "654a1765-92d9-4576-de82-c072cf118be3"
      },
      "outputs": [
        {
          "data": {
            "text/html": [
              "<div>\n",
              "<style scoped>\n",
              "    .dataframe tbody tr th:only-of-type {\n",
              "        vertical-align: middle;\n",
              "    }\n",
              "\n",
              "    .dataframe tbody tr th {\n",
              "        vertical-align: top;\n",
              "    }\n",
              "\n",
              "    .dataframe thead th {\n",
              "        text-align: right;\n",
              "    }\n",
              "</style>\n",
              "<table border=\"1\" class=\"dataframe\">\n",
              "  <thead>\n",
              "    <tr style=\"text-align: right;\">\n",
              "      <th></th>\n",
              "      <th>Customer_ID</th>\n",
              "      <th>luxury_sales</th>\n",
              "      <th>fresh_sales</th>\n",
              "      <th>dry_sales</th>\n",
              "      <th>cluster_category</th>\n",
              "      <th>outlet_city_Batticaloa</th>\n",
              "      <th>outlet_city_Colombo</th>\n",
              "      <th>outlet_city_Dehiwala-Mount Lavinia</th>\n",
              "      <th>outlet_city_Galle</th>\n",
              "      <th>outlet_city_Gampaha</th>\n",
              "      <th>...</th>\n",
              "      <th>outlet_city_Negombo</th>\n",
              "      <th>outlet_city_Nuwara Eliya</th>\n",
              "      <th>outlet_city_Panadura</th>\n",
              "      <th>outlet_city_Peliyagoda</th>\n",
              "      <th>outlet_city_Trincomalee</th>\n",
              "      <th>outlet_city_Wattala</th>\n",
              "      <th>outlet_city_Anuradhapura</th>\n",
              "      <th>outlet_city_Madawachchiya</th>\n",
              "      <th>city_cluster_0</th>\n",
              "      <th>city_cluster_1</th>\n",
              "    </tr>\n",
              "  </thead>\n",
              "  <tbody>\n",
              "    <tr>\n",
              "      <th>0</th>\n",
              "      <td>10493832</td>\n",
              "      <td>1209.60</td>\n",
              "      <td>756.00</td>\n",
              "      <td>5292.00</td>\n",
              "      <td>4</td>\n",
              "      <td>False</td>\n",
              "      <td>False</td>\n",
              "      <td>False</td>\n",
              "      <td>False</td>\n",
              "      <td>False</td>\n",
              "      <td>...</td>\n",
              "      <td>False</td>\n",
              "      <td>False</td>\n",
              "      <td>False</td>\n",
              "      <td>False</td>\n",
              "      <td>False</td>\n",
              "      <td>False</td>\n",
              "      <td>False</td>\n",
              "      <td>False</td>\n",
              "      <td>True</td>\n",
              "      <td>False</td>\n",
              "    </tr>\n",
              "    <tr>\n",
              "      <th>1</th>\n",
              "      <td>10178643</td>\n",
              "      <td>1590.12</td>\n",
              "      <td>1060.08</td>\n",
              "      <td>6007.12</td>\n",
              "      <td>1</td>\n",
              "      <td>False</td>\n",
              "      <td>False</td>\n",
              "      <td>False</td>\n",
              "      <td>False</td>\n",
              "      <td>False</td>\n",
              "      <td>...</td>\n",
              "      <td>False</td>\n",
              "      <td>False</td>\n",
              "      <td>False</td>\n",
              "      <td>False</td>\n",
              "      <td>False</td>\n",
              "      <td>False</td>\n",
              "      <td>False</td>\n",
              "      <td>False</td>\n",
              "      <td>True</td>\n",
              "      <td>False</td>\n",
              "    </tr>\n",
              "    <tr>\n",
              "      <th>2</th>\n",
              "      <td>10513916</td>\n",
              "      <td>2288.88</td>\n",
              "      <td>1481.04</td>\n",
              "      <td>9155.52</td>\n",
              "      <td>4</td>\n",
              "      <td>False</td>\n",
              "      <td>False</td>\n",
              "      <td>False</td>\n",
              "      <td>False</td>\n",
              "      <td>False</td>\n",
              "      <td>...</td>\n",
              "      <td>False</td>\n",
              "      <td>False</td>\n",
              "      <td>False</td>\n",
              "      <td>False</td>\n",
              "      <td>False</td>\n",
              "      <td>True</td>\n",
              "      <td>False</td>\n",
              "      <td>False</td>\n",
              "      <td>True</td>\n",
              "      <td>False</td>\n",
              "    </tr>\n",
              "    <tr>\n",
              "      <th>3</th>\n",
              "      <td>10334589</td>\n",
              "      <td>2274.94</td>\n",
              "      <td>1739.66</td>\n",
              "      <td>9099.76</td>\n",
              "      <td>4</td>\n",
              "      <td>False</td>\n",
              "      <td>False</td>\n",
              "      <td>False</td>\n",
              "      <td>False</td>\n",
              "      <td>False</td>\n",
              "      <td>...</td>\n",
              "      <td>False</td>\n",
              "      <td>False</td>\n",
              "      <td>False</td>\n",
              "      <td>False</td>\n",
              "      <td>False</td>\n",
              "      <td>True</td>\n",
              "      <td>False</td>\n",
              "      <td>False</td>\n",
              "      <td>True</td>\n",
              "      <td>False</td>\n",
              "    </tr>\n",
              "    <tr>\n",
              "      <th>4</th>\n",
              "      <td>10458365</td>\n",
              "      <td>2345.49</td>\n",
              "      <td>2069.55</td>\n",
              "      <td>9243.99</td>\n",
              "      <td>4</td>\n",
              "      <td>False</td>\n",
              "      <td>False</td>\n",
              "      <td>False</td>\n",
              "      <td>False</td>\n",
              "      <td>False</td>\n",
              "      <td>...</td>\n",
              "      <td>False</td>\n",
              "      <td>False</td>\n",
              "      <td>False</td>\n",
              "      <td>False</td>\n",
              "      <td>False</td>\n",
              "      <td>False</td>\n",
              "      <td>False</td>\n",
              "      <td>False</td>\n",
              "      <td>True</td>\n",
              "      <td>False</td>\n",
              "    </tr>\n",
              "    <tr>\n",
              "      <th>...</th>\n",
              "      <td>...</td>\n",
              "      <td>...</td>\n",
              "      <td>...</td>\n",
              "      <td>...</td>\n",
              "      <td>...</td>\n",
              "      <td>...</td>\n",
              "      <td>...</td>\n",
              "      <td>...</td>\n",
              "      <td>...</td>\n",
              "      <td>...</td>\n",
              "      <td>...</td>\n",
              "      <td>...</td>\n",
              "      <td>...</td>\n",
              "      <td>...</td>\n",
              "      <td>...</td>\n",
              "      <td>...</td>\n",
              "      <td>...</td>\n",
              "      <td>...</td>\n",
              "      <td>...</td>\n",
              "      <td>...</td>\n",
              "      <td>...</td>\n",
              "    </tr>\n",
              "    <tr>\n",
              "      <th>774150</th>\n",
              "      <td>10197979</td>\n",
              "      <td>3893.40</td>\n",
              "      <td>3893.40</td>\n",
              "      <td>3448.44</td>\n",
              "      <td>3</td>\n",
              "      <td>False</td>\n",
              "      <td>False</td>\n",
              "      <td>False</td>\n",
              "      <td>False</td>\n",
              "      <td>True</td>\n",
              "      <td>...</td>\n",
              "      <td>False</td>\n",
              "      <td>False</td>\n",
              "      <td>False</td>\n",
              "      <td>False</td>\n",
              "      <td>False</td>\n",
              "      <td>False</td>\n",
              "      <td>False</td>\n",
              "      <td>False</td>\n",
              "      <td>False</td>\n",
              "      <td>True</td>\n",
              "    </tr>\n",
              "    <tr>\n",
              "      <th>774151</th>\n",
              "      <td>10494575</td>\n",
              "      <td>6095.86</td>\n",
              "      <td>5557.99</td>\n",
              "      <td>6275.15</td>\n",
              "      <td>3</td>\n",
              "      <td>False</td>\n",
              "      <td>False</td>\n",
              "      <td>False</td>\n",
              "      <td>False</td>\n",
              "      <td>False</td>\n",
              "      <td>...</td>\n",
              "      <td>False</td>\n",
              "      <td>False</td>\n",
              "      <td>False</td>\n",
              "      <td>False</td>\n",
              "      <td>False</td>\n",
              "      <td>False</td>\n",
              "      <td>False</td>\n",
              "      <td>False</td>\n",
              "      <td>False</td>\n",
              "      <td>True</td>\n",
              "    </tr>\n",
              "    <tr>\n",
              "      <th>774152</th>\n",
              "      <td>10565682</td>\n",
              "      <td>5121.42</td>\n",
              "      <td>4820.16</td>\n",
              "      <td>4669.53</td>\n",
              "      <td>3</td>\n",
              "      <td>False</td>\n",
              "      <td>True</td>\n",
              "      <td>False</td>\n",
              "      <td>False</td>\n",
              "      <td>False</td>\n",
              "      <td>...</td>\n",
              "      <td>False</td>\n",
              "      <td>False</td>\n",
              "      <td>False</td>\n",
              "      <td>False</td>\n",
              "      <td>False</td>\n",
              "      <td>False</td>\n",
              "      <td>False</td>\n",
              "      <td>False</td>\n",
              "      <td>False</td>\n",
              "      <td>True</td>\n",
              "    </tr>\n",
              "    <tr>\n",
              "      <th>774153</th>\n",
              "      <td>10351977</td>\n",
              "      <td>6311.76</td>\n",
              "      <td>6311.76</td>\n",
              "      <td>5940.48</td>\n",
              "      <td>3</td>\n",
              "      <td>False</td>\n",
              "      <td>False</td>\n",
              "      <td>False</td>\n",
              "      <td>False</td>\n",
              "      <td>False</td>\n",
              "      <td>...</td>\n",
              "      <td>False</td>\n",
              "      <td>False</td>\n",
              "      <td>False</td>\n",
              "      <td>False</td>\n",
              "      <td>False</td>\n",
              "      <td>False</td>\n",
              "      <td>False</td>\n",
              "      <td>False</td>\n",
              "      <td>False</td>\n",
              "      <td>True</td>\n",
              "    </tr>\n",
              "    <tr>\n",
              "      <th>774154</th>\n",
              "      <td>10637635</td>\n",
              "      <td>5833.50</td>\n",
              "      <td>6027.95</td>\n",
              "      <td>6611.30</td>\n",
              "      <td>3</td>\n",
              "      <td>False</td>\n",
              "      <td>False</td>\n",
              "      <td>False</td>\n",
              "      <td>False</td>\n",
              "      <td>False</td>\n",
              "      <td>...</td>\n",
              "      <td>True</td>\n",
              "      <td>False</td>\n",
              "      <td>False</td>\n",
              "      <td>False</td>\n",
              "      <td>False</td>\n",
              "      <td>False</td>\n",
              "      <td>False</td>\n",
              "      <td>False</td>\n",
              "      <td>False</td>\n",
              "      <td>True</td>\n",
              "    </tr>\n",
              "  </tbody>\n",
              "</table>\n",
              "<p>774147 rows × 29 columns</p>\n",
              "</div>"
            ],
            "text/plain": [
              "        Customer_ID  luxury_sales  fresh_sales  dry_sales  cluster_category  \\\n",
              "0          10493832       1209.60       756.00    5292.00                 4   \n",
              "1          10178643       1590.12      1060.08    6007.12                 1   \n",
              "2          10513916       2288.88      1481.04    9155.52                 4   \n",
              "3          10334589       2274.94      1739.66    9099.76                 4   \n",
              "4          10458365       2345.49      2069.55    9243.99                 4   \n",
              "...             ...           ...          ...        ...               ...   \n",
              "774150     10197979       3893.40      3893.40    3448.44                 3   \n",
              "774151     10494575       6095.86      5557.99    6275.15                 3   \n",
              "774152     10565682       5121.42      4820.16    4669.53                 3   \n",
              "774153     10351977       6311.76      6311.76    5940.48                 3   \n",
              "774154     10637635       5833.50      6027.95    6611.30                 3   \n",
              "\n",
              "        outlet_city_Batticaloa  outlet_city_Colombo  \\\n",
              "0                        False                False   \n",
              "1                        False                False   \n",
              "2                        False                False   \n",
              "3                        False                False   \n",
              "4                        False                False   \n",
              "...                        ...                  ...   \n",
              "774150                   False                False   \n",
              "774151                   False                False   \n",
              "774152                   False                 True   \n",
              "774153                   False                False   \n",
              "774154                   False                False   \n",
              "\n",
              "        outlet_city_Dehiwala-Mount Lavinia  outlet_city_Galle  \\\n",
              "0                                    False              False   \n",
              "1                                    False              False   \n",
              "2                                    False              False   \n",
              "3                                    False              False   \n",
              "4                                    False              False   \n",
              "...                                    ...                ...   \n",
              "774150                               False              False   \n",
              "774151                               False              False   \n",
              "774152                               False              False   \n",
              "774153                               False              False   \n",
              "774154                               False              False   \n",
              "\n",
              "        outlet_city_Gampaha  ...  outlet_city_Negombo  \\\n",
              "0                     False  ...                False   \n",
              "1                     False  ...                False   \n",
              "2                     False  ...                False   \n",
              "3                     False  ...                False   \n",
              "4                     False  ...                False   \n",
              "...                     ...  ...                  ...   \n",
              "774150                 True  ...                False   \n",
              "774151                False  ...                False   \n",
              "774152                False  ...                False   \n",
              "774153                False  ...                False   \n",
              "774154                False  ...                 True   \n",
              "\n",
              "        outlet_city_Nuwara Eliya  outlet_city_Panadura  \\\n",
              "0                          False                 False   \n",
              "1                          False                 False   \n",
              "2                          False                 False   \n",
              "3                          False                 False   \n",
              "4                          False                 False   \n",
              "...                          ...                   ...   \n",
              "774150                     False                 False   \n",
              "774151                     False                 False   \n",
              "774152                     False                 False   \n",
              "774153                     False                 False   \n",
              "774154                     False                 False   \n",
              "\n",
              "        outlet_city_Peliyagoda  outlet_city_Trincomalee  outlet_city_Wattala  \\\n",
              "0                        False                    False                False   \n",
              "1                        False                    False                False   \n",
              "2                        False                    False                 True   \n",
              "3                        False                    False                 True   \n",
              "4                        False                    False                False   \n",
              "...                        ...                      ...                  ...   \n",
              "774150                   False                    False                False   \n",
              "774151                   False                    False                False   \n",
              "774152                   False                    False                False   \n",
              "774153                   False                    False                False   \n",
              "774154                   False                    False                False   \n",
              "\n",
              "        outlet_city_Anuradhapura  outlet_city_Madawachchiya  city_cluster_0  \\\n",
              "0                          False                      False            True   \n",
              "1                          False                      False            True   \n",
              "2                          False                      False            True   \n",
              "3                          False                      False            True   \n",
              "4                          False                      False            True   \n",
              "...                          ...                        ...             ...   \n",
              "774150                     False                      False           False   \n",
              "774151                     False                      False           False   \n",
              "774152                     False                      False           False   \n",
              "774153                     False                      False           False   \n",
              "774154                     False                      False           False   \n",
              "\n",
              "        city_cluster_1  \n",
              "0                False  \n",
              "1                False  \n",
              "2                False  \n",
              "3                False  \n",
              "4                False  \n",
              "...                ...  \n",
              "774150            True  \n",
              "774151            True  \n",
              "774152            True  \n",
              "774153            True  \n",
              "774154            True  \n",
              "\n",
              "[774147 rows x 29 columns]"
            ]
          },
          "execution_count": 80,
          "metadata": {},
          "output_type": "execute_result"
        }
      ],
      "source": [
        "# Drop the city_cluster column\n",
        "train_df = train_df.drop(columns=['city_cluster'])\n",
        "\n",
        "train_df"
      ]
    },
    {
      "cell_type": "code",
      "execution_count": 81,
      "metadata": {
        "colab": {
          "base_uri": "https://localhost:8080/",
          "height": 273
        },
        "id": "VN-8IHDg8Ds8",
        "outputId": "e9d7d0a2-1b72-4d3d-910b-9dec6a65b764"
      },
      "outputs": [
        {
          "data": {
            "text/html": [
              "<div>\n",
              "<style scoped>\n",
              "    .dataframe tbody tr th:only-of-type {\n",
              "        vertical-align: middle;\n",
              "    }\n",
              "\n",
              "    .dataframe tbody tr th {\n",
              "        vertical-align: top;\n",
              "    }\n",
              "\n",
              "    .dataframe thead th {\n",
              "        text-align: right;\n",
              "    }\n",
              "</style>\n",
              "<table border=\"1\" class=\"dataframe\">\n",
              "  <thead>\n",
              "    <tr style=\"text-align: right;\">\n",
              "      <th></th>\n",
              "      <th>Customer_ID</th>\n",
              "      <th>luxury_sales</th>\n",
              "      <th>fresh_sales</th>\n",
              "      <th>dry_sales</th>\n",
              "      <th>city_cluster</th>\n",
              "      <th>outlet_city_Anuradhapura</th>\n",
              "      <th>outlet_city_Batticaloa</th>\n",
              "      <th>outlet_city_Colombo</th>\n",
              "      <th>outlet_city_Dehiwala-Mount Lavinia</th>\n",
              "      <th>outlet_city_Galle</th>\n",
              "      <th>...</th>\n",
              "      <th>outlet_city_Madawachchiya</th>\n",
              "      <th>outlet_city_Moratuwa</th>\n",
              "      <th>outlet_city_Negombo</th>\n",
              "      <th>outlet_city_Nuwara Eliya</th>\n",
              "      <th>outlet_city_Panadura</th>\n",
              "      <th>outlet_city_Peliyagoda</th>\n",
              "      <th>outlet_city_Trincomalee</th>\n",
              "      <th>outlet_city_Wattala</th>\n",
              "      <th>city_cluster_0</th>\n",
              "      <th>city_cluster_1</th>\n",
              "    </tr>\n",
              "  </thead>\n",
              "  <tbody>\n",
              "    <tr>\n",
              "      <th>0</th>\n",
              "      <td>33574</td>\n",
              "      <td>2686.50</td>\n",
              "      <td>3582.00</td>\n",
              "      <td>12537.00</td>\n",
              "      <td>1</td>\n",
              "      <td>False</td>\n",
              "      <td>True</td>\n",
              "      <td>False</td>\n",
              "      <td>False</td>\n",
              "      <td>False</td>\n",
              "      <td>...</td>\n",
              "      <td>False</td>\n",
              "      <td>False</td>\n",
              "      <td>False</td>\n",
              "      <td>False</td>\n",
              "      <td>False</td>\n",
              "      <td>False</td>\n",
              "      <td>False</td>\n",
              "      <td>False</td>\n",
              "      <td>False</td>\n",
              "      <td>True</td>\n",
              "    </tr>\n",
              "    <tr>\n",
              "      <th>1</th>\n",
              "      <td>10089</td>\n",
              "      <td>1717.56</td>\n",
              "      <td>2576.34</td>\n",
              "      <td>9446.58</td>\n",
              "      <td>1</td>\n",
              "      <td>False</td>\n",
              "      <td>True</td>\n",
              "      <td>False</td>\n",
              "      <td>False</td>\n",
              "      <td>False</td>\n",
              "      <td>...</td>\n",
              "      <td>False</td>\n",
              "      <td>False</td>\n",
              "      <td>False</td>\n",
              "      <td>False</td>\n",
              "      <td>False</td>\n",
              "      <td>False</td>\n",
              "      <td>False</td>\n",
              "      <td>False</td>\n",
              "      <td>False</td>\n",
              "      <td>True</td>\n",
              "    </tr>\n",
              "    <tr>\n",
              "      <th>2</th>\n",
              "      <td>38329</td>\n",
              "      <td>854.04</td>\n",
              "      <td>1242.24</td>\n",
              "      <td>5201.88</td>\n",
              "      <td>1</td>\n",
              "      <td>False</td>\n",
              "      <td>True</td>\n",
              "      <td>False</td>\n",
              "      <td>False</td>\n",
              "      <td>False</td>\n",
              "      <td>...</td>\n",
              "      <td>False</td>\n",
              "      <td>False</td>\n",
              "      <td>False</td>\n",
              "      <td>False</td>\n",
              "      <td>False</td>\n",
              "      <td>False</td>\n",
              "      <td>False</td>\n",
              "      <td>False</td>\n",
              "      <td>False</td>\n",
              "      <td>True</td>\n",
              "    </tr>\n",
              "    <tr>\n",
              "      <th>3</th>\n",
              "      <td>11376</td>\n",
              "      <td>1638.12</td>\n",
              "      <td>2320.67</td>\n",
              "      <td>9282.68</td>\n",
              "      <td>1</td>\n",
              "      <td>False</td>\n",
              "      <td>True</td>\n",
              "      <td>False</td>\n",
              "      <td>False</td>\n",
              "      <td>False</td>\n",
              "      <td>...</td>\n",
              "      <td>False</td>\n",
              "      <td>False</td>\n",
              "      <td>False</td>\n",
              "      <td>False</td>\n",
              "      <td>False</td>\n",
              "      <td>False</td>\n",
              "      <td>False</td>\n",
              "      <td>False</td>\n",
              "      <td>False</td>\n",
              "      <td>True</td>\n",
              "    </tr>\n",
              "    <tr>\n",
              "      <th>4</th>\n",
              "      <td>12410</td>\n",
              "      <td>1039.09</td>\n",
              "      <td>1518.67</td>\n",
              "      <td>5435.24</td>\n",
              "      <td>1</td>\n",
              "      <td>False</td>\n",
              "      <td>True</td>\n",
              "      <td>False</td>\n",
              "      <td>False</td>\n",
              "      <td>False</td>\n",
              "      <td>...</td>\n",
              "      <td>False</td>\n",
              "      <td>False</td>\n",
              "      <td>False</td>\n",
              "      <td>False</td>\n",
              "      <td>False</td>\n",
              "      <td>False</td>\n",
              "      <td>False</td>\n",
              "      <td>False</td>\n",
              "      <td>False</td>\n",
              "      <td>True</td>\n",
              "    </tr>\n",
              "  </tbody>\n",
              "</table>\n",
              "<p>5 rows × 29 columns</p>\n",
              "</div>"
            ],
            "text/plain": [
              "   Customer_ID  luxury_sales  fresh_sales  dry_sales  city_cluster  \\\n",
              "0        33574       2686.50      3582.00   12537.00             1   \n",
              "1        10089       1717.56      2576.34    9446.58             1   \n",
              "2        38329        854.04      1242.24    5201.88             1   \n",
              "3        11376       1638.12      2320.67    9282.68             1   \n",
              "4        12410       1039.09      1518.67    5435.24             1   \n",
              "\n",
              "   outlet_city_Anuradhapura  outlet_city_Batticaloa  outlet_city_Colombo  \\\n",
              "0                     False                    True                False   \n",
              "1                     False                    True                False   \n",
              "2                     False                    True                False   \n",
              "3                     False                    True                False   \n",
              "4                     False                    True                False   \n",
              "\n",
              "   outlet_city_Dehiwala-Mount Lavinia  outlet_city_Galle  ...  \\\n",
              "0                               False              False  ...   \n",
              "1                               False              False  ...   \n",
              "2                               False              False  ...   \n",
              "3                               False              False  ...   \n",
              "4                               False              False  ...   \n",
              "\n",
              "   outlet_city_Madawachchiya  outlet_city_Moratuwa  outlet_city_Negombo  \\\n",
              "0                      False                 False                False   \n",
              "1                      False                 False                False   \n",
              "2                      False                 False                False   \n",
              "3                      False                 False                False   \n",
              "4                      False                 False                False   \n",
              "\n",
              "   outlet_city_Nuwara Eliya  outlet_city_Panadura  outlet_city_Peliyagoda  \\\n",
              "0                     False                 False                   False   \n",
              "1                     False                 False                   False   \n",
              "2                     False                 False                   False   \n",
              "3                     False                 False                   False   \n",
              "4                     False                 False                   False   \n",
              "\n",
              "   outlet_city_Trincomalee  outlet_city_Wattala  city_cluster_0  \\\n",
              "0                    False                False           False   \n",
              "1                    False                False           False   \n",
              "2                    False                False           False   \n",
              "3                    False                False           False   \n",
              "4                    False                False           False   \n",
              "\n",
              "   city_cluster_1  \n",
              "0            True  \n",
              "1            True  \n",
              "2            True  \n",
              "3            True  \n",
              "4            True  \n",
              "\n",
              "[5 rows x 29 columns]"
            ]
          },
          "execution_count": 81,
          "metadata": {},
          "output_type": "execute_result"
        }
      ],
      "source": [
        "encoded_city_cluster = pd.get_dummies(test_df['city_cluster'], prefix='city_cluster')\n",
        "\n",
        "# Concatenate the encoded columns with the original DataFrame\n",
        "test_df = pd.concat([test_df, encoded_city_cluster], axis=1)\n",
        "\n",
        "# Display the encoded DataFrame\n",
        "test_df.head()"
      ]
    },
    {
      "cell_type": "code",
      "execution_count": 82,
      "metadata": {
        "colab": {
          "base_uri": "https://localhost:8080/",
          "height": 461
        },
        "id": "ekmi6a2Q8Ds8",
        "outputId": "50c6a3c7-b759-422c-fccb-18f340e68623"
      },
      "outputs": [
        {
          "data": {
            "text/html": [
              "<div>\n",
              "<style scoped>\n",
              "    .dataframe tbody tr th:only-of-type {\n",
              "        vertical-align: middle;\n",
              "    }\n",
              "\n",
              "    .dataframe tbody tr th {\n",
              "        vertical-align: top;\n",
              "    }\n",
              "\n",
              "    .dataframe thead th {\n",
              "        text-align: right;\n",
              "    }\n",
              "</style>\n",
              "<table border=\"1\" class=\"dataframe\">\n",
              "  <thead>\n",
              "    <tr style=\"text-align: right;\">\n",
              "      <th></th>\n",
              "      <th>Customer_ID</th>\n",
              "      <th>luxury_sales</th>\n",
              "      <th>fresh_sales</th>\n",
              "      <th>dry_sales</th>\n",
              "      <th>outlet_city_Anuradhapura</th>\n",
              "      <th>outlet_city_Batticaloa</th>\n",
              "      <th>outlet_city_Colombo</th>\n",
              "      <th>outlet_city_Dehiwala-Mount Lavinia</th>\n",
              "      <th>outlet_city_Galle</th>\n",
              "      <th>outlet_city_Gampaha</th>\n",
              "      <th>...</th>\n",
              "      <th>outlet_city_Madawachchiya</th>\n",
              "      <th>outlet_city_Moratuwa</th>\n",
              "      <th>outlet_city_Negombo</th>\n",
              "      <th>outlet_city_Nuwara Eliya</th>\n",
              "      <th>outlet_city_Panadura</th>\n",
              "      <th>outlet_city_Peliyagoda</th>\n",
              "      <th>outlet_city_Trincomalee</th>\n",
              "      <th>outlet_city_Wattala</th>\n",
              "      <th>city_cluster_0</th>\n",
              "      <th>city_cluster_1</th>\n",
              "    </tr>\n",
              "  </thead>\n",
              "  <tbody>\n",
              "    <tr>\n",
              "      <th>0</th>\n",
              "      <td>33574</td>\n",
              "      <td>2686.50</td>\n",
              "      <td>3582.00</td>\n",
              "      <td>12537.00</td>\n",
              "      <td>False</td>\n",
              "      <td>True</td>\n",
              "      <td>False</td>\n",
              "      <td>False</td>\n",
              "      <td>False</td>\n",
              "      <td>False</td>\n",
              "      <td>...</td>\n",
              "      <td>False</td>\n",
              "      <td>False</td>\n",
              "      <td>False</td>\n",
              "      <td>False</td>\n",
              "      <td>False</td>\n",
              "      <td>False</td>\n",
              "      <td>False</td>\n",
              "      <td>False</td>\n",
              "      <td>False</td>\n",
              "      <td>True</td>\n",
              "    </tr>\n",
              "    <tr>\n",
              "      <th>1</th>\n",
              "      <td>10089</td>\n",
              "      <td>1717.56</td>\n",
              "      <td>2576.34</td>\n",
              "      <td>9446.58</td>\n",
              "      <td>False</td>\n",
              "      <td>True</td>\n",
              "      <td>False</td>\n",
              "      <td>False</td>\n",
              "      <td>False</td>\n",
              "      <td>False</td>\n",
              "      <td>...</td>\n",
              "      <td>False</td>\n",
              "      <td>False</td>\n",
              "      <td>False</td>\n",
              "      <td>False</td>\n",
              "      <td>False</td>\n",
              "      <td>False</td>\n",
              "      <td>False</td>\n",
              "      <td>False</td>\n",
              "      <td>False</td>\n",
              "      <td>True</td>\n",
              "    </tr>\n",
              "    <tr>\n",
              "      <th>2</th>\n",
              "      <td>38329</td>\n",
              "      <td>854.04</td>\n",
              "      <td>1242.24</td>\n",
              "      <td>5201.88</td>\n",
              "      <td>False</td>\n",
              "      <td>True</td>\n",
              "      <td>False</td>\n",
              "      <td>False</td>\n",
              "      <td>False</td>\n",
              "      <td>False</td>\n",
              "      <td>...</td>\n",
              "      <td>False</td>\n",
              "      <td>False</td>\n",
              "      <td>False</td>\n",
              "      <td>False</td>\n",
              "      <td>False</td>\n",
              "      <td>False</td>\n",
              "      <td>False</td>\n",
              "      <td>False</td>\n",
              "      <td>False</td>\n",
              "      <td>True</td>\n",
              "    </tr>\n",
              "    <tr>\n",
              "      <th>3</th>\n",
              "      <td>11376</td>\n",
              "      <td>1638.12</td>\n",
              "      <td>2320.67</td>\n",
              "      <td>9282.68</td>\n",
              "      <td>False</td>\n",
              "      <td>True</td>\n",
              "      <td>False</td>\n",
              "      <td>False</td>\n",
              "      <td>False</td>\n",
              "      <td>False</td>\n",
              "      <td>...</td>\n",
              "      <td>False</td>\n",
              "      <td>False</td>\n",
              "      <td>False</td>\n",
              "      <td>False</td>\n",
              "      <td>False</td>\n",
              "      <td>False</td>\n",
              "      <td>False</td>\n",
              "      <td>False</td>\n",
              "      <td>False</td>\n",
              "      <td>True</td>\n",
              "    </tr>\n",
              "    <tr>\n",
              "      <th>4</th>\n",
              "      <td>12410</td>\n",
              "      <td>1039.09</td>\n",
              "      <td>1518.67</td>\n",
              "      <td>5435.24</td>\n",
              "      <td>False</td>\n",
              "      <td>True</td>\n",
              "      <td>False</td>\n",
              "      <td>False</td>\n",
              "      <td>False</td>\n",
              "      <td>False</td>\n",
              "      <td>...</td>\n",
              "      <td>False</td>\n",
              "      <td>False</td>\n",
              "      <td>False</td>\n",
              "      <td>False</td>\n",
              "      <td>False</td>\n",
              "      <td>False</td>\n",
              "      <td>False</td>\n",
              "      <td>False</td>\n",
              "      <td>False</td>\n",
              "      <td>True</td>\n",
              "    </tr>\n",
              "    <tr>\n",
              "      <th>...</th>\n",
              "      <td>...</td>\n",
              "      <td>...</td>\n",
              "      <td>...</td>\n",
              "      <td>...</td>\n",
              "      <td>...</td>\n",
              "      <td>...</td>\n",
              "      <td>...</td>\n",
              "      <td>...</td>\n",
              "      <td>...</td>\n",
              "      <td>...</td>\n",
              "      <td>...</td>\n",
              "      <td>...</td>\n",
              "      <td>...</td>\n",
              "      <td>...</td>\n",
              "      <td>...</td>\n",
              "      <td>...</td>\n",
              "      <td>...</td>\n",
              "      <td>...</td>\n",
              "      <td>...</td>\n",
              "      <td>...</td>\n",
              "      <td>...</td>\n",
              "    </tr>\n",
              "    <tr>\n",
              "      <th>40744</th>\n",
              "      <td>33698</td>\n",
              "      <td>3916.48</td>\n",
              "      <td>4161.26</td>\n",
              "      <td>3916.48</td>\n",
              "      <td>False</td>\n",
              "      <td>False</td>\n",
              "      <td>False</td>\n",
              "      <td>False</td>\n",
              "      <td>False</td>\n",
              "      <td>False</td>\n",
              "      <td>...</td>\n",
              "      <td>False</td>\n",
              "      <td>False</td>\n",
              "      <td>False</td>\n",
              "      <td>False</td>\n",
              "      <td>False</td>\n",
              "      <td>False</td>\n",
              "      <td>False</td>\n",
              "      <td>True</td>\n",
              "      <td>True</td>\n",
              "      <td>False</td>\n",
              "    </tr>\n",
              "    <tr>\n",
              "      <th>40745</th>\n",
              "      <td>4185</td>\n",
              "      <td>3191.92</td>\n",
              "      <td>3004.16</td>\n",
              "      <td>3098.04</td>\n",
              "      <td>False</td>\n",
              "      <td>False</td>\n",
              "      <td>False</td>\n",
              "      <td>False</td>\n",
              "      <td>False</td>\n",
              "      <td>False</td>\n",
              "      <td>...</td>\n",
              "      <td>False</td>\n",
              "      <td>False</td>\n",
              "      <td>False</td>\n",
              "      <td>False</td>\n",
              "      <td>False</td>\n",
              "      <td>False</td>\n",
              "      <td>False</td>\n",
              "      <td>True</td>\n",
              "      <td>True</td>\n",
              "      <td>False</td>\n",
              "    </tr>\n",
              "    <tr>\n",
              "      <th>40746</th>\n",
              "      <td>28664</td>\n",
              "      <td>3838.60</td>\n",
              "      <td>3951.50</td>\n",
              "      <td>3700.00</td>\n",
              "      <td>False</td>\n",
              "      <td>False</td>\n",
              "      <td>False</td>\n",
              "      <td>False</td>\n",
              "      <td>False</td>\n",
              "      <td>False</td>\n",
              "      <td>...</td>\n",
              "      <td>False</td>\n",
              "      <td>False</td>\n",
              "      <td>False</td>\n",
              "      <td>False</td>\n",
              "      <td>False</td>\n",
              "      <td>False</td>\n",
              "      <td>False</td>\n",
              "      <td>True</td>\n",
              "      <td>True</td>\n",
              "      <td>False</td>\n",
              "    </tr>\n",
              "    <tr>\n",
              "      <th>40747</th>\n",
              "      <td>11874</td>\n",
              "      <td>4313.76</td>\n",
              "      <td>4183.04</td>\n",
              "      <td>4313.76</td>\n",
              "      <td>False</td>\n",
              "      <td>False</td>\n",
              "      <td>False</td>\n",
              "      <td>False</td>\n",
              "      <td>False</td>\n",
              "      <td>False</td>\n",
              "      <td>...</td>\n",
              "      <td>False</td>\n",
              "      <td>False</td>\n",
              "      <td>False</td>\n",
              "      <td>False</td>\n",
              "      <td>False</td>\n",
              "      <td>False</td>\n",
              "      <td>False</td>\n",
              "      <td>True</td>\n",
              "      <td>True</td>\n",
              "      <td>False</td>\n",
              "    </tr>\n",
              "    <tr>\n",
              "      <th>40748</th>\n",
              "      <td>11431</td>\n",
              "      <td>4212.16</td>\n",
              "      <td>4212.16</td>\n",
              "      <td>4212.16</td>\n",
              "      <td>False</td>\n",
              "      <td>False</td>\n",
              "      <td>False</td>\n",
              "      <td>False</td>\n",
              "      <td>False</td>\n",
              "      <td>False</td>\n",
              "      <td>...</td>\n",
              "      <td>False</td>\n",
              "      <td>False</td>\n",
              "      <td>False</td>\n",
              "      <td>False</td>\n",
              "      <td>False</td>\n",
              "      <td>False</td>\n",
              "      <td>False</td>\n",
              "      <td>True</td>\n",
              "      <td>True</td>\n",
              "      <td>False</td>\n",
              "    </tr>\n",
              "  </tbody>\n",
              "</table>\n",
              "<p>40749 rows × 28 columns</p>\n",
              "</div>"
            ],
            "text/plain": [
              "       Customer_ID  luxury_sales  fresh_sales  dry_sales  \\\n",
              "0            33574       2686.50      3582.00   12537.00   \n",
              "1            10089       1717.56      2576.34    9446.58   \n",
              "2            38329        854.04      1242.24    5201.88   \n",
              "3            11376       1638.12      2320.67    9282.68   \n",
              "4            12410       1039.09      1518.67    5435.24   \n",
              "...            ...           ...          ...        ...   \n",
              "40744        33698       3916.48      4161.26    3916.48   \n",
              "40745         4185       3191.92      3004.16    3098.04   \n",
              "40746        28664       3838.60      3951.50    3700.00   \n",
              "40747        11874       4313.76      4183.04    4313.76   \n",
              "40748        11431       4212.16      4212.16    4212.16   \n",
              "\n",
              "       outlet_city_Anuradhapura  outlet_city_Batticaloa  outlet_city_Colombo  \\\n",
              "0                         False                    True                False   \n",
              "1                         False                    True                False   \n",
              "2                         False                    True                False   \n",
              "3                         False                    True                False   \n",
              "4                         False                    True                False   \n",
              "...                         ...                     ...                  ...   \n",
              "40744                     False                   False                False   \n",
              "40745                     False                   False                False   \n",
              "40746                     False                   False                False   \n",
              "40747                     False                   False                False   \n",
              "40748                     False                   False                False   \n",
              "\n",
              "       outlet_city_Dehiwala-Mount Lavinia  outlet_city_Galle  \\\n",
              "0                                   False              False   \n",
              "1                                   False              False   \n",
              "2                                   False              False   \n",
              "3                                   False              False   \n",
              "4                                   False              False   \n",
              "...                                   ...                ...   \n",
              "40744                               False              False   \n",
              "40745                               False              False   \n",
              "40746                               False              False   \n",
              "40747                               False              False   \n",
              "40748                               False              False   \n",
              "\n",
              "       outlet_city_Gampaha  ...  outlet_city_Madawachchiya  \\\n",
              "0                    False  ...                      False   \n",
              "1                    False  ...                      False   \n",
              "2                    False  ...                      False   \n",
              "3                    False  ...                      False   \n",
              "4                    False  ...                      False   \n",
              "...                    ...  ...                        ...   \n",
              "40744                False  ...                      False   \n",
              "40745                False  ...                      False   \n",
              "40746                False  ...                      False   \n",
              "40747                False  ...                      False   \n",
              "40748                False  ...                      False   \n",
              "\n",
              "       outlet_city_Moratuwa  outlet_city_Negombo  outlet_city_Nuwara Eliya  \\\n",
              "0                     False                False                     False   \n",
              "1                     False                False                     False   \n",
              "2                     False                False                     False   \n",
              "3                     False                False                     False   \n",
              "4                     False                False                     False   \n",
              "...                     ...                  ...                       ...   \n",
              "40744                 False                False                     False   \n",
              "40745                 False                False                     False   \n",
              "40746                 False                False                     False   \n",
              "40747                 False                False                     False   \n",
              "40748                 False                False                     False   \n",
              "\n",
              "       outlet_city_Panadura  outlet_city_Peliyagoda  outlet_city_Trincomalee  \\\n",
              "0                     False                   False                    False   \n",
              "1                     False                   False                    False   \n",
              "2                     False                   False                    False   \n",
              "3                     False                   False                    False   \n",
              "4                     False                   False                    False   \n",
              "...                     ...                     ...                      ...   \n",
              "40744                 False                   False                    False   \n",
              "40745                 False                   False                    False   \n",
              "40746                 False                   False                    False   \n",
              "40747                 False                   False                    False   \n",
              "40748                 False                   False                    False   \n",
              "\n",
              "       outlet_city_Wattala  city_cluster_0  city_cluster_1  \n",
              "0                    False           False            True  \n",
              "1                    False           False            True  \n",
              "2                    False           False            True  \n",
              "3                    False           False            True  \n",
              "4                    False           False            True  \n",
              "...                    ...             ...             ...  \n",
              "40744                 True            True           False  \n",
              "40745                 True            True           False  \n",
              "40746                 True            True           False  \n",
              "40747                 True            True           False  \n",
              "40748                 True            True           False  \n",
              "\n",
              "[40749 rows x 28 columns]"
            ]
          },
          "execution_count": 82,
          "metadata": {},
          "output_type": "execute_result"
        }
      ],
      "source": [
        "# Drop the city_cluster column\n",
        "test_df = test_df.drop(columns=['city_cluster'])\n",
        "\n",
        "test_df"
      ]
    },
    {
      "cell_type": "code",
      "execution_count": 83,
      "metadata": {
        "colab": {
          "base_uri": "https://localhost:8080/"
        },
        "id": "1EfbS5Ac8Ds8",
        "outputId": "9e4cbc76-87e0-42da-c825-b453d09cbb14"
      },
      "outputs": [
        {
          "data": {
            "text/plain": [
              "Customer_ID                             int64\n",
              "luxury_sales                          float64\n",
              "fresh_sales                           float64\n",
              "dry_sales                             float64\n",
              "cluster_category                        int64\n",
              "outlet_city_Batticaloa                   bool\n",
              "outlet_city_Colombo                      bool\n",
              "outlet_city_Dehiwala-Mount Lavinia       bool\n",
              "outlet_city_Galle                        bool\n",
              "outlet_city_Gampaha                      bool\n",
              "outlet_city_Homagama                     bool\n",
              "outlet_city_Jaffna                       bool\n",
              "outlet_city_Kaduwela                     bool\n",
              "outlet_city_Kalmunai                     bool\n",
              "outlet_city_Kandy                        bool\n",
              "outlet_city_Katunayake                   bool\n",
              "outlet_city_Kelaniya                     bool\n",
              "outlet_city_Kotte                        bool\n",
              "outlet_city_Moratuwa                     bool\n",
              "outlet_city_Negombo                      bool\n",
              "outlet_city_Nuwara Eliya                 bool\n",
              "outlet_city_Panadura                     bool\n",
              "outlet_city_Peliyagoda                   bool\n",
              "outlet_city_Trincomalee                  bool\n",
              "outlet_city_Wattala                      bool\n",
              "outlet_city_Anuradhapura                 bool\n",
              "outlet_city_Madawachchiya                bool\n",
              "city_cluster_0                           bool\n",
              "city_cluster_1                           bool\n",
              "dtype: object"
            ]
          },
          "execution_count": 83,
          "metadata": {},
          "output_type": "execute_result"
        }
      ],
      "source": [
        "train_df.dtypes"
      ]
    },
    {
      "cell_type": "code",
      "execution_count": 84,
      "metadata": {
        "colab": {
          "base_uri": "https://localhost:8080/"
        },
        "id": "QNiwEQ0A8Ds9",
        "outputId": "017307a5-bbbc-4100-8eea-df97686823ed"
      },
      "outputs": [
        {
          "data": {
            "text/plain": [
              "Customer_ID                             int64\n",
              "luxury_sales                          float64\n",
              "fresh_sales                           float64\n",
              "dry_sales                             float64\n",
              "outlet_city_Anuradhapura                 bool\n",
              "outlet_city_Batticaloa                   bool\n",
              "outlet_city_Colombo                      bool\n",
              "outlet_city_Dehiwala-Mount Lavinia       bool\n",
              "outlet_city_Galle                        bool\n",
              "outlet_city_Gampaha                      bool\n",
              "outlet_city_Homagama                     bool\n",
              "outlet_city_Jaffna                       bool\n",
              "outlet_city_Kaduwela                     bool\n",
              "outlet_city_Kalmunai                     bool\n",
              "outlet_city_Kandy                        bool\n",
              "outlet_city_Katunayake                   bool\n",
              "outlet_city_Kelaniya                     bool\n",
              "outlet_city_Kotte                        bool\n",
              "outlet_city_Madawachchiya                bool\n",
              "outlet_city_Moratuwa                     bool\n",
              "outlet_city_Negombo                      bool\n",
              "outlet_city_Nuwara Eliya                 bool\n",
              "outlet_city_Panadura                     bool\n",
              "outlet_city_Peliyagoda                   bool\n",
              "outlet_city_Trincomalee                  bool\n",
              "outlet_city_Wattala                      bool\n",
              "city_cluster_0                           bool\n",
              "city_cluster_1                           bool\n",
              "dtype: object"
            ]
          },
          "execution_count": 84,
          "metadata": {},
          "output_type": "execute_result"
        }
      ],
      "source": [
        "test_df.dtypes"
      ]
    },
    {
      "cell_type": "markdown",
      "metadata": {},
      "source": [
        "#### Correlation Analysis"
      ]
    },
    {
      "cell_type": "code",
      "execution_count": 85,
      "metadata": {},
      "outputs": [
        {
          "name": "stdout",
          "output_type": "stream",
          "text": [
            "Correlation of features with the target variable 'cluster_category':\n",
            "cluster_category                      1.000000\n",
            "fresh_sales                           0.389008\n",
            "luxury_sales                          0.308867\n",
            "city_cluster_1                        0.014911\n",
            "outlet_city_Trincomalee               0.004890\n",
            "outlet_city_Batticaloa                0.004766\n",
            "outlet_city_Kalmunai                  0.004557\n",
            "outlet_city_Jaffna                    0.004029\n",
            "outlet_city_Colombo                   0.003451\n",
            "outlet_city_Galle                     0.003302\n",
            "outlet_city_Negombo                   0.003299\n",
            "outlet_city_Kandy                     0.002294\n",
            "outlet_city_Gampaha                   0.002116\n",
            "Customer_ID                           0.001060\n",
            "outlet_city_Katunayake                0.000640\n",
            "outlet_city_Nuwara Eliya             -0.001752\n",
            "outlet_city_Wattala                  -0.002951\n",
            "outlet_city_Kotte                    -0.003018\n",
            "outlet_city_Peliyagoda               -0.003361\n",
            "outlet_city_Homagama                 -0.003406\n",
            "outlet_city_Moratuwa                 -0.003521\n",
            "outlet_city_Kaduwela                 -0.003669\n",
            "outlet_city_Dehiwala-Mount Lavinia   -0.004263\n",
            "outlet_city_Panadura                 -0.004309\n",
            "outlet_city_Kelaniya                 -0.004806\n",
            "city_cluster_0                       -0.014911\n",
            "dry_sales                            -0.467711\n",
            "outlet_city_Anuradhapura                   NaN\n",
            "outlet_city_Madawachchiya                  NaN\n",
            "Name: cluster_category, dtype: float64\n"
          ]
        },
        {
          "name": "stderr",
          "output_type": "stream",
          "text": [
            "c:\\Users\\usith\\anaconda3\\Lib\\site-packages\\seaborn\\matrix.py:260: FutureWarning: Format strings passed to MaskedConstant are ignored, but in future may error or produce different behavior\n",
            "  annotation = (\"{:\" + self.fmt + \"}\").format(val)\n"
          ]
        },
        {
          "data": {
            "image/png": "[encoded data removed]",
            "text/plain": [
              "<Figure size 1000x800 with 2 Axes>"
            ]
          },
          "metadata": {},
          "output_type": "display_data"
        }
      ],
      "source": [
        "# Calculate the correlation matrix\n",
        "correlation_matrix = train_df.corr()\n",
        "\n",
        "# Extract the correlation of features with the target variable\n",
        "target_correlations = correlation_matrix['cluster_category'].sort_values(ascending=False)\n",
        "\n",
        "# Display the correlations\n",
        "print(\"Correlation of features with the target variable 'cluster_category':\")\n",
        "print(target_correlations)\n",
        "\n",
        "# Visualizing the correlations\n",
        "plt.figure(figsize=(10, 8))\n",
        "sns.heatmap(correlation_matrix, annot=True, cmap='coolwarm', linewidths=0.5)\n",
        "plt.title('Correlation Matrix')\n",
        "plt.show()"
      ]
    },
    {
      "cell_type": "markdown",
      "metadata": {
        "id": "i172M0hP8Ds9"
      },
      "source": [
        "# 2. Model Selection and Training"
      ]
    },
    {
      "cell_type": "markdown",
      "metadata": {
        "id": "lduL6r6V8Ds9"
      },
      "source": [
        "## 2.1. Separate Features and Target"
      ]
    },
    {
      "cell_type": "code",
      "execution_count": 86,
      "metadata": {
        "id": "rVR5fLc18Ds9"
      },
      "outputs": [],
      "source": [
        "X_train = train_df.drop(columns=['Customer_ID', 'cluster_category'])\n",
        "Y_train = train_df['cluster_category']\n",
        "X_test = test_df.drop(columns=['Customer_ID'])"
      ]
    },
    {
      "cell_type": "markdown",
      "metadata": {
        "id": "q1GqF4ia8Ds9"
      },
      "source": [
        "## 2.2. Data Standardization"
      ]
    },
    {
      "cell_type": "code",
      "execution_count": 87,
      "metadata": {
        "id": "_1yo5h5z8Ds9"
      },
      "outputs": [],
      "source": [
        "from sklearn.preprocessing import StandardScaler\n",
        "\n",
        "scaler = StandardScaler()\n",
        "X_train = scaler.fit_transform(X_train)\n",
        "X_test = scaler.fit_transform(X_test)"
      ]
    },
    {
      "cell_type": "markdown",
      "metadata": {
        "id": "U2FyNV7Q8Ds9"
      },
      "source": [
        "## 2.3. Model Selection"
      ]
    },
    {
      "cell_type": "markdown",
      "metadata": {
        "id": "lnWtHPDw8Ds9"
      },
      "source": [
        "### 2.3.1. Random Forest"
      ]
    },
    {
      "cell_type": "code",
      "execution_count": 88,
      "metadata": {
        "colab": {
          "base_uri": "https://localhost:8080/"
        },
        "id": "S07UFBOL8Ds9",
        "outputId": "9e4a7d8e-c3f4-4f8d-e4e9-2dae5b66d50a"
      },
      "outputs": [
        {
          "name": "stdout",
          "output_type": "stream",
          "text": [
            "              precision    recall  f1-score   support\n",
            "\n",
            "           1       1.00      1.00      1.00     38087\n",
            "           2       1.00      1.00      1.00     30887\n",
            "           3       1.00      1.00      1.00      9817\n",
            "           4       1.00      1.00      1.00     34406\n",
            "           5       1.00      1.00      1.00      7871\n",
            "           6       1.00      1.00      1.00     33762\n",
            "\n",
            "    accuracy                           1.00    154830\n",
            "   macro avg       1.00      1.00      1.00    154830\n",
            "weighted avg       1.00      1.00      1.00    154830\n",
            "\n"
          ]
        }
      ],
      "source": [
        "from sklearn.ensemble import RandomForestClassifier\n",
        "from sklearn.model_selection import train_test_split\n",
        "from sklearn.metrics import classification_report\n",
        "\n",
        "# Split the training data for validation\n",
        "X_train_split, X_val_split, y_train_split, y_val_split = train_test_split(X_train, Y_train, test_size=0.2, random_state=42)\n",
        "\n",
        "# Initialize the model\n",
        "rf_model = RandomForestClassifier(n_estimators=100, random_state=42)\n",
        "\n",
        "# Train the model\n",
        "rf_model.fit(X_train_split, y_train_split)\n",
        "\n",
        "# Validate the model\n",
        "y_val_pred = rf_model.predict(X_val_split)\n",
        "print(classification_report(y_val_split, y_val_pred))"
      ]
    },
    {
      "cell_type": "code",
      "execution_count": 89,
      "metadata": {
        "colab": {
          "base_uri": "https://localhost:8080/"
        },
        "id": "QGAddKQE8Ds-",
        "outputId": "048a9616-9481-4585-d886-2010495c1edf"
      },
      "outputs": [
        {
          "name": "stdout",
          "output_type": "stream",
          "text": [
            "Validation Accuracy (sklearn): 0.9998\n"
          ]
        }
      ],
      "source": [
        "from sklearn.metrics import accuracy_score\n",
        "\n",
        "# Evaluate using sklearn's accuracy_score\n",
        "accuracy = accuracy_score(y_val_split, y_val_pred)\n",
        "print(f'Validation Accuracy (sklearn): {accuracy:.4f}')"
      ]
    },
    {
      "cell_type": "markdown",
      "metadata": {
        "id": "GcdRkn5X8Ds-"
      },
      "source": [
        "# 3. Prediction and Submission"
      ]
    },
    {
      "cell_type": "code",
      "execution_count": 90,
      "metadata": {
        "id": "sx5Pw7MN8Ds-",
        "outputId": "3591ae41-4539-4ef8-d057-81d9f32fa9fd"
      },
      "outputs": [
        {
          "data": {
            "text/html": [
              "<style>#sk-container-id-1 {\n",
              "  /* Definition of color scheme common for light and dark mode */\n",
              "  --sklearn-color-text: black;\n",
              "  --sklearn-color-line: gray;\n",
              "  /* Definition of color scheme for unfitted estimators */\n",
              "  --sklearn-color-unfitted-level-0: #fff5e6;\n",
              "  --sklearn-color-unfitted-level-1: #f6e4d2;\n",
              "  --sklearn-color-unfitted-level-2: #ffe0b3;\n",
              "  --sklearn-color-unfitted-level-3: chocolate;\n",
              "  /* Definition of color scheme for fitted estimators */\n",
              "  --sklearn-color-fitted-level-0: #f0f8ff;\n",
              "  --sklearn-color-fitted-level-1: #d4ebff;\n",
              "  --sklearn-color-fitted-level-2: #b3dbfd;\n",
              "  --sklearn-color-fitted-level-3: cornflowerblue;\n",
              "\n",
              "  /* Specific color for light theme */\n",
              "  --sklearn-color-text-on-default-background: var(--sg-text-color, var(--theme-code-foreground, var(--jp-content-font-color1, black)));\n",
              "  --sklearn-color-background: var(--sg-background-color, var(--theme-background, var(--jp-layout-color0, white)));\n",
              "  --sklearn-color-border-box: var(--sg-text-color, var(--theme-code-foreground, var(--jp-content-font-color1, black)));\n",
              "  --sklearn-color-icon: #696969;\n",
              "\n",
              "  @media (prefers-color-scheme: dark) {\n",
              "    /* Redefinition of color scheme for dark theme */\n",
              "    --sklearn-color-text-on-default-background: var(--sg-text-color, var(--theme-code-foreground, var(--jp-content-font-color1, white)));\n",
              "    --sklearn-color-background: var(--sg-background-color, var(--theme-background, var(--jp-layout-color0, #111)));\n",
              "    --sklearn-color-border-box: var(--sg-text-color, var(--theme-code-foreground, var(--jp-content-font-color1, white)));\n",
              "    --sklearn-color-icon: #878787;\n",
              "  }\n",
              "}\n",
              "\n",
              "#sk-container-id-1 {\n",
              "  color: var(--sklearn-color-text);\n",
              "}\n",
              "\n",
              "#sk-container-id-1 pre {\n",
              "  padding: 0;\n",
              "}\n",
              "\n",
              "#sk-container-id-1 input.sk-hidden--visually {\n",
              "  border: 0;\n",
              "  clip: rect(1px 1px 1px 1px);\n",
              "  clip: rect(1px, 1px, 1px, 1px);\n",
              "  height: 1px;\n",
              "  margin: -1px;\n",
              "  overflow: hidden;\n",
              "  padding: 0;\n",
              "  position: absolute;\n",
              "  width: 1px;\n",
              "}\n",
              "\n",
              "#sk-container-id-1 div.sk-dashed-wrapped {\n",
              "  border: 1px dashed var(--sklearn-color-line);\n",
              "  margin: 0 0.4em 0.5em 0.4em;\n",
              "  box-sizing: border-box;\n",
              "  padding-bottom: 0.4em;\n",
              "  background-color: var(--sklearn-color-background);\n",
              "}\n",
              "\n",
              "#sk-container-id-1 div.sk-container {\n",
              "  /* jupyter's `normalize.less` sets `[hidden] { display: none; }`\n",
              "     but bootstrap.min.css set `[hidden] { display: none !important; }`\n",
              "     so we also need the `!important` here to be able to override the\n",
              "     default hidden behavior on the sphinx rendered scikit-learn.org.\n",
              "     See: https://github.com/scikit-learn/scikit-learn/issues/21755 */\n",
              "  display: inline-block !important;\n",
              "  position: relative;\n",
              "}\n",
              "\n",
              "#sk-container-id-1 div.sk-text-repr-fallback {\n",
              "  display: none;\n",
              "}\n",
              "\n",
              "div.sk-parallel-item,\n",
              "div.sk-serial,\n",
              "div.sk-item {\n",
              "  /* draw centered vertical line to link estimators */\n",
              "  background-image: linear-gradient(var(--sklearn-color-text-on-default-background), var(--sklearn-color-text-on-default-background));\n",
              "  background-size: 2px 100%;\n",
              "  background-repeat: no-repeat;\n",
              "  background-position: center center;\n",
              "}\n",
              "\n",
              "/* Parallel-specific style estimator block */\n",
              "\n",
              "#sk-container-id-1 div.sk-parallel-item::after {\n",
              "  content: \"\";\n",
              "  width: 100%;\n",
              "  border-bottom: 2px solid var(--sklearn-color-text-on-default-background);\n",
              "  flex-grow: 1;\n",
              "}\n",
              "\n",
              "#sk-container-id-1 div.sk-parallel {\n",
              "  display: flex;\n",
              "  align-items: stretch;\n",
              "  justify-content: center;\n",
              "  background-color: var(--sklearn-color-background);\n",
              "  position: relative;\n",
              "}\n",
              "\n",
              "#sk-container-id-1 div.sk-parallel-item {\n",
              "  display: flex;\n",
              "  flex-direction: column;\n",
              "}\n",
              "\n",
              "#sk-container-id-1 div.sk-parallel-item:first-child::after {\n",
              "  align-self: flex-end;\n",
              "  width: 50%;\n",
              "}\n",
              "\n",
              "#sk-container-id-1 div.sk-parallel-item:last-child::after {\n",
              "  align-self: flex-start;\n",
              "  width: 50%;\n",
              "}\n",
              "\n",
              "#sk-container-id-1 div.sk-parallel-item:only-child::after {\n",
              "  width: 0;\n",
              "}\n",
              "\n",
              "/* Serial-specific style estimator block */\n",
              "\n",
              "#sk-container-id-1 div.sk-serial {\n",
              "  display: flex;\n",
              "  flex-direction: column;\n",
              "  align-items: center;\n",
              "  background-color: var(--sklearn-color-background);\n",
              "  padding-right: 1em;\n",
              "  padding-left: 1em;\n",
              "}\n",
              "\n",
              "\n",
              "/* Toggleable style: style used for estimator/Pipeline/ColumnTransformer box that is\n",
              "clickable and can be expanded/collapsed.\n",
              "- Pipeline and ColumnTransformer use this feature and define the default style\n",
              "- Estimators will overwrite some part of the style using the `sk-estimator` class\n",
              "*/\n",
              "\n",
              "/* Pipeline and ColumnTransformer style (default) */\n",
              "\n",
              "#sk-container-id-1 div.sk-toggleable {\n",
              "  /* Default theme specific background. It is overwritten whether we have a\n",
              "  specific estimator or a Pipeline/ColumnTransformer */\n",
              "  background-color: var(--sklearn-color-background);\n",
              "}\n",
              "\n",
              "/* Toggleable label */\n",
              "#sk-container-id-1 label.sk-toggleable__label {\n",
              "  cursor: pointer;\n",
              "  display: block;\n",
              "  width: 100%;\n",
              "  margin-bottom: 0;\n",
              "  padding: 0.5em;\n",
              "  box-sizing: border-box;\n",
              "  text-align: center;\n",
              "}\n",
              "\n",
              "#sk-container-id-1 label.sk-toggleable__label-arrow:before {\n",
              "  /* Arrow on the left of the label */\n",
              "  content: \"▸\";\n",
              "  float: left;\n",
              "  margin-right: 0.25em;\n",
              "  color: var(--sklearn-color-icon);\n",
              "}\n",
              "\n",
              "#sk-container-id-1 label.sk-toggleable__label-arrow:hover:before {\n",
              "  color: var(--sklearn-color-text);\n",
              "}\n",
              "\n",
              "/* Toggleable content - dropdown */\n",
              "\n",
              "#sk-container-id-1 div.sk-toggleable__content {\n",
              "  max-height: 0;\n",
              "  max-width: 0;\n",
              "  overflow: hidden;\n",
              "  text-align: left;\n",
              "  /* unfitted */\n",
              "  background-color: var(--sklearn-color-unfitted-level-0);\n",
              "}\n",
              "\n",
              "#sk-container-id-1 div.sk-toggleable__content.fitted {\n",
              "  /* fitted */\n",
              "  background-color: var(--sklearn-color-fitted-level-0);\n",
              "}\n",
              "\n",
              "#sk-container-id-1 div.sk-toggleable__content pre {\n",
              "  margin: 0.2em;\n",
              "  border-radius: 0.25em;\n",
              "  color: var(--sklearn-color-text);\n",
              "  /* unfitted */\n",
              "  background-color: var(--sklearn-color-unfitted-level-0);\n",
              "}\n",
              "\n",
              "#sk-container-id-1 div.sk-toggleable__content.fitted pre {\n",
              "  /* unfitted */\n",
              "  background-color: var(--sklearn-color-fitted-level-0);\n",
              "}\n",
              "\n",
              "#sk-container-id-1 input.sk-toggleable__control:checked~div.sk-toggleable__content {\n",
              "  /* Expand drop-down */\n",
              "  max-height: 200px;\n",
              "  max-width: 100%;\n",
              "  overflow: auto;\n",
              "}\n",
              "\n",
              "#sk-container-id-1 input.sk-toggleable__control:checked~label.sk-toggleable__label-arrow:before {\n",
              "  content: \"▾\";\n",
              "}\n",
              "\n",
              "/* Pipeline/ColumnTransformer-specific style */\n",
              "\n",
              "#sk-container-id-1 div.sk-label input.sk-toggleable__control:checked~label.sk-toggleable__label {\n",
              "  color: var(--sklearn-color-text);\n",
              "  background-color: var(--sklearn-color-unfitted-level-2);\n",
              "}\n",
              "\n",
              "#sk-container-id-1 div.sk-label.fitted input.sk-toggleable__control:checked~label.sk-toggleable__label {\n",
              "  background-color: var(--sklearn-color-fitted-level-2);\n",
              "}\n",
              "\n",
              "/* Estimator-specific style */\n",
              "\n",
              "/* Colorize estimator box */\n",
              "#sk-container-id-1 div.sk-estimator input.sk-toggleable__control:checked~label.sk-toggleable__label {\n",
              "  /* unfitted */\n",
              "  background-color: var(--sklearn-color-unfitted-level-2);\n",
              "}\n",
              "\n",
              "#sk-container-id-1 div.sk-estimator.fitted input.sk-toggleable__control:checked~label.sk-toggleable__label {\n",
              "  /* fitted */\n",
              "  background-color: var(--sklearn-color-fitted-level-2);\n",
              "}\n",
              "\n",
              "#sk-container-id-1 div.sk-label label.sk-toggleable__label,\n",
              "#sk-container-id-1 div.sk-label label {\n",
              "  /* The background is the default theme color */\n",
              "  color: var(--sklearn-color-text-on-default-background);\n",
              "}\n",
              "\n",
              "/* On hover, darken the color of the background */\n",
              "#sk-container-id-1 div.sk-label:hover label.sk-toggleable__label {\n",
              "  color: var(--sklearn-color-text);\n",
              "  background-color: var(--sklearn-color-unfitted-level-2);\n",
              "}\n",
              "\n",
              "/* Label box, darken color on hover, fitted */\n",
              "#sk-container-id-1 div.sk-label.fitted:hover label.sk-toggleable__label.fitted {\n",
              "  color: var(--sklearn-color-text);\n",
              "  background-color: var(--sklearn-color-fitted-level-2);\n",
              "}\n",
              "\n",
              "/* Estimator label */\n",
              "\n",
              "#sk-container-id-1 div.sk-label label {\n",
              "  font-family: monospace;\n",
              "  font-weight: bold;\n",
              "  display: inline-block;\n",
              "  line-height: 1.2em;\n",
              "}\n",
              "\n",
              "#sk-container-id-1 div.sk-label-container {\n",
              "  text-align: center;\n",
              "}\n",
              "\n",
              "/* Estimator-specific */\n",
              "#sk-container-id-1 div.sk-estimator {\n",
              "  font-family: monospace;\n",
              "  border: 1px dotted var(--sklearn-color-border-box);\n",
              "  border-radius: 0.25em;\n",
              "  box-sizing: border-box;\n",
              "  margin-bottom: 0.5em;\n",
              "  /* unfitted */\n",
              "  background-color: var(--sklearn-color-unfitted-level-0);\n",
              "}\n",
              "\n",
              "#sk-container-id-1 div.sk-estimator.fitted {\n",
              "  /* fitted */\n",
              "  background-color: var(--sklearn-color-fitted-level-0);\n",
              "}\n",
              "\n",
              "/* on hover */\n",
              "#sk-container-id-1 div.sk-estimator:hover {\n",
              "  /* unfitted */\n",
              "  background-color: var(--sklearn-color-unfitted-level-2);\n",
              "}\n",
              "\n",
              "#sk-container-id-1 div.sk-estimator.fitted:hover {\n",
              "  /* fitted */\n",
              "  background-color: var(--sklearn-color-fitted-level-2);\n",
              "}\n",
              "\n",
              "/* Specification for estimator info (e.g. \"i\" and \"?\") */\n",
              "\n",
              "/* Common style for \"i\" and \"?\" */\n",
              "\n",
              ".sk-estimator-doc-link,\n",
              "a:link.sk-estimator-doc-link,\n",
              "a:visited.sk-estimator-doc-link {\n",
              "  float: right;\n",
              "  font-size: smaller;\n",
              "  line-height: 1em;\n",
              "  font-family: monospace;\n",
              "  background-color: var(--sklearn-color-background);\n",
              "  border-radius: 1em;\n",
              "  height: 1em;\n",
              "  width: 1em;\n",
              "  text-decoration: none !important;\n",
              "  margin-left: 1ex;\n",
              "  /* unfitted */\n",
              "  border: var(--sklearn-color-unfitted-level-1) 1pt solid;\n",
              "  color: var(--sklearn-color-unfitted-level-1);\n",
              "}\n",
              "\n",
              ".sk-estimator-doc-link.fitted,\n",
              "a:link.sk-estimator-doc-link.fitted,\n",
              "a:visited.sk-estimator-doc-link.fitted {\n",
              "  /* fitted */\n",
              "  border: var(--sklearn-color-fitted-level-1) 1pt solid;\n",
              "  color: var(--sklearn-color-fitted-level-1);\n",
              "}\n",
              "\n",
              "/* On hover */\n",
              "div.sk-estimator:hover .sk-estimator-doc-link:hover,\n",
              ".sk-estimator-doc-link:hover,\n",
              "div.sk-label-container:hover .sk-estimator-doc-link:hover,\n",
              ".sk-estimator-doc-link:hover {\n",
              "  /* unfitted */\n",
              "  background-color: var(--sklearn-color-unfitted-level-3);\n",
              "  color: var(--sklearn-color-background);\n",
              "  text-decoration: none;\n",
              "}\n",
              "\n",
              "div.sk-estimator.fitted:hover .sk-estimator-doc-link.fitted:hover,\n",
              ".sk-estimator-doc-link.fitted:hover,\n",
              "div.sk-label-container:hover .sk-estimator-doc-link.fitted:hover,\n",
              ".sk-estimator-doc-link.fitted:hover {\n",
              "  /* fitted */\n",
              "  background-color: var(--sklearn-color-fitted-level-3);\n",
              "  color: var(--sklearn-color-background);\n",
              "  text-decoration: none;\n",
              "}\n",
              "\n",
              "/* Span, style for the box shown on hovering the info icon */\n",
              ".sk-estimator-doc-link span {\n",
              "  display: none;\n",
              "  z-index: 9999;\n",
              "  position: relative;\n",
              "  font-weight: normal;\n",
              "  right: .2ex;\n",
              "  padding: .5ex;\n",
              "  margin: .5ex;\n",
              "  width: min-content;\n",
              "  min-width: 20ex;\n",
              "  max-width: 50ex;\n",
              "  color: var(--sklearn-color-text);\n",
              "  box-shadow: 2pt 2pt 4pt #999;\n",
              "  /* unfitted */\n",
              "  background: var(--sklearn-color-unfitted-level-0);\n",
              "  border: .5pt solid var(--sklearn-color-unfitted-level-3);\n",
              "}\n",
              "\n",
              ".sk-estimator-doc-link.fitted span {\n",
              "  /* fitted */\n",
              "  background: var(--sklearn-color-fitted-level-0);\n",
              "  border: var(--sklearn-color-fitted-level-3);\n",
              "}\n",
              "\n",
              ".sk-estimator-doc-link:hover span {\n",
              "  display: block;\n",
              "}\n",
              "\n",
              "/* \"?\"-specific style due to the `<a>` HTML tag */\n",
              "\n",
              "#sk-container-id-1 a.estimator_doc_link {\n",
              "  float: right;\n",
              "  font-size: 1rem;\n",
              "  line-height: 1em;\n",
              "  font-family: monospace;\n",
              "  background-color: var(--sklearn-color-background);\n",
              "  border-radius: 1rem;\n",
              "  height: 1rem;\n",
              "  width: 1rem;\n",
              "  text-decoration: none;\n",
              "  /* unfitted */\n",
              "  color: var(--sklearn-color-unfitted-level-1);\n",
              "  border: var(--sklearn-color-unfitted-level-1) 1pt solid;\n",
              "}\n",
              "\n",
              "#sk-container-id-1 a.estimator_doc_link.fitted {\n",
              "  /* fitted */\n",
              "  border: var(--sklearn-color-fitted-level-1) 1pt solid;\n",
              "  color: var(--sklearn-color-fitted-level-1);\n",
              "}\n",
              "\n",
              "/* On hover */\n",
              "#sk-container-id-1 a.estimator_doc_link:hover {\n",
              "  /* unfitted */\n",
              "  background-color: var(--sklearn-color-unfitted-level-3);\n",
              "  color: var(--sklearn-color-background);\n",
              "  text-decoration: none;\n",
              "}\n",
              "\n",
              "#sk-container-id-1 a.estimator_doc_link.fitted:hover {\n",
              "  /* fitted */\n",
              "  background-color: var(--sklearn-color-fitted-level-3);\n",
              "}\n",
              "</style><div id=\"sk-container-id-1\" class=\"sk-top-container\"><div class=\"sk-text-repr-fallback\"><pre>RandomForestClassifier(random_state=42)</pre><b>In a Jupyter environment, please rerun this cell to show the HTML representation or trust the notebook. <br />On GitHub, the HTML representation is unable to render, please try loading this page with nbviewer.org.</b></div><div class=\"sk-container\" hidden><div class=\"sk-item\"><div class=\"sk-estimator fitted sk-toggleable\"><input class=\"sk-toggleable__control sk-hidden--visually\" id=\"sk-estimator-id-1\" type=\"checkbox\" checked><label for=\"sk-estimator-id-1\" class=\"sk-toggleable__label fitted sk-toggleable__label-arrow fitted\">&nbsp;&nbsp;RandomForestClassifier<a class=\"sk-estimator-doc-link fitted\" rel=\"noreferrer\" target=\"_blank\" href=\"https://scikit-learn.org/1.4/modules/generated/sklearn.ensemble.RandomForestClassifier.html\">?<span>Documentation for RandomForestClassifier</span></a><span class=\"sk-estimator-doc-link fitted\">i<span>Fitted</span></span></label><div class=\"sk-toggleable__content fitted\"><pre>RandomForestClassifier(random_state=42)</pre></div> </div></div></div></div>"
            ],
            "text/plain": [
              "RandomForestClassifier(random_state=42)"
            ]
          },
          "execution_count": 90,
          "metadata": {},
          "output_type": "execute_result"
        }
      ],
      "source": [
        "# Retrain the model on the full training dataset\n",
        "\n",
        "rf_model.fit(X_train, Y_train)"
      ]
    },
    {
      "cell_type": "code",
      "execution_count": 91,
      "metadata": {
        "id": "zQVdt_kX8Ds-"
      },
      "outputs": [],
      "source": [
        "# Use the trained model to predict the cluster categories for the test dataset.\n",
        "\n",
        "Y_test_pred = rf_model.predict(X_test)"
      ]
    },
    {
      "cell_type": "code",
      "execution_count": 92,
      "metadata": {
        "id": "O9e5xg7M8Ds-"
      },
      "outputs": [],
      "source": [
        "# Create a CSV file in the required format for submission\n",
        "\n",
        "submission_rf_df = pd.DataFrame({\n",
        "    'Customer_ID': test_df['Customer_ID'],\n",
        "    'cluster_category': Y_test_pred\n",
        "})\n",
        "\n",
        "submission_rf_df.to_csv('submission_rf.csv', index=False)"
      ]
    },
    {
      "cell_type": "code",
      "execution_count": 93,
      "metadata": {
        "id": "IWgbSyNM8Ds-",
        "outputId": "9fdfd868-a4d9-4153-be26-127a07f8765b"
      },
      "outputs": [
        {
          "data": {
            "text/plain": [
              "Customer_ID         0\n",
              "cluster_category    0\n",
              "dtype: int64"
            ]
          },
          "execution_count": 93,
          "metadata": {},
          "output_type": "execute_result"
        }
      ],
      "source": [
        "submission_rf_df.isnull().sum()"
      ]
    },
    {
      "cell_type": "code",
      "execution_count": 94,
      "metadata": {
        "id": "ibFZhObn8Ds-",
        "outputId": "ecc14abe-93bf-40b5-8a4f-433935baec19"
      },
      "outputs": [
        {
          "data": {
            "text/html": [
              "<div>\n",
              "<style scoped>\n",
              "    .dataframe tbody tr th:only-of-type {\n",
              "        vertical-align: middle;\n",
              "    }\n",
              "\n",
              "    .dataframe tbody tr th {\n",
              "        vertical-align: top;\n",
              "    }\n",
              "\n",
              "    .dataframe thead th {\n",
              "        text-align: right;\n",
              "    }\n",
              "</style>\n",
              "<table border=\"1\" class=\"dataframe\">\n",
              "  <thead>\n",
              "    <tr style=\"text-align: right;\">\n",
              "      <th></th>\n",
              "      <th>Customer_ID</th>\n",
              "      <th>cluster_category</th>\n",
              "    </tr>\n",
              "  </thead>\n",
              "  <tbody>\n",
              "    <tr>\n",
              "      <th>0</th>\n",
              "      <td>33574</td>\n",
              "      <td>1</td>\n",
              "    </tr>\n",
              "    <tr>\n",
              "      <th>1</th>\n",
              "      <td>10089</td>\n",
              "      <td>1</td>\n",
              "    </tr>\n",
              "    <tr>\n",
              "      <th>2</th>\n",
              "      <td>38329</td>\n",
              "      <td>1</td>\n",
              "    </tr>\n",
              "    <tr>\n",
              "      <th>3</th>\n",
              "      <td>11376</td>\n",
              "      <td>1</td>\n",
              "    </tr>\n",
              "    <tr>\n",
              "      <th>4</th>\n",
              "      <td>12410</td>\n",
              "      <td>1</td>\n",
              "    </tr>\n",
              "    <tr>\n",
              "      <th>...</th>\n",
              "      <td>...</td>\n",
              "      <td>...</td>\n",
              "    </tr>\n",
              "    <tr>\n",
              "      <th>40744</th>\n",
              "      <td>33698</td>\n",
              "      <td>5</td>\n",
              "    </tr>\n",
              "    <tr>\n",
              "      <th>40745</th>\n",
              "      <td>4185</td>\n",
              "      <td>5</td>\n",
              "    </tr>\n",
              "    <tr>\n",
              "      <th>40746</th>\n",
              "      <td>28664</td>\n",
              "      <td>5</td>\n",
              "    </tr>\n",
              "    <tr>\n",
              "      <th>40747</th>\n",
              "      <td>11874</td>\n",
              "      <td>5</td>\n",
              "    </tr>\n",
              "    <tr>\n",
              "      <th>40748</th>\n",
              "      <td>11431</td>\n",
              "      <td>5</td>\n",
              "    </tr>\n",
              "  </tbody>\n",
              "</table>\n",
              "<p>40749 rows × 2 columns</p>\n",
              "</div>"
            ],
            "text/plain": [
              "       Customer_ID  cluster_category\n",
              "0            33574                 1\n",
              "1            10089                 1\n",
              "2            38329                 1\n",
              "3            11376                 1\n",
              "4            12410                 1\n",
              "...            ...               ...\n",
              "40744        33698                 5\n",
              "40745         4185                 5\n",
              "40746        28664                 5\n",
              "40747        11874                 5\n",
              "40748        11431                 5\n",
              "\n",
              "[40749 rows x 2 columns]"
            ]
          },
          "execution_count": 94,
          "metadata": {},
          "output_type": "execute_result"
        }
      ],
      "source": [
        "submission_rf_df"
      ]
    }
  ],
  "metadata": {
    "colab": {
      "collapsed_sections": [
        "QOJI6ZbU8Ds3",
        "kucO6FdQ8Ds4"
      ],
      "provenance": []
    },
    "kernelspec": {
      "display_name": "Python 3",
      "language": "python",
      "name": "python3"
    },
    "language_info": {
      "codemirror_mode": {
        "name": "ipython",
        "version": 3
      },
      "file_extension": ".py",
      "mimetype": "text/x-python",
      "name": "python",
      "nbconvert_exporter": "python",
      "pygments_lexer": "ipython3",
      "version": "3.11.5"
    }
  },
  "nbformat": 4,
  "nbformat_minor": 0
}
